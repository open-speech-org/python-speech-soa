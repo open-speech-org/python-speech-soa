{
 "cells": [
  {
   "cell_type": "code",
   "execution_count": 24,
   "metadata": {
    "collapsed": true
   },
   "outputs": [],
   "source": [
    "import pandas as pd\n",
    "from matplotlib import pyplot as plt"
   ]
  },
  {
   "cell_type": "code",
   "execution_count": 81,
   "outputs": [],
   "source": [
    "df = pd.read_csv(\"phoneme_length_results_all.txt\")"
   ],
   "metadata": {
    "collapsed": false,
    "pycharm": {
     "name": "#%%\n"
    }
   }
  },
  {
   "cell_type": "code",
   "execution_count": 87,
   "outputs": [
    {
     "data": {
      "text/plain": "              name        aer     length\n2   cropped_F_74_1   0.000000  41.890907\n5   cropped_M_42_1  14.782609  29.702200\n9   cropped_F_56_1   0.000000  37.237392\n12  cropped_M_13_1  30.612245  40.025488\n13  cropped_F_61_1  12.745098  54.361746\n14  cropped_F_52_1  22.000000  13.967302\n16  cropped_M_55_1   8.510638  23.510317\n19  cropped_F_08_1  12.371134  33.434036\n20  cropped_F_66_1   0.000000  33.321315\n22  cropped_F_54_1   7.017544  14.702880",
      "text/html": "<div>\n<style scoped>\n    .dataframe tbody tr th:only-of-type {\n        vertical-align: middle;\n    }\n\n    .dataframe tbody tr th {\n        vertical-align: top;\n    }\n\n    .dataframe thead th {\n        text-align: right;\n    }\n</style>\n<table border=\"1\" class=\"dataframe\">\n  <thead>\n    <tr style=\"text-align: right;\">\n      <th></th>\n      <th>name</th>\n      <th>aer</th>\n      <th>length</th>\n    </tr>\n  </thead>\n  <tbody>\n    <tr>\n      <th>2</th>\n      <td>cropped_F_74_1</td>\n      <td>0.000000</td>\n      <td>41.890907</td>\n    </tr>\n    <tr>\n      <th>5</th>\n      <td>cropped_M_42_1</td>\n      <td>14.782609</td>\n      <td>29.702200</td>\n    </tr>\n    <tr>\n      <th>9</th>\n      <td>cropped_F_56_1</td>\n      <td>0.000000</td>\n      <td>37.237392</td>\n    </tr>\n    <tr>\n      <th>12</th>\n      <td>cropped_M_13_1</td>\n      <td>30.612245</td>\n      <td>40.025488</td>\n    </tr>\n    <tr>\n      <th>13</th>\n      <td>cropped_F_61_1</td>\n      <td>12.745098</td>\n      <td>54.361746</td>\n    </tr>\n    <tr>\n      <th>14</th>\n      <td>cropped_F_52_1</td>\n      <td>22.000000</td>\n      <td>13.967302</td>\n    </tr>\n    <tr>\n      <th>16</th>\n      <td>cropped_M_55_1</td>\n      <td>8.510638</td>\n      <td>23.510317</td>\n    </tr>\n    <tr>\n      <th>19</th>\n      <td>cropped_F_08_1</td>\n      <td>12.371134</td>\n      <td>33.434036</td>\n    </tr>\n    <tr>\n      <th>20</th>\n      <td>cropped_F_66_1</td>\n      <td>0.000000</td>\n      <td>33.321315</td>\n    </tr>\n    <tr>\n      <th>22</th>\n      <td>cropped_F_54_1</td>\n      <td>7.017544</td>\n      <td>14.702880</td>\n    </tr>\n  </tbody>\n</table>\n</div>"
     },
     "execution_count": 87,
     "metadata": {},
     "output_type": "execute_result"
    }
   ],
   "source": [
    "df_menores = df[df['length'] < 80]\n",
    "df_menores"
   ],
   "metadata": {
    "collapsed": false,
    "pycharm": {
     "name": "#%%\n"
    }
   }
  },
  {
   "cell_type": "code",
   "execution_count": 91,
   "outputs": [
    {
     "data": {
      "text/plain": "10.803926781096706"
     },
     "execution_count": 91,
     "metadata": {},
     "output_type": "execute_result"
    }
   ],
   "source": [
    "df_menores['aer'].mean()"
   ],
   "metadata": {
    "collapsed": false,
    "pycharm": {
     "name": "#%%\n"
    }
   }
  },
  {
   "cell_type": "code",
   "execution_count": 99,
   "outputs": [
    {
     "data": {
      "text/plain": "94.6807107718299"
     },
     "execution_count": 99,
     "metadata": {},
     "output_type": "execute_result"
    }
   ],
   "source": [
    "df_mayores = df[df['length'] > 80]['aer'].mean()\n",
    "df_mayores"
   ],
   "metadata": {
    "collapsed": false,
    "pycharm": {
     "name": "#%%\n"
    }
   }
  },
  {
   "cell_type": "code",
   "execution_count": 84,
   "outputs": [
    {
     "name": "stderr",
     "output_type": "stream",
     "text": [
      "/home/ma0/miniconda3/envs/master_thesis/lib/python3.8/site-packages/matplotlib/cbook/__init__.py:1402: FutureWarning: Support for multi-dimensional indexing (e.g. `obj[:, None]`) is deprecated and will be removed in a future version.  Convert to a numpy array before indexing instead.\n",
      "  ndim = x[:, None].ndim\n",
      "/home/ma0/miniconda3/envs/master_thesis/lib/python3.8/site-packages/matplotlib/axes/_base.py:276: FutureWarning: Support for multi-dimensional indexing (e.g. `obj[:, None]`) is deprecated and will be removed in a future version.  Convert to a numpy array before indexing instead.\n",
      "  x = x[:, np.newaxis]\n",
      "/home/ma0/miniconda3/envs/master_thesis/lib/python3.8/site-packages/matplotlib/axes/_base.py:278: FutureWarning: Support for multi-dimensional indexing (e.g. `obj[:, None]`) is deprecated and will be removed in a future version.  Convert to a numpy array before indexing instead.\n",
      "  y = y[:, np.newaxis]\n"
     ]
    },
    {
     "data": {
      "text/plain": "[<matplotlib.lines.Line2D at 0x7f18dbdbd3a0>]"
     },
     "execution_count": 84,
     "metadata": {},
     "output_type": "execute_result"
    },
    {
     "data": {
      "text/plain": "<Figure size 432x288 with 1 Axes>",
      "image/png": "[encoded data removed]"
     },
     "metadata": {
      "needs_background": "light"
     },
     "output_type": "display_data"
    }
   ],
   "source": [
    "94.68plt.plot(df['length'],df['aer'], 'o')"
   ],
   "metadata": {
    "collapsed": false,
    "pycharm": {
     "name": "#%%\n"
    }
   }
  },
  {
   "cell_type": "code",
   "execution_count": 85,
   "outputs": [],
   "source": [
    "\n",
    "df = pd.read_csv(\"phoneme_length_results_all.txt\")"
   ],
   "metadata": {
    "collapsed": false,
    "pycharm": {
     "name": "#%%\n"
    }
   }
  },
  {
   "cell_type": "code",
   "execution_count": 98,
   "outputs": [
    {
     "name": "stderr",
     "output_type": "stream",
     "text": [
      "/home/ma0/miniconda3/envs/master_thesis/lib/python3.8/site-packages/matplotlib/cbook/__init__.py:1402: FutureWarning: Support for multi-dimensional indexing (e.g. `obj[:, None]`) is deprecated and will be removed in a future version.  Convert to a numpy array before indexing instead.\n",
      "  ndim = x[:, None].ndim\n",
      "/home/ma0/miniconda3/envs/master_thesis/lib/python3.8/site-packages/matplotlib/axes/_base.py:276: FutureWarning: Support for multi-dimensional indexing (e.g. `obj[:, None]`) is deprecated and will be removed in a future version.  Convert to a numpy array before indexing instead.\n",
      "  x = x[:, np.newaxis]\n",
      "/home/ma0/miniconda3/envs/master_thesis/lib/python3.8/site-packages/matplotlib/axes/_base.py:278: FutureWarning: Support for multi-dimensional indexing (e.g. `obj[:, None]`) is deprecated and will be removed in a future version.  Convert to a numpy array before indexing instead.\n",
      "  y = y[:, np.newaxis]\n"
     ]
    },
    {
     "data": {
      "text/plain": "<Figure size 432x288 with 1 Axes>",
      "image/png": "[encoded data removed]"
     },
     "metadata": {
      "needs_background": "light"
     },
     "output_type": "display_data"
    }
   ],
   "source": [
    "fig, host = plt.subplots()\n",
    "plt.title(\"Anotación por duración de fonemas\")\n",
    "host.set_ylabel(\"AER\")\n",
    "host.set_xlabel(\"Duración grabación (s)\")\n",
    "host.plot(df['length'],df['aer'], 'o', label=\"AER\")\n",
    "host.plot(\n",
    "    [0, df['length'].max()],\n",
    "    [df['aer'].mean(),df['aer'].mean()],\n",
    "    color='red',\n",
    "    label='AER promedio'\n",
    ")\n",
    "host.plot(\n",
    "    [0, df['length'].max()],\n",
    "    [df_menores['aer'].mean(),df_menores['aer'].mean()],\n",
    "    color='green',\n",
    "    label='AER promedio < 80 s'\n",
    ")\n",
    "host.plot(\n",
    "    [0, df['length'].max()],\n",
    "    [df_mayores,df_mayores],\n",
    "    color='indigo',\n",
    "    label='AER promedio > 80 s'\n",
    ")\n",
    "# host.hlines(df['aer'].mean(), 0, , ')\n",
    "# host.text(2, 2, 'AER ', ha='right', va='center')\n",
    "host.legend()\n",
    "plt.savefig(\"aer_duracion_fonemas.png\")"
   ],
   "metadata": {
    "collapsed": false,
    "pycharm": {
     "name": "#%%\n"
    }
   }
  },
  {
   "cell_type": "code",
   "execution_count": 65,
   "outputs": [
    {
     "data": {
      "text/plain": "58.21254381933719"
     },
     "execution_count": 65,
     "metadata": {},
     "output_type": "execute_result"
    }
   ],
   "source": [
    "\n",
    "df['aer'].mean()"
   ],
   "metadata": {
    "collapsed": false,
    "pycharm": {
     "name": "#%%\n"
    }
   }
  },
  {
   "cell_type": "code",
   "execution_count": 66,
   "outputs": [],
   "source": [
    "df = pd.read_csv(\"naive_results_all.txt.orig\")"
   ],
   "metadata": {
    "collapsed": false,
    "pycharm": {
     "name": "#%%\n"
    }
   }
  },
  {
   "cell_type": "code",
   "execution_count": 67,
   "outputs": [
    {
     "name": "stderr",
     "output_type": "stream",
     "text": [
      "/home/ma0/miniconda3/envs/master_thesis/lib/python3.8/site-packages/matplotlib/cbook/__init__.py:1402: FutureWarning: Support for multi-dimensional indexing (e.g. `obj[:, None]`) is deprecated and will be removed in a future version.  Convert to a numpy array before indexing instead.\n",
      "  ndim = x[:, None].ndim\n",
      "/home/ma0/miniconda3/envs/master_thesis/lib/python3.8/site-packages/matplotlib/axes/_base.py:276: FutureWarning: Support for multi-dimensional indexing (e.g. `obj[:, None]`) is deprecated and will be removed in a future version.  Convert to a numpy array before indexing instead.\n",
      "  x = x[:, np.newaxis]\n",
      "/home/ma0/miniconda3/envs/master_thesis/lib/python3.8/site-packages/matplotlib/axes/_base.py:278: FutureWarning: Support for multi-dimensional indexing (e.g. `obj[:, None]`) is deprecated and will be removed in a future version.  Convert to a numpy array before indexing instead.\n",
      "  y = y[:, np.newaxis]\n"
     ]
    },
    {
     "data": {
      "text/plain": "<Figure size 432x288 with 1 Axes>",
      "image/png": "[encoded data removed]"
     },
     "metadata": {
      "needs_background": "light"
     },
     "output_type": "display_data"
    }
   ],
   "source": [
    "fig, host = plt.subplots()\n",
    "plt.title(\"Anotación Ingénua\")\n",
    "host.set_ylabel(\"AER\")\n",
    "host.set_xlabel(\"Duración grabación (s)\")\n",
    "host.plot(df['length'],df['aer'], 'o', label=\"AER\")\n",
    "host.plot(\n",
    "    [0, df['length'].max()],\n",
    "    [df['aer'].mean(),df['aer'].mean()],\n",
    "    color='red',\n",
    "    label='AER promedio'\n",
    ")\n",
    "# host.hlines(df['aer'].mean(), 0, , ')\n",
    "# host.text(2, 2, 'AER ', ha='right', va='center')\n",
    "host.legend()\n",
    "plt.savefig(\"aer_ingenuo.png\")"
   ],
   "metadata": {
    "collapsed": false,
    "pycharm": {
     "name": "#%%\n"
    }
   }
  },
  {
   "cell_type": "code",
   "execution_count": 68,
   "outputs": [
    {
     "data": {
      "text/plain": "79.13000735697986"
     },
     "execution_count": 68,
     "metadata": {},
     "output_type": "execute_result"
    }
   ],
   "source": [
    "df['aer'].mean()"
   ],
   "metadata": {
    "collapsed": false,
    "pycharm": {
     "name": "#%%\n"
    }
   }
  },
  {
   "cell_type": "code",
   "execution_count": null,
   "outputs": [],
   "source": [],
   "metadata": {
    "collapsed": false,
    "pycharm": {
     "name": "#%%\n"
    }
   }
  }
 ],
 "metadata": {
  "kernelspec": {
   "display_name": "Python 3",
   "language": "python",
   "name": "python3"
  },
  "language_info": {
   "codemirror_mode": {
    "name": "ipython",
    "version": 2
   },
   "file_extension": ".py",
   "mimetype": "text/x-python",
   "name": "python",
   "nbconvert_exporter": "python",
   "pygments_lexer": "ipython2",
   "version": "2.7.6"
  }
 },
 "nbformat": 4,
 "nbformat_minor": 0
}