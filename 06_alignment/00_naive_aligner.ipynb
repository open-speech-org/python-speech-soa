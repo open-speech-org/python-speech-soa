{
 "cells": [
  {
   "cell_type": "code",
   "execution_count": 2,
   "metadata": {
    "collapsed": true
   },
   "outputs": [],
   "source": [
    "import copy\n",
    "import os\n",
    "import re\n",
    "\n",
    "from matplotlib import pyplot as plt\n",
    "import textgrids\n",
    "from scipy.io import wavfile\n",
    "from silence_aligner import extract_segments_from_file\n",
    "import IPython.display\n",
    "from jiwer import wer"
   ]
  },
  {
   "cell_type": "code",
   "execution_count": 3,
   "outputs": [],
   "source": [
    "AUDIOS_FOLDER = \"cropped_audios\"\n",
    "TRANSCRIPTION_FOLDER = \"cropped_annotations\"\n",
    "TEXTS_FOLDER = \"texts\""
   ],
   "metadata": {
    "collapsed": false,
    "pycharm": {
     "name": "#%%\n"
    }
   }
  },
  {
   "cell_type": "code",
   "execution_count": 7,
   "outputs": [],
   "source": [
    "def sent_tokenize(text):\n",
    "    return [x for x in re.split(\"\\.|,|;|:|\\n|!|¿|¡|\\?|-|—|\\(|\\)|«|»\", text) if x.replace(\" \", \"\")]\n",
    "\n",
    "\n",
    "def align_single(base_file_name):\n",
    "    frequency_from_signal, signal = wavfile.read(\n",
    "        os.path.join(\n",
    "            AUDIOS_FOLDER,\n",
    "            f\"{base_file_name}.wav\"\n",
    "        )\n",
    "    )\n",
    "    silences, frequency  = extract_segments_from_file(\n",
    "        os.path.join(\n",
    "            AUDIOS_FOLDER,\n",
    "            f\"{base_file_name}.wav\"\n",
    "        )\n",
    "    )\n",
    "\n",
    "    segments = list()\n",
    "    last_start = 0\n",
    "    for start, stop in silences:\n",
    "        segments.append((last_start, start))\n",
    "        last_start = stop\n",
    "\n",
    "    segments.append((last_start,signal.shape[-1]))\n",
    "    with open(\n",
    "        os.path.join(\n",
    "            TEXTS_FOLDER,\n",
    "            f\"{base_file_name}.txt\"\n",
    "        )\n",
    "    ) as file:\n",
    "        text = \" \".join(file.readlines())\n",
    "\n",
    "    tokens = sent_tokenize(text)\n",
    "    transcription = textgrids.TextGrid(\n",
    "        os.path.join(\n",
    "            TRANSCRIPTION_FOLDER,\n",
    "            f\"{base_file_name}.TextGrid\"\n",
    "        )\n",
    "    )\n",
    "\n",
    "    intervals = transcription[base_file_name.replace(\"cropped_\", \"\")]\n",
    "    alignment = list()\n",
    "    for index, current_segment in enumerate(segments):\n",
    "        try:\n",
    "            alignment.append(\n",
    "                {\n",
    "                    \"text\": tokens[index],\n",
    "                    \"xmin\" : current_segment[0]/frequency,\n",
    "                    \"xmax\" : current_segment[1]/frequency\n",
    "                }\n",
    "            )\n",
    "        except IndexError:\n",
    "            print(\"Breaking on index\", index)\n",
    "            break\n",
    "    wer_list = list()\n",
    "\n",
    "    current_annotation_index = 0\n",
    "    current_interval_index = 0\n",
    "    while current_interval_index < len(intervals):\n",
    "        try:\n",
    "            interval = intervals[current_interval_index]\n",
    "            t_text = interval.text\n",
    "            t_min = interval.xmin\n",
    "            t_max = interval.xmax\n",
    "\n",
    "            a_text = alignment[current_annotation_index][\"text\"]\n",
    "            a_min = alignment[current_annotation_index][\"xmin\"]\n",
    "            a_xmax = alignment[current_annotation_index][\"xmax\"]\n",
    "\n",
    "            if a_xmax < t_max + 1:\n",
    "                print(\"Match: \", a_xmax, t_max + 1,)\n",
    "                wer_list.append((tokens[int(t_text)-1], a_text))\n",
    "            else:\n",
    "                print(\"Not Match\", a_xmax, t_max + 1,)\n",
    "                interval_to_append = [t_text]\n",
    "\n",
    "                while not a_xmax < t_max + 1:\n",
    "                    print(\"trying next\", a_xmax, t_max + 0.5)\n",
    "                    current_interval_index += 1\n",
    "                    interval = intervals[current_interval_index]\n",
    "                    t_text = interval.text\n",
    "                    t_min = interval.xmin\n",
    "                    t_max = interval.xmax\n",
    "                    interval_to_append.append(t_text)\n",
    "                value_to_append = list()\n",
    "                for i in interval_to_append:\n",
    "                    try:\n",
    "                        value_to_append.append(tokens[int(i)-1])\n",
    "                    except ValueError:\n",
    "                        print(\"Error decoding\", i)\n",
    "                wer_list.append((\"\".join(value_to_append), a_text))\n",
    "\n",
    "\n",
    "            current_interval_index += 1\n",
    "            current_annotation_index += 1\n",
    "        except IndexError:\n",
    "            print(\"Exiting on index current_interval_index\", current_interval_index, \"current_annotation_index\", current_annotation_index)\n",
    "            break\n",
    "\n",
    "    wer_values = list()\n",
    "    for x in wer_list:\n",
    "        true_value = x[0].split()\n",
    "        inferred_value = x[1].split()\n",
    "        local_wer = wer(true_value, inferred_value)\n",
    "        percentaje = len(true_value)/ words_count\n",
    "        print(true_value)\n",
    "        print(inferred_value)\n",
    "        print(local_wer)\n",
    "        print(percentaje)\n",
    "        wer_values.append(local_wer * percentaje)\n",
    "    return total_wer * 100"
   ],
   "metadata": {
    "collapsed": false,
    "pycharm": {
     "name": "#%%\n"
    }
   }
  },
  {
   "cell_type": "code",
   "execution_count": 8,
   "outputs": [
    {
     "name": "stdout",
     "output_type": "stream",
     "text": [
      "cropped_F_13_1.TextGrid\n",
      "Desired threshold, 0.05\n",
      "2807376715.761885\n",
      "File not found on cropped_F_13_1.TextGrid\n",
      "cropped_M_45_1.TextGrid\n",
      "Desired threshold, 0.05\n",
      "1693037607.5033379\n",
      "File not found on cropped_M_45_1.TextGrid\n",
      "cropped_M_74_1.TextGrid\n",
      "Desired threshold, 0.05\n",
      "2125183467.5488214\n",
      "File not found on cropped_M_74_1.TextGrid\n",
      "cropped_F_73_1.TextGrid\n",
      "Desired threshold, 0.05\n",
      "3262914028.40407\n",
      "File not found on cropped_F_73_1.TextGrid\n",
      "cropped_M_27_1.TextGrid\n",
      "Desired threshold, 0.05\n",
      "11036553227.861982\n",
      "File not found on cropped_M_27_1.TextGrid\n",
      "cropped_F_60_1.TextGrid\n",
      "Desired threshold, 0.05\n",
      "4381507435.437266\n",
      "File not found on cropped_F_60_1.TextGrid\n",
      "cropped_F_10_1.TextGrid\n",
      "Desired threshold, 0.05\n",
      "269450236.9541746\n",
      "File not found on cropped_F_10_1.TextGrid\n",
      "cropped_M_15_1.TextGrid\n",
      "Desired threshold, 0.05\n",
      "4278862679.0722523\n",
      "File not found on cropped_M_15_1.TextGrid\n",
      "cropped_M_71_1.TextGrid\n",
      "Desired threshold, 0.05\n",
      "0.01088053934242552\n",
      "File not found on cropped_M_71_1.TextGrid\n",
      "cropped_M_70_1.TextGrid\n",
      "Desired threshold, 0.05\n",
      "1620344246.9001057\n",
      "File not found on cropped_M_70_1.TextGrid\n",
      "cropped_F_74_1.TextGrid\n",
      "Desired threshold, 0.05\n",
      "2260028588.27425\n",
      "File not found on cropped_F_74_1.TextGrid\n",
      "cropped_M_61_1.TextGrid\n",
      "Desired threshold, 0.05\n",
      "1926477248.433329\n",
      "File not found on cropped_M_61_1.TextGrid\n",
      "cropped_F_40_1.TextGrid\n",
      "Desired threshold, 0.05\n",
      "9738576635.586637\n",
      "File not found on cropped_F_40_1.TextGrid\n",
      "cropped_M_63_1.TextGrid\n",
      "Desired threshold, 0.05\n",
      "1464485534.7844021\n",
      "File not found on cropped_M_63_1.TextGrid\n",
      "cropped_F_29_1.TextGrid\n",
      "Desired threshold, 0.05\n",
      "1146343467.1599004\n",
      "File not found on cropped_F_29_1.TextGrid\n",
      "cropped_M_04_1.TextGrid\n",
      "Desired threshold, 0.05\n",
      "2143631389.7199247\n",
      "File not found on cropped_M_04_1.TextGrid\n",
      "cropped_M_42_1.TextGrid\n",
      "Desired threshold, 0.05\n",
      "282587056.1031066\n",
      "File not found on cropped_M_42_1.TextGrid\n",
      "cropped_F_30_1.TextGrid\n",
      "Desired threshold, 0.05\n",
      "5116316169.457007\n",
      "File not found on cropped_F_30_1.TextGrid\n",
      "cropped_F_69_1.TextGrid\n",
      "Desired threshold, 0.05\n",
      "5664178716.835491\n",
      "File not found on cropped_F_69_1.TextGrid\n",
      "cropped_M_38_1.TextGrid\n",
      "Desired threshold, 0.05\n",
      "937581638.8489491\n",
      "File not found on cropped_M_38_1.TextGrid\n",
      "cropped_M_30_1.TextGrid\n",
      "Desired threshold, 0.05\n",
      "2030214226.9151628\n",
      "File not found on cropped_M_30_1.TextGrid\n",
      "cropped_F_64_1.TextGrid\n",
      "Desired threshold, 0.05\n",
      "346712317.60320115\n",
      "File not found on cropped_F_64_1.TextGrid\n",
      "cropped_F_34_1.TextGrid\n",
      "Desired threshold, 0.05\n",
      "2216104465.16678\n",
      "File not found on cropped_F_34_1.TextGrid\n",
      "cropped_M_66_1.TextGrid\n",
      "Desired threshold, 0.05\n",
      "2877318357.757764\n",
      "File not found on cropped_M_66_1.TextGrid\n",
      "cropped_F_38_1.TextGrid\n",
      "Desired threshold, 0.05\n",
      "1915418401.8660557\n",
      "File not found on cropped_F_38_1.TextGrid\n",
      "cropped_M_73_1.TextGrid\n",
      "Desired threshold, 0.05\n",
      "1209390911.9698863\n",
      "File not found on cropped_M_73_1.TextGrid\n",
      "cropped_M_06_1.TextGrid\n",
      "Desired threshold, 0.05\n",
      "3242250538.2129173\n",
      "File not found on cropped_M_06_1.TextGrid\n",
      "cropped_F_56_1.TextGrid\n",
      "Desired threshold, 0.05\n",
      "2579080222.640761\n",
      "File not found on cropped_F_56_1.TextGrid\n",
      "cropped_M_11_1.TextGrid\n",
      "Desired threshold, 0.05\n",
      "0.6838903985533173\n",
      "File not found on cropped_M_11_1.TextGrid\n",
      "cropped_F_63_1.TextGrid\n",
      "Desired threshold, 0.05\n",
      "4983479384.606131\n",
      "File not found on cropped_F_63_1.TextGrid\n",
      "cropped_M_01_1.TextGrid\n",
      "Desired threshold, 0.05\n",
      "2340015168.22082\n",
      "File not found on cropped_M_01_1.TextGrid\n",
      "cropped_F_50_1.TextGrid\n",
      "Desired threshold, 0.05\n",
      "4042865982.682248\n",
      "File not found on cropped_F_50_1.TextGrid\n",
      "cropped_F_71_1.TextGrid\n",
      "Desired threshold, 0.05\n",
      "15685938270.088413\n",
      "File not found on cropped_F_71_1.TextGrid\n",
      "cropped_M_13_1.TextGrid\n",
      "Desired threshold, 0.05\n",
      "984423892.2858887\n",
      "File not found on cropped_M_13_1.TextGrid\n",
      "cropped_F_61_1.TextGrid\n",
      "Desired threshold, 0.05\n",
      "90437720.04233474\n",
      "File not found on cropped_F_61_1.TextGrid\n",
      "cropped_F_55_1.TextGrid\n",
      "Desired threshold, 0.05\n",
      "3283568582.826064\n",
      "File not found on cropped_F_55_1.TextGrid\n",
      "cropped_M_05_1.TextGrid\n",
      "Desired threshold, 0.05\n",
      "45.89378613798339\n",
      "File not found on cropped_M_05_1.TextGrid\n",
      "cropped_F_52_1.TextGrid\n",
      "Desired threshold, 0.05\n",
      "253965511.66145498\n",
      "File not found on cropped_F_52_1.TextGrid\n",
      "cropped_F_48_1.TextGrid\n",
      "Desired threshold, 0.05\n",
      "0.0\n",
      "File not found on cropped_F_48_1.TextGrid\n",
      "cropped_M_28_1.TextGrid\n",
      "Desired threshold, 0.05\n",
      "2175358332.363099\n",
      "File not found on cropped_M_28_1.TextGrid\n",
      "cropped_F_19_1.TextGrid\n",
      "Desired threshold, 0.05\n",
      "5067526615.703743\n",
      "File not found on cropped_F_19_1.TextGrid\n",
      "cropped_M_55_1.TextGrid\n",
      "Desired threshold, 0.05\n",
      "2553836923.9303274\n",
      "File not found on cropped_M_55_1.TextGrid\n",
      "cropped_M_68_1.TextGrid\n",
      "Desired threshold, 0.05\n",
      "1485701618.1407895\n",
      "File not found on cropped_M_68_1.TextGrid\n",
      "cropped_F_59_1.TextGrid\n",
      "Desired threshold, 0.05\n",
      "69625.1247842798\n",
      "File not found on cropped_F_59_1.TextGrid\n",
      "cropped_M_41_1.TextGrid\n",
      "Desired threshold, 0.05\n",
      "51849748.332319915\n",
      "File not found on cropped_M_41_1.TextGrid\n",
      "cropped_F_27_1.TextGrid\n",
      "Desired threshold, 0.05\n",
      "1226732668.0901453\n",
      "File not found on cropped_F_27_1.TextGrid\n",
      "cropped_F_33_1.TextGrid\n",
      "Desired threshold, 0.05\n",
      "2282779998.565538\n",
      "File not found on cropped_F_33_1.TextGrid\n",
      "cropped_F_44_1.TextGrid\n",
      "Desired threshold, 0.05\n",
      "10469422339.653046\n",
      "File not found on cropped_F_44_1.TextGrid\n",
      "cropped_F_08_1.TextGrid\n",
      "Desired threshold, 0.05\n",
      "3619967448.9380054\n",
      "File not found on cropped_F_08_1.TextGrid\n",
      "cropped_F_66_1.TextGrid\n",
      "Desired threshold, 0.05\n",
      "1100811061.2859848\n",
      "File not found on cropped_F_66_1.TextGrid\n",
      "cropped_M_72_1.TextGrid\n",
      "Desired threshold, 0.05\n",
      "1.8321683347636957\n",
      "File not found on cropped_M_72_1.TextGrid\n",
      "cropped_F_47_1.TextGrid\n",
      "Desired threshold, 0.05\n",
      "64.29669145911332\n",
      "File not found on cropped_F_47_1.TextGrid\n",
      "cropped_M_67_1.TextGrid\n",
      "Desired threshold, 0.05\n",
      "2.1531615942132682\n",
      "File not found on cropped_M_67_1.TextGrid\n",
      "cropped_M_47_1.TextGrid\n",
      "Desired threshold, 0.05\n",
      "2774194592.5850854\n",
      "File not found on cropped_M_47_1.TextGrid\n",
      "cropped_F_54_1.TextGrid\n",
      "Desired threshold, 0.05\n",
      "1306719933.3806849\n",
      "File not found on cropped_F_54_1.TextGrid\n",
      "cropped_F_70_1.TextGrid\n",
      "Desired threshold, 0.05\n",
      "2340.5989856870037\n",
      "File not found on cropped_F_70_1.TextGrid\n",
      "cropped_M_19_1.TextGrid\n",
      "Desired threshold, 0.05\n",
      "4070710347.4928026\n",
      "File not found on cropped_M_19_1.TextGrid\n",
      "cropped_M_21_1.TextGrid\n",
      "Desired threshold, 0.05\n",
      "10582091578.320267\n",
      "File not found on cropped_M_21_1.TextGrid\n"
     ]
    }
   ],
   "source": [
    "for file_name in os.listdir(TRANSCRIPTION_FOLDER):\n",
    "    print(file_name)\n",
    "    try:\n",
    "        align_single(\n",
    "            file_name.replace(\".TextGrid\", \"\")\n",
    "        )\n",
    "\n",
    "    except FileNotFoundError:\n",
    "        print(\"File not found on\", file_name)\n",
    "    break\n"
   ],
   "metadata": {
    "collapsed": false,
    "pycharm": {
     "name": "#%%\n"
    }
   }
  },
  {
   "cell_type": "code",
   "execution_count": 3,
   "outputs": [
    {
     "data": {
      "text/plain": "'/home/ma0/projects/openspeechorg/python-speech-soa/06_alignment'"
     },
     "execution_count": 3,
     "metadata": {},
     "output_type": "execute_result"
    }
   ],
   "source": [
    "\n",
    "base_file_name = \"cropped_F_08_1\""
   ],
   "metadata": {
    "collapsed": false,
    "pycharm": {
     "name": "#%%\n"
    }
   }
  },
  {
   "cell_type": "code",
   "execution_count": 4,
   "outputs": [
    {
     "data": {
      "text/plain": "[<matplotlib.lines.Line2D at 0x7f9e655be9d0>]"
     },
     "execution_count": 4,
     "metadata": {},
     "output_type": "execute_result"
    },
    {
     "data": {
      "text/plain": "<Figure size 432x288 with 1 Axes>",
      "image/png": "[encoded data removed]"
     },
     "metadata": {
      "needs_background": "light"
     },
     "output_type": "display_data"
    }
   ],
   "source": [
    "\n",
    "frequency_from_signal, signal = wavfile.read(f\"{base_file_name}.wav\")\n",
    "plt.plot(signal)"
   ],
   "metadata": {
    "collapsed": false,
    "pycharm": {
     "name": "#%%\n"
    }
   }
  },
  {
   "cell_type": "code",
   "execution_count": 5,
   "outputs": [
    {
     "name": "stdout",
     "output_type": "stream",
     "text": [
      "Desired threshold, 0.05\n",
      "3619967448.9380054\n"
     ]
    }
   ],
   "source": [
    "silences, frequency  = extract_segments_from_file(f\"{base_file_name}.wav\")"
   ],
   "metadata": {
    "collapsed": false,
    "pycharm": {
     "name": "#%%\n"
    }
   }
  },
  {
   "cell_type": "code",
   "execution_count": 6,
   "outputs": [
    {
     "data": {
      "text/plain": "<Figure size 432x288 with 1 Axes>",
      "image/png": "[encoded data removed]"
     },
     "metadata": {
      "needs_background": "light"
     },
     "output_type": "display_data"
    }
   ],
   "source": [
    "\n",
    "segments = list()\n",
    "last_start = 0\n",
    "for start, stop in silences:\n",
    "    segments.append((last_start, start))\n",
    "    last_start = stop\n",
    "\n",
    "segments.append((last_start,signal.shape[-1]))\n",
    "plt.plot(signal)\n",
    "for start, stop in segments:\n",
    "    plt.axvline(start, color=\"blue\")\n",
    "    plt.axvline(stop, color=\"red\")"
   ],
   "metadata": {
    "collapsed": false,
    "pycharm": {
     "name": "#%%\n"
    }
   }
  },
  {
   "cell_type": "code",
   "execution_count": 7,
   "outputs": [],
   "source": [
    "\n",
    "\n",
    "with open(f\"{base_file_name}.txt\") as file:\n",
    "    text = \" \".join(file.readlines())\n",
    "\n",
    "tokens = sent_tokenize(text)\n",
    "words_count = len(text.split(\" \"))"
   ],
   "metadata": {
    "collapsed": false,
    "pycharm": {
     "name": "#%%\n"
    }
   }
  },
  {
   "cell_type": "code",
   "execution_count": 8,
   "outputs": [
    {
     "data": {
      "text/plain": "['En segura pobreza vive Eumelo',\n ' Con dulce libertad',\n ' y le mantienen',\n ' Las simples aves',\n ' que engañadas vienen',\n ' A los lazos y liga sin recelo',\n ' Por mejor suerte no importuna al cielo',\n ' Ni se muestra envidioso a la que tienen',\n ' Los que con ansia de subir sostienen',\n ' En flacas alas el incierto vuelo',\n ' Muerte tras luengos años no le espanta',\n ' Ni la recibe con indigna queja',\n ' Mas con sosiego grato y faz amiga',\n ' Al fin',\n ' muriendo con pobreza tanta',\n ' Ricos juzga sus hijos',\n ' pues les deja',\n ' La libertad',\n ' las aves y la liga']"
     },
     "execution_count": 8,
     "metadata": {},
     "output_type": "execute_result"
    }
   ],
   "source": [
    "\n",
    "tokens"
   ],
   "metadata": {
    "collapsed": false,
    "pycharm": {
     "name": "#%%\n"
    }
   }
  },
  {
   "cell_type": "code",
   "execution_count": 9,
   "outputs": [],
   "source": [
    "transcription = textgrids.TextGrid(f\"{base_file_name}.TextGrid\")\n",
    "\n",
    "intervals = transcription[base_file_name.replace(\"cropped_\", \"\")]"
   ],
   "metadata": {
    "collapsed": false,
    "pycharm": {
     "name": "#%%\n"
    }
   }
  },
  {
   "cell_type": "code",
   "execution_count": 10,
   "outputs": [
    {
     "data": {
      "text/plain": "[{'text': 'En segura pobreza vive Eumelo', 'xmin': 0.0, 'xmax': 4.3},\n {'text': ' Con dulce libertad', 'xmin': 5.65, 'xmax': 6.69},\n {'text': ' y le mantienen', 'xmin': 7.3, 'xmax': 8.91},\n {'text': ' Las simples aves', 'xmin': 10.04, 'xmax': 13.81},\n {'text': ' que engañadas vienen', 'xmin': 15.63, 'xmax': 18.48},\n {'text': ' A los lazos y liga sin recelo', 'xmin': 19.49, 'xmax': 21.75},\n {'text': ' Por mejor suerte no importuna al cielo',\n  'xmin': 23.26,\n  'xmax': 25.67},\n {'text': ' Ni se muestra envidioso a la que tienen',\n  'xmin': 26.59,\n  'xmax': 28.54},\n {'text': ' Los que con ansia de subir sostienen',\n  'xmin': 30.35,\n  'xmax': 32.78},\n {'text': ' En flacas alas el incierto vuelo', 'xmin': 33.56, 'xmax': 35.14},\n {'text': ' Muerte tras luengos años no le espanta',\n  'xmin': 36.83,\n  'xmax': 38.94},\n {'text': ' Ni la recibe con indigna queja', 'xmin': 40.27, 'xmax': 40.7},\n {'text': ' Mas con sosiego grato y faz amiga', 'xmin': 41.45, 'xmax': 43.0},\n {'text': ' Al fin', 'xmin': 44.09, 'xmax': 45.26},\n {'text': ' muriendo con pobreza tanta',\n  'xmin': 46.81,\n  'xmax': 52.403401360544215}]"
     },
     "execution_count": 10,
     "metadata": {},
     "output_type": "execute_result"
    }
   ],
   "source": [
    "alignment = list()\n",
    "for index, current_segment in enumerate(segments):\n",
    "    try:\n",
    "        alignment.append(\n",
    "            {\n",
    "                \"text\": tokens[index],\n",
    "                \"xmin\" : current_segment[0]/frequency,\n",
    "                \"xmax\" : current_segment[1]/frequency\n",
    "            }\n",
    "        )\n",
    "    except IndexError:\n",
    "        print(\"Breaking on index\", index)\n",
    "        break\n",
    "\n",
    "alignment"
   ],
   "metadata": {
    "collapsed": false,
    "pycharm": {
     "name": "#%%\n"
    }
   }
  },
  {
   "cell_type": "code",
   "execution_count": 11,
   "outputs": [
    {
     "data": {
      "text/plain": "[<Interval text=\"1\" xmin=0.0 xmax=5.317000166059568>,\n <Interval text=\"2\" xmin=5.317000166059568 xmax=6.937603181134946>,\n <Interval text=\"3\" xmin=6.937603181134946 xmax=8.119690086248752>,\n <Interval text=\"4\" xmin=8.119690086248752 xmax=9.835622690446208>,\n <Interval text=\"5\" xmin=9.835622690446208 xmax=11.475291623346003>,\n <Interval text=\"6\" xmin=11.475291623346003 xmax=15.548123785583698>,\n <Interval text=\"7\" xmin=15.548123785583698 xmax=19.202865166166973>,\n <Interval text=\"8\" xmin=19.202865166166973 xmax=23.39701482603091>,\n <Interval text=\"9\" xmin=23.39701482603091 xmax=26.277014826030914>,\n <Interval text=\"10\" xmin=26.277014826030914 xmax=29.990733646892593>,\n <Interval text=\"11\" xmin=29.990733646892593 xmax=33.36846607319645>,\n <Interval text=\"12\" xmin=33.36846607319645 xmax=36.27554090312842>,\n <Interval text=\"13\" xmin=36.27554090312842 xmax=39.790416186575136>,\n <Interval text=\"14\" xmin=39.790416186575136 xmax=41.511776730792825>,\n <Interval text=\"15\" xmin=41.511776730792825 xmax=43.72703750176789>,\n <Interval text=\"16\" xmin=43.72703750176789 xmax=46.2340896559629>,\n <Interval text=\"17\" xmin=46.2340896559629 xmax=47.73735306952624>,\n <Interval text=\"18\" xmin=47.73735306952624 xmax=48.983568114012776>,\n <Interval text=\"19\" xmin=48.983568114012776 xmax=50.78402162875201>,\n <Interval text=\"\" xmin=50.78402162875201 xmax=52.40338670811709>,\n <Interval text=\"\" xmin=52.40338670811709 xmax=64.65898761514657>]"
     },
     "execution_count": 11,
     "metadata": {},
     "output_type": "execute_result"
    }
   ],
   "source": [
    "intervals"
   ],
   "metadata": {
    "collapsed": false,
    "pycharm": {
     "name": "#%%\n"
    }
   }
  },
  {
   "cell_type": "code",
   "execution_count": 12,
   "outputs": [
    {
     "name": "stdout",
     "output_type": "stream",
     "text": [
      "Match:  4.3 6.317000166059568\n",
      "Match:  6.69 7.937603181134946\n",
      "Match:  8.91 9.119690086248752\n",
      "Not Match 13.81 10.835622690446208\n",
      "trying next 13.81 10.335622690446208\n",
      "trying next 13.81 11.975291623346003\n",
      "Match:  18.48 20.202865166166973\n",
      "Match:  21.75 24.39701482603091\n",
      "Match:  25.67 27.277014826030914\n",
      "Match:  28.54 30.990733646892593\n",
      "Match:  32.78 34.36846607319645\n",
      "Match:  35.14 37.27554090312842\n",
      "Match:  38.94 40.790416186575136\n",
      "Match:  40.7 42.511776730792825\n",
      "Match:  43.0 44.72703750176789\n",
      "Match:  45.26 47.2340896559629\n",
      "Not Match 52.403401360544215 48.73735306952624\n",
      "trying next 52.403401360544215 48.23735306952624\n",
      "trying next 52.403401360544215 49.483568114012776\n",
      "trying next 52.403401360544215 51.28402162875201\n",
      "Error decoding \n",
      "Exiting on index current_interval_index 20 current_annotation_index 15\n"
     ]
    }
   ],
   "source": [
    "wer_list = list()\n",
    "\n",
    "current_annotation_index = 0\n",
    "current_interval_index = 0\n",
    "while current_interval_index < len(intervals):\n",
    "    try:\n",
    "        interval = intervals[current_interval_index]\n",
    "        t_text = interval.text\n",
    "        t_min = interval.xmin\n",
    "        t_max = interval.xmax\n",
    "\n",
    "        a_text = alignment[current_annotation_index][\"text\"]\n",
    "        a_min = alignment[current_annotation_index][\"xmin\"]\n",
    "        a_xmax = alignment[current_annotation_index][\"xmax\"]\n",
    "\n",
    "        if a_xmax < t_max + 1:\n",
    "            print(\"Match: \", a_xmax, t_max + 1,)\n",
    "            wer_list.append((tokens[int(t_text)-1], a_text))\n",
    "        else:\n",
    "            print(\"Not Match\", a_xmax, t_max + 1,)\n",
    "            interval_to_append = [t_text]\n",
    "\n",
    "            while not a_xmax < t_max + 1:\n",
    "                print(\"trying next\", a_xmax, t_max + 0.5)\n",
    "                current_interval_index += 1\n",
    "                interval = intervals[current_interval_index]\n",
    "                t_text = interval.text\n",
    "                t_min = interval.xmin\n",
    "                t_max = interval.xmax\n",
    "                interval_to_append.append(t_text)\n",
    "            value_to_append = list()\n",
    "            for i in interval_to_append:\n",
    "                try:\n",
    "                    value_to_append.append(tokens[int(i)-1])\n",
    "                except ValueError:\n",
    "                    print(\"Error decoding\", i)\n",
    "            wer_list.append((\"\".join(value_to_append), a_text))\n",
    "\n",
    "\n",
    "        current_interval_index += 1\n",
    "        current_annotation_index += 1\n",
    "    except IndexError:\n",
    "        print(\"Exiting on index current_interval_index\", current_interval_index, \"current_annotation_index\", current_annotation_index)\n",
    "        break"
   ],
   "metadata": {
    "collapsed": false,
    "pycharm": {
     "name": "#%%\n"
    }
   }
  },
  {
   "cell_type": "code",
   "execution_count": 13,
   "outputs": [
    {
     "data": {
      "text/plain": "[('En segura pobreza vive Eumelo', 'En segura pobreza vive Eumelo'),\n (' Con dulce libertad', ' Con dulce libertad'),\n (' y le mantienen', ' y le mantienen'),\n (' Las simples aves que engañadas vienen A los lazos y liga sin recelo',\n  ' Las simples aves'),\n (' Por mejor suerte no importuna al cielo', ' que engañadas vienen'),\n (' Ni se muestra envidioso a la que tienen',\n  ' A los lazos y liga sin recelo'),\n (' Los que con ansia de subir sostienen',\n  ' Por mejor suerte no importuna al cielo'),\n (' En flacas alas el incierto vuelo',\n  ' Ni se muestra envidioso a la que tienen'),\n (' Muerte tras luengos años no le espanta',\n  ' Los que con ansia de subir sostienen'),\n (' Ni la recibe con indigna queja', ' En flacas alas el incierto vuelo'),\n (' Mas con sosiego grato y faz amiga',\n  ' Muerte tras luengos años no le espanta'),\n (' Al fin', ' Ni la recibe con indigna queja'),\n (' muriendo con pobreza tanta', ' Mas con sosiego grato y faz amiga'),\n (' Ricos juzga sus hijos', ' Al fin'),\n (' pues les deja La libertad las aves y la liga',\n  ' muriendo con pobreza tanta')]"
     },
     "execution_count": 13,
     "metadata": {},
     "output_type": "execute_result"
    }
   ],
   "source": [
    "wer_list\n"
   ],
   "metadata": {
    "collapsed": false,
    "pycharm": {
     "name": "#%%\n"
    }
   }
  },
  {
   "cell_type": "code",
   "execution_count": 14,
   "outputs": [
    {
     "name": "stdout",
     "output_type": "stream",
     "text": [
      "['En', 'segura', 'pobreza', 'vive', 'Eumelo']\n",
      "['En', 'segura', 'pobreza', 'vive', 'Eumelo']\n",
      "0.0\n",
      "0.052083333333333336\n",
      "['Con', 'dulce', 'libertad']\n",
      "['Con', 'dulce', 'libertad']\n",
      "0.0\n",
      "0.03125\n",
      "['y', 'le', 'mantienen']\n",
      "['y', 'le', 'mantienen']\n",
      "0.0\n",
      "0.03125\n",
      "['Las', 'simples', 'aves', 'que', 'engañadas', 'vienen', 'A', 'los', 'lazos', 'y', 'liga', 'sin', 'recelo']\n",
      "['Las', 'simples', 'aves']\n",
      "0.7692307692307693\n",
      "0.13541666666666666\n",
      "['Por', 'mejor', 'suerte', 'no', 'importuna', 'al', 'cielo']\n",
      "['que', 'engañadas', 'vienen']\n",
      "1.0\n",
      "0.07291666666666667\n",
      "['Ni', 'se', 'muestra', 'envidioso', 'a', 'la', 'que', 'tienen']\n",
      "['A', 'los', 'lazos', 'y', 'liga', 'sin', 'recelo']\n",
      "1.0\n",
      "0.08333333333333333\n",
      "['Los', 'que', 'con', 'ansia', 'de', 'subir', 'sostienen']\n",
      "['Por', 'mejor', 'suerte', 'no', 'importuna', 'al', 'cielo']\n",
      "1.0\n",
      "0.07291666666666667\n",
      "['En', 'flacas', 'alas', 'el', 'incierto', 'vuelo']\n",
      "['Ni', 'se', 'muestra', 'envidioso', 'a', 'la', 'que', 'tienen']\n",
      "1.3333333333333333\n",
      "0.0625\n",
      "['Muerte', 'tras', 'luengos', 'años', 'no', 'le', 'espanta']\n",
      "['Los', 'que', 'con', 'ansia', 'de', 'subir', 'sostienen']\n",
      "1.0\n",
      "0.07291666666666667\n",
      "['Ni', 'la', 'recibe', 'con', 'indigna', 'queja']\n",
      "['En', 'flacas', 'alas', 'el', 'incierto', 'vuelo']\n",
      "1.0\n",
      "0.0625\n",
      "['Mas', 'con', 'sosiego', 'grato', 'y', 'faz', 'amiga']\n",
      "['Muerte', 'tras', 'luengos', 'años', 'no', 'le', 'espanta']\n",
      "1.0\n",
      "0.07291666666666667\n",
      "['Al', 'fin']\n",
      "['Ni', 'la', 'recibe', 'con', 'indigna', 'queja']\n",
      "3.0\n",
      "0.020833333333333332\n",
      "['muriendo', 'con', 'pobreza', 'tanta']\n",
      "['Mas', 'con', 'sosiego', 'grato', 'y', 'faz', 'amiga']\n",
      "1.5\n",
      "0.041666666666666664\n",
      "['Ricos', 'juzga', 'sus', 'hijos']\n",
      "['Al', 'fin']\n",
      "1.0\n",
      "0.041666666666666664\n",
      "['pues', 'les', 'deja', 'La', 'libertad', 'las', 'aves', 'y', 'la', 'liga']\n",
      "['muriendo', 'con', 'pobreza', 'tanta']\n",
      "1.0\n",
      "0.10416666666666667\n"
     ]
    },
    {
     "data": {
      "text/plain": "[0.0,\n 0.0,\n 0.0,\n 0.10416666666666667,\n 0.07291666666666667,\n 0.08333333333333333,\n 0.07291666666666667,\n 0.08333333333333333,\n 0.07291666666666667,\n 0.0625,\n 0.07291666666666667,\n 0.0625,\n 0.0625,\n 0.041666666666666664,\n 0.10416666666666667]"
     },
     "execution_count": 14,
     "metadata": {},
     "output_type": "execute_result"
    }
   ],
   "source": [
    "wer_values = list()\n",
    "for x in wer_list:\n",
    "    true_value = x[0].split()\n",
    "    inferred_value = x[1].split()\n",
    "    local_wer = wer(true_value, inferred_value)\n",
    "    percentaje = len(true_value)/ words_count\n",
    "    print(true_value)\n",
    "    print(inferred_value)\n",
    "    print(local_wer)\n",
    "    print(percentaje)\n",
    "    wer_values.append(local_wer * percentaje)\n",
    "\n",
    "wer_values"
   ],
   "metadata": {
    "collapsed": false,
    "pycharm": {
     "name": "#%%\n"
    }
   }
  },
  {
   "cell_type": "code",
   "execution_count": 15,
   "outputs": [
    {
     "data": {
      "text/plain": "0.8958333333333333"
     },
     "execution_count": 15,
     "metadata": {},
     "output_type": "execute_result"
    }
   ],
   "source": [
    "sum(wer_values)"
   ],
   "metadata": {
    "collapsed": false,
    "pycharm": {
     "name": "#%%\n"
    }
   }
  },
  {
   "cell_type": "code",
   "execution_count": 16,
   "outputs": [
    {
     "data": {
      "text/plain": "89.58333333333333"
     },
     "execution_count": 16,
     "metadata": {},
     "output_type": "execute_result"
    }
   ],
   "source": [
    "total_wer = sum(wer_values)\n",
    "total_wer * 100"
   ],
   "metadata": {
    "collapsed": false,
    "pycharm": {
     "name": "#%%\n"
    }
   }
  },
  {
   "cell_type": "code",
   "execution_count": 3,
   "outputs": [
    {
     "data": {
      "text/plain": "1.0"
     },
     "execution_count": 3,
     "metadata": {},
     "output_type": "execute_result"
    }
   ],
   "source": [
    "wer([\"a\", \"b\", \"c\", \"d\"], [\"1\", \"2\", \"3\", \"4\"])"
   ],
   "metadata": {
    "collapsed": false,
    "pycharm": {
     "name": "#%%\n"
    }
   }
  },
  {
   "cell_type": "code",
   "execution_count": 4,
   "outputs": [
    {
     "data": {
      "text/plain": "0.0"
     },
     "execution_count": 4,
     "metadata": {},
     "output_type": "execute_result"
    }
   ],
   "source": [
    "wer([\"a\", \"b\", \"c\", \"d\"], [\"a\", \"b\", \"c\", \"d\"])"
   ],
   "metadata": {
    "collapsed": false,
    "pycharm": {
     "name": "#%%\n"
    }
   }
  },
  {
   "cell_type": "code",
   "execution_count": 5,
   "outputs": [
    {
     "data": {
      "text/plain": "0.5"
     },
     "execution_count": 5,
     "metadata": {},
     "output_type": "execute_result"
    }
   ],
   "source": [
    "wer([\"a\", \"b\", \"c\", \"d\"], [\"a\", \"b\"])"
   ],
   "metadata": {
    "collapsed": false,
    "pycharm": {
     "name": "#%%\n"
    }
   }
  },
  {
   "cell_type": "code",
   "execution_count": 6,
   "outputs": [
    {
     "data": {
      "text/plain": "0.75"
     },
     "execution_count": 6,
     "metadata": {},
     "output_type": "execute_result"
    }
   ],
   "source": [
    "wer([\"a\", \"b\", \"c\", \"d\"], [\"s\", \"a\", \"b\"])\n"
   ],
   "metadata": {
    "collapsed": false,
    "pycharm": {
     "name": "#%%\n"
    }
   }
  },
  {
   "cell_type": "code",
   "execution_count": 8,
   "outputs": [
    {
     "data": {
      "text/plain": "0.5"
     },
     "execution_count": 8,
     "metadata": {},
     "output_type": "execute_result"
    }
   ],
   "source": [
    "wer([\"a\", \"b\"], [\"s\", \"a\", \"b\"])"
   ],
   "metadata": {
    "collapsed": false,
    "pycharm": {
     "name": "#%%\n"
    }
   }
  },
  {
   "cell_type": "code",
   "execution_count": 7,
   "outputs": [
    {
     "data": {
      "text/plain": "0.0"
     },
     "execution_count": 7,
     "metadata": {},
     "output_type": "execute_result"
    }
   ],
   "source": [
    "\n",
    "wer(['En', 'segura', 'pobreza', 'vive', 'Eumelo'],\n",
    "    ['En', 'segura', 'pobreza', 'vive', 'Eumelo'])"
   ],
   "metadata": {
    "collapsed": false,
    "pycharm": {
     "name": "#%%\n"
    }
   }
  },
  {
   "cell_type": "code",
   "execution_count": 9,
   "outputs": [
    {
     "data": {
      "text/plain": "1.5"
     },
     "execution_count": 9,
     "metadata": {},
     "output_type": "execute_result"
    }
   ],
   "source": [
    "\n",
    "wer(['muriendo', 'con', 'pobreza', 'tanta'],\n",
    "['Mas', 'con', 'sosiego', 'grato', 'y', 'faz', 'amiga'])"
   ],
   "metadata": {
    "collapsed": false,
    "pycharm": {
     "name": "#%%\n"
    }
   }
  },
  {
   "cell_type": "code",
   "execution_count": null,
   "outputs": [],
   "source": [],
   "metadata": {
    "collapsed": false,
    "pycharm": {
     "name": "#%%\n"
    }
   }
  }
 ],
 "metadata": {
  "kernelspec": {
   "display_name": "Python 3",
   "language": "python",
   "name": "python3"
  },
  "language_info": {
   "codemirror_mode": {
    "name": "ipython",
    "version": 2
   },
   "file_extension": ".py",
   "mimetype": "text/x-python",
   "name": "python",
   "nbconvert_exporter": "python",
   "pygments_lexer": "ipython2",
   "version": "2.7.6"
  }
 },
 "nbformat": 4,
 "nbformat_minor": 0
}