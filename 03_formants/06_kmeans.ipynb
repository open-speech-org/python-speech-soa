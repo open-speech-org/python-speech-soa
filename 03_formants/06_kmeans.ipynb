{
 "cells": [
  {
   "cell_type": "code",
   "execution_count": 1,
   "metadata": {
    "collapsed": true
   },
   "outputs": [],
   "source": [
    "\n",
    "from sklearn.cluster import KMeans\n",
    "import pandas as pd\n",
    "import numpy as np"
   ]
  },
  {
   "cell_type": "code",
   "execution_count": 12,
   "outputs": [],
   "source": [
    "vowels = pd.read_csv(\"vowel_vectors.csv\")"
   ],
   "metadata": {
    "collapsed": false,
    "pycharm": {
     "name": "#%%\n"
    }
   }
  },
  {
   "cell_type": "code",
   "execution_count": 14,
   "outputs": [],
   "source": [
    "theoretical_formants = np.array([\n",
    "    (650, 1300, 50),\n",
    "    (450, 1800, 50),\n",
    "    (300, 2200, 50),\n",
    "    (450, 1000, 50),\n",
    "    (300, 1000, 50),\n",
    "])\n",
    "\n",
    "\n",
    "theoretical_without_intensity = KMeans(n_clusters=5, init=theoretical_formants)\n",
    "\n",
    "only_f1_f2 = vowels[[\"f1\", \"f2\", \"intensity\"]].dropna()"
   ],
   "metadata": {
    "collapsed": false,
    "pycharm": {
     "name": "#%%\n"
    }
   }
  },
  {
   "cell_type": "code",
   "execution_count": 15,
   "outputs": [
    {
     "name": "stderr",
     "output_type": "stream",
     "text": [
      "<ipython-input-15-9ef9514c82da>:1: RuntimeWarning: Explicit initial center position passed: performing only one init in k-means instead of n_init=10\n",
      "  theoretical_without_intensity.fit(only_f1_f2.values)\n"
     ]
    },
    {
     "data": {
      "text/plain": "array([[ 744.41635412, 1372.68152647,   70.34459972],\n       [ 513.02406636, 1670.63434564,   72.53580052],\n       [ 511.49099198, 2111.05273377,   73.54341813],\n       [ 479.35441816,  894.07519235,   71.62626969],\n       [ 471.86404497, 1252.53821077,   70.69878794]])"
     },
     "execution_count": 15,
     "metadata": {},
     "output_type": "execute_result"
    }
   ],
   "source": [
    "theoretical_without_intensity.fit(only_f1_f2.values)\n",
    "\n",
    "theoretical_without_intensity.cluster_centers_"
   ],
   "metadata": {
    "collapsed": false,
    "pycharm": {
     "name": "#%%\n"
    }
   }
  },
  {
   "cell_type": "code",
   "execution_count": 11,
   "outputs": [
    {
     "data": {
      "text/plain": "array([0, 0, 0, ..., 0, 0, 0], dtype=int32)"
     },
     "execution_count": 11,
     "metadata": {},
     "output_type": "execute_result"
    }
   ],
   "source": [
    "theoretical_without_intensity.labels_\n"
   ],
   "metadata": {
    "collapsed": false,
    "pycharm": {
     "name": "#%%\n"
    }
   }
  },
  {
   "cell_type": "code",
   "execution_count": null,
   "outputs": [],
   "source": [
    "kmeans_theorethical_centers = {\n",
    "    \"a\": [ 745.95822783, 1372.97015201, 70.34459972],\n",
    "    \"e\": [ 513.45922943, 1660.80486614, 72.53580052],\n",
    "    \"i\": [ 520.34845078, 2102.12912086, 73.54341813],\n",
    "    \"o\": [ 478.93688623,  893.2153884,  71.62626969],\n",
    "    \"u\": [ 472.41973725, 1251.09102164, 70.69878794]\n",
    "}"
   ],
   "metadata": {
    "collapsed": false,
    "pycharm": {
     "name": "#%%\n"
    }
   }
  }
 ],
 "metadata": {
  "kernelspec": {
   "display_name": "Python 3",
   "language": "python",
   "name": "python3"
  },
  "language_info": {
   "codemirror_mode": {
    "name": "ipython",
    "version": 2
   },
   "file_extension": ".py",
   "mimetype": "text/x-python",
   "name": "python",
   "nbconvert_exporter": "python",
   "pygments_lexer": "ipython2",
   "version": "2.7.6"
  }
 },
 "nbformat": 4,
 "nbformat_minor": 0
}