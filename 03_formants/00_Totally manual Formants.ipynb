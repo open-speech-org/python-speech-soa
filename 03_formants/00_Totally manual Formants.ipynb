{
 "cells": [
  {
   "cell_type": "code",
   "execution_count": 140,
   "metadata": {},
   "outputs": [],
   "source": [
    "import numpy as np\n",
    "from scipy import signal\n",
    "from scipy import fftpack\n",
    "from scipy.io import wavfile\n",
    "import matplotlib.pyplot as plt\n",
    "from matplotlib.cm import get_cmap"
   ]
  },
  {
   "cell_type": "code",
   "execution_count": 141,
   "metadata": {},
   "outputs": [],
   "source": [
    "def calculate_pad_size(signal_length, window_width, window_offset):\n",
    "    useful_space = signal_length % window_offset\n",
    "    return int(window_width - useful_space) if useful_space != 0 else window_width - window_offset\n",
    "\n",
    "def extract_overlapping_frames_from_signal(signal, window_width, window_offset):\n",
    "    signal_length = signal.shape[-1]\n",
    "    # We fill the signal to ensure the last frame has the appropriate length\n",
    "    padding_needed = calculate_pad_size(signal_length, window_width, window_offset)\n",
    "    padded_signal = np.concatenate(\n",
    "        (\n",
    "            signal,\n",
    "            np.zeros(padding_needed)\n",
    "        )\n",
    "    )\n",
    "    initial_frame_index = np.tile(\n",
    "        np.arange(0, signal_length, window_offset),\n",
    "        (window_width, 1)\n",
    "    ).T\n",
    "    consecutive_indexes_to_add = np.tile(\n",
    "        np.arange(0, window_width),\n",
    "        (initial_frame_index.shape[0], 1)\n",
    "    )\n",
    "    frame_indexes = initial_frame_index + consecutive_indexes_to_add\n",
    "\n",
    "    return padded_signal[frame_indexes]\n",
    "\n",
    "def replace_zeros_with_almost_zero(signal):\n",
    "    \"\"\"\n",
    "    This function replaces all zeros in a nd array with the non-zero smallest value representable\n",
    "    :param signal:\n",
    "    :return:\n",
    "    \"\"\"\n",
    "    return np.where(signal == 0, np.finfo(float).eps, signal)\n",
    "\n",
    "def safe_log(signal):\n",
    "    \"\"\"\n",
    "    Execute a safe log operation replacing all ceros with almost zeros\n",
    "    :param signal: \n",
    "    :return: \n",
    "    \"\"\"\n",
    "    return np.log(replace_zeros_with_almost_zero(signal))\n",
    "\n",
    "hamming = signal.windows.hamming\n",
    "\n",
    "\n",
    "def apply_window_function_to_frames(frames, window_function=hamming):\n",
    "    if len(frames.shape) != 2:\n",
    "        raise ValueError('This functions requires a 2D array')\n",
    "    window_values = window_function(frames.shape[1])\n",
    "    return np.apply_along_axis(lambda x: x * window_values, 1, frames)\n"
   ]
  },
  {
   "cell_type": "code",
   "execution_count": 142,
   "metadata": {},
   "outputs": [],
   "source": [
    "\n",
    "frequency, signal = wavfile.read(\"male_a_spa.wav\")\n",
    "signal = signal[:,0]"
   ]
  },
  {
   "cell_type": "code",
   "execution_count": 143,
   "metadata": {},
   "outputs": [
    {
     "data": {
      "text/plain": [
       "(16043,)"
      ]
     },
     "execution_count": 143,
     "metadata": {},
     "output_type": "execute_result"
    }
   ],
   "source": [
    "signal.shape"
   ]
  },
  {
   "cell_type": "code",
   "execution_count": 144,
   "metadata": {},
   "outputs": [
    {
     "data": {
      "text/plain": [
       "16000"
      ]
     },
     "execution_count": 144,
     "metadata": {},
     "output_type": "execute_result"
    }
   ],
   "source": [
    "frequency"
   ]
  },
  {
   "cell_type": "code",
   "execution_count": 175,
   "metadata": {},
   "outputs": [],
   "source": [
    "window_width = int(frequency * 0.025)\n",
    "window_offset = int(frequency * 0.01)\n",
    "frames = extract_overlapping_frames_from_signal(signal, window_width, window_offset)\n",
    "windowed_frames = apply_window_function_to_frames(frames)\n",
    "windowed_frames_with_fourier_transform = fftpack.rfft(frames)\n",
    "absolute_value_frames = np.absolute(windowed_frames_with_fourier_transform)\n",
    "power_of_fft_frames = absolute_value_frames**2\n",
    "windowed_frames_with_fourier_transform=power_of_fft_frames"
   ]
  },
  {
   "cell_type": "code",
   "execution_count": 176,
   "metadata": {},
   "outputs": [
    {
     "data": {
      "text/plain": [
       "(101, 400)"
      ]
     },
     "execution_count": 176,
     "metadata": {},
     "output_type": "execute_result"
    }
   ],
   "source": [
    "windowed_frames_with_fourier_transform.shape"
   ]
  },
  {
   "cell_type": "code",
   "execution_count": 177,
   "metadata": {},
   "outputs": [],
   "source": [
    "cmap=get_cmap(\"coolwarm\")"
   ]
  },
  {
   "cell_type": "code",
   "execution_count": 178,
   "metadata": {},
   "outputs": [
    {
     "data": {
      "text/plain": [
       "(101,)"
      ]
     },
     "execution_count": 178,
     "metadata": {},
     "output_type": "execute_result"
    }
   ],
   "source": [
    "time_range = np.arange(0,windowed_frames_with_fourier_transform.shape[0])\n",
    "time_range.shape"
   ]
  },
  {
   "cell_type": "code",
   "execution_count": 179,
   "metadata": {},
   "outputs": [
    {
     "data": {
      "text/plain": [
       "(400,)"
      ]
     },
     "execution_count": 179,
     "metadata": {},
     "output_type": "execute_result"
    }
   ],
   "source": [
    "frequency_range = np.arange(0,windowed_frames_with_fourier_transform.shape[1])\n",
    "frequency_range.shape"
   ]
  },
  {
   "cell_type": "code",
   "execution_count": 180,
   "metadata": {},
   "outputs": [],
   "source": [
    "spectrogram = windowed_frames_with_fourier_transform.T"
   ]
  },
  {
   "cell_type": "code",
   "execution_count": 181,
   "metadata": {},
   "outputs": [],
   "source": [
    "time_range= time_range.astype('float64')\n",
    "time_range *=  (signal.shape[0]/frequency)/time_range.shape[0]"
   ]
  },
  {
   "cell_type": "code",
   "execution_count": 182,
   "metadata": {},
   "outputs": [],
   "source": [
    "frequency_range = frequency_range.astype('float64')\n",
    "frequency_range *= (frequency/2)/frequency_range.shape[0]"
   ]
  },
  {
   "cell_type": "code",
   "execution_count": 183,
   "metadata": {},
   "outputs": [
    {
     "data": {
      "text/plain": [
       "<matplotlib.collections.QuadMesh at 0x7f167fbb1a00>"
      ]
     },
     "execution_count": 183,
     "metadata": {},
     "output_type": "execute_result"
    },
    {
     "data": {
      "image/png": "[encoded data removed]",
      "text/plain": [
       "<Figure size 432x288 with 1 Axes>"
      ]
     },
     "metadata": {
      "needs_background": "light"
     },
     "output_type": "display_data"
    }
   ],
   "source": [
    "\n",
    "plt.pcolormesh(\n",
    "    time_range,\n",
    "    frequency_range, \n",
    "    spectrogram, \n",
    "    cmap=cmap)"
   ]
  },
  {
   "cell_type": "code",
   "execution_count": 184,
   "metadata": {},
   "outputs": [
    {
     "data": {
      "text/plain": [
       "array([[71]])"
      ]
     },
     "execution_count": 184,
     "metadata": {},
     "output_type": "execute_result"
    }
   ],
   "source": [
    "peak = np.argwhere(time_range == time_range[(time_range>0.7)][0])\n",
    "peak"
   ]
  },
  {
   "cell_type": "code",
   "execution_count": 185,
   "metadata": {},
   "outputs": [
    {
     "data": {
      "text/plain": [
       "[<matplotlib.lines.Line2D at 0x7f167fb02640>]"
      ]
     },
     "execution_count": 185,
     "metadata": {},
     "output_type": "execute_result"
    },
    {
     "data": {
      "image/png": "[encoded data removed]",
      "text/plain": [
       "<Figure size 432x288 with 1 Axes>"
      ]
     },
     "metadata": {
      "needs_background": "light"
     },
     "output_type": "display_data"
    }
   ],
   "source": [
    "plt.plot(frequency_range, spectrogram.T[peak[0][0]])"
   ]
  },
  {
   "cell_type": "code",
   "execution_count": 159,
   "metadata": {},
   "outputs": [
    {
     "data": {
      "text/plain": [
       "array([0.00000000e+00, 0.00000000e+00, 0.00000000e+00, 0.00000000e+00,\n",
       "       0.00000000e+00, 0.00000000e+00, 0.00000000e+00, 0.00000000e+00,\n",
       "       0.00000000e+00, 0.00000000e+00, 0.00000000e+00, 0.00000000e+00,\n",
       "       0.00000000e+00, 0.00000000e+00, 0.00000000e+00, 0.00000000e+00,\n",
       "       0.00000000e+00, 0.00000000e+00, 0.00000000e+00, 0.00000000e+00,\n",
       "       0.00000000e+00, 0.00000000e+00, 0.00000000e+00, 0.00000000e+00,\n",
       "       0.00000000e+00, 0.00000000e+00, 0.00000000e+00, 0.00000000e+00,\n",
       "       0.00000000e+00, 0.00000000e+00, 0.00000000e+00, 0.00000000e+00,\n",
       "       3.21558810e-02, 1.71044218e+01, 6.79621916e+03, 4.38782143e+04,\n",
       "       8.90129216e+04, 8.79508665e+04, 2.67184666e+05, 1.85816901e+05,\n",
       "       3.77593460e+05, 3.60110402e+05, 4.46319530e+05, 8.25260046e+05,\n",
       "       5.63310377e+05, 9.10453456e+05, 6.31867044e+05, 1.16603293e+06,\n",
       "       8.55233063e+05, 1.20075692e+06, 1.53596471e+06, 1.47711036e+06,\n",
       "       1.87495871e+06, 1.21462139e+06, 2.29703869e+06, 1.84536852e+06,\n",
       "       2.64088843e+06, 3.43103467e+06, 3.52807553e+06, 4.28577780e+06,\n",
       "       4.58222318e+06, 5.18612778e+06, 5.38869338e+06, 1.18409413e+07,\n",
       "       5.43569601e+06, 1.71060215e+07, 1.74217270e+07, 1.08072572e+07,\n",
       "       6.77417310e+07, 3.08022266e+07, 2.34918781e+07, 2.52640762e+07,\n",
       "       6.37306490e+06, 1.48705058e+07, 7.80139549e+05, 3.24380976e+06,\n",
       "       2.75181237e+05, 9.10991632e+06, 1.51810533e+07, 1.71898885e+07,\n",
       "       1.85243928e+07, 1.95970226e+07, 1.32043253e+07, 1.21447631e+07,\n",
       "       1.71366371e+07, 1.09409324e+07, 1.43456485e+07, 1.10294441e+07,\n",
       "       1.23647259e+07, 1.95030341e+07, 9.10284965e+06, 1.64761650e+07,\n",
       "       1.07168350e+07, 1.20208107e+07, 1.32496083e+07, 7.75302077e+06,\n",
       "       1.13566226e+07, 6.51821957e+06, 8.38279424e+06, 1.76973609e+06,\n",
       "       3.86539000e+03])"
      ]
     },
     "execution_count": 159,
     "metadata": {},
     "output_type": "execute_result"
    }
   ],
   "source": [
    "spectrogram[0]"
   ]
  },
  {
   "cell_type": "code",
   "execution_count": 160,
   "metadata": {},
   "outputs": [],
   "source": [
    "maxs_i = np.apply_along_axis(np.argmax, 0, spectrogram)"
   ]
  },
  {
   "cell_type": "code",
   "execution_count": 161,
   "metadata": {},
   "outputs": [],
   "source": [
    "maxs = np.apply_along_axis(np.amax, 0, spectrogram)"
   ]
  },
  {
   "cell_type": "code",
   "execution_count": 162,
   "metadata": {},
   "outputs": [],
   "source": [
    "hpf_maxs_i = (maxs>100).astype(np.int) * maxs_i"
   ]
  },
  {
   "cell_type": "code",
   "execution_count": 163,
   "metadata": {},
   "outputs": [
    {
     "ename": "NameError",
     "evalue": "name 'time' is not defined",
     "output_type": "error",
     "traceback": [
      "\u001b[0;31m---------------------------------------------------------------------------\u001b[0m",
      "\u001b[0;31mNameError\u001b[0m                                 Traceback (most recent call last)",
      "\u001b[0;32m<ipython-input-163-56b380db7492>\u001b[0m in \u001b[0;36m<module>\u001b[0;34m\u001b[0m\n\u001b[0;32m----> 1\u001b[0;31m \u001b[0mplt\u001b[0m\u001b[0;34m.\u001b[0m\u001b[0mpcolormesh\u001b[0m\u001b[0;34m(\u001b[0m\u001b[0mtime\u001b[0m\u001b[0;34m,\u001b[0m \u001b[0mfrequency\u001b[0m\u001b[0;34m,\u001b[0m \u001b[0mspectrogram\u001b[0m\u001b[0;34m,\u001b[0m \u001b[0mcmap\u001b[0m\u001b[0;34m=\u001b[0m\u001b[0mcmap\u001b[0m\u001b[0;34m)\u001b[0m\u001b[0;34m\u001b[0m\u001b[0;34m\u001b[0m\u001b[0m\n\u001b[0m\u001b[1;32m      2\u001b[0m \u001b[0mplt\u001b[0m\u001b[0;34m.\u001b[0m\u001b[0mplot\u001b[0m\u001b[0;34m(\u001b[0m\u001b[0mtime\u001b[0m\u001b[0;34m,\u001b[0m\u001b[0mfrequency\u001b[0m\u001b[0;34m[\u001b[0m\u001b[0mhpf_maxs_i\u001b[0m\u001b[0;34m]\u001b[0m\u001b[0;34m,\u001b[0m\u001b[0;34m\"--\"\u001b[0m\u001b[0;34m,\u001b[0m\u001b[0mcolor\u001b[0m\u001b[0;34m=\u001b[0m\u001b[0;34m\"orange\"\u001b[0m\u001b[0;34m)\u001b[0m\u001b[0;34m\u001b[0m\u001b[0;34m\u001b[0m\u001b[0m\n\u001b[1;32m      3\u001b[0m \u001b[0mplt\u001b[0m\u001b[0;34m.\u001b[0m\u001b[0maxvline\u001b[0m\u001b[0;34m(\u001b[0m\u001b[0mtime\u001b[0m\u001b[0;34m[\u001b[0m\u001b[0;36m50\u001b[0m\u001b[0;34m]\u001b[0m\u001b[0;34m)\u001b[0m\u001b[0;34m\u001b[0m\u001b[0;34m\u001b[0m\u001b[0m\n\u001b[1;32m      4\u001b[0m \u001b[0mplt\u001b[0m\u001b[0;34m.\u001b[0m\u001b[0mxlabel\u001b[0m\u001b[0;34m(\u001b[0m\u001b[0;34m'Time'\u001b[0m\u001b[0;34m)\u001b[0m\u001b[0;34m\u001b[0m\u001b[0;34m\u001b[0m\u001b[0m\n\u001b[1;32m      5\u001b[0m \u001b[0mplt\u001b[0m\u001b[0;34m.\u001b[0m\u001b[0mylabel\u001b[0m\u001b[0;34m(\u001b[0m\u001b[0;34m'Frequency'\u001b[0m\u001b[0;34m)\u001b[0m\u001b[0;34m\u001b[0m\u001b[0;34m\u001b[0m\u001b[0m\n",
      "\u001b[0;31mNameError\u001b[0m: name 'time' is not defined"
     ]
    }
   ],
   "source": [
    "plt.pcolormesh(time, frequency, spectrogram, cmap=cmap)\n",
    "plt.plot(time,frequency[hpf_maxs_i],\"--\",color=\"orange\")\n",
    "plt.axvline(time[50])\n",
    "plt.xlabel('Time')\n",
    "plt.ylabel('Frequency')"
   ]
  },
  {
   "cell_type": "code",
   "execution_count": null,
   "metadata": {},
   "outputs": [],
   "source": []
  }
 ],
 "metadata": {
  "kernelspec": {
   "display_name": "Python 3",
   "language": "python",
   "name": "python3"
  },
  "language_info": {
   "codemirror_mode": {
    "name": "ipython",
    "version": 3
   },
   "file_extension": ".py",
   "mimetype": "text/x-python",
   "name": "python",
   "nbconvert_exporter": "python",
   "pygments_lexer": "ipython3",
   "version": "3.8.0"
  }
 },
 "nbformat": 4,
 "nbformat_minor": 4
}
