{
 "cells": [
  {
   "cell_type": "code",
   "execution_count": 1,
   "metadata": {},
   "outputs": [],
   "source": [
    "# Based on this gist\n",
    "import numpy as np\n",
    "from scipy import signal\n",
    "from scipy import fftpack\n",
    "from scipy.io import wavfile\n",
    "import matplotlib.pyplot as plt\n",
    "from matplotlib.cm import get_cmap"
   ]
  },
  {
   "cell_type": "code",
   "execution_count": 2,
   "metadata": {},
   "outputs": [],
   "source": [
    "def calculate_pad_size(signal_length, window_width, window_offset):\n",
    "    useful_space = signal_length % window_offset\n",
    "    return int(window_width - useful_space) if useful_space != 0 else window_width - window_offset\n",
    "\n",
    "def extract_overlapping_frames_from_signal(signal, window_width, window_offset):\n",
    "    signal_length = signal.shape[-1]\n",
    "    # We fill the signal to ensure the last frame has the appropriate length\n",
    "    padding_needed = calculate_pad_size(signal_length, window_width, window_offset)\n",
    "    padded_signal = np.concatenate(\n",
    "        (\n",
    "            signal,\n",
    "            np.zeros(padding_needed)\n",
    "        )\n",
    "    )\n",
    "    initial_frame_index = np.tile(\n",
    "        np.arange(0, signal_length, window_offset),\n",
    "        (window_width, 1)\n",
    "    ).T\n",
    "    consecutive_indexes_to_add = np.tile(\n",
    "        np.arange(0, window_width),\n",
    "        (initial_frame_index.shape[0], 1)\n",
    "    )\n",
    "    frame_indexes = initial_frame_index + consecutive_indexes_to_add\n",
    "\n",
    "    return padded_signal[frame_indexes]\n",
    "\n",
    "def replace_zeros_with_almost_zero(signal):\n",
    "    \"\"\"\n",
    "    This function replaces all zeros in a nd array with the non-zero smallest value representable\n",
    "    :param signal:\n",
    "    :return:\n",
    "    \"\"\"\n",
    "    return np.where(signal == 0, np.finfo(float).eps, signal)\n",
    "\n",
    "def safe_log(signal):\n",
    "    \"\"\"\n",
    "    Execute a safe log operation replacing all ceros with almost zeros\n",
    "    :param signal: \n",
    "    :return: \n",
    "    \"\"\"\n",
    "    return np.log(replace_zeros_with_almost_zero(signal))\n"
   ]
  },
  {
   "cell_type": "code",
   "execution_count": 3,
   "metadata": {},
   "outputs": [],
   "source": [
    "frequency, signal = wavfile.read(\"male_a_spa.wav\")\n",
    "signal = signal[:,0]"
   ]
  },
  {
   "cell_type": "code",
   "execution_count": 4,
   "metadata": {},
   "outputs": [],
   "source": [
    "window_width = int(frequency * 0.025)\n",
    "window_offset = int(frequency * 0.01)\n",
    "frames = extract_overlapping_frames_from_signal(signal, window_width, window_offset)\n",
    "windowed_frames_with_fourier_transform = fftpack.dct(frames)"
   ]
  },
  {
   "cell_type": "code",
   "execution_count": null,
   "metadata": {},
   "outputs": [],
   "source": []
  }
 ],
 "metadata": {
  "kernelspec": {
   "display_name": "Python 3",
   "language": "python",
   "name": "python3"
  },
  "language_info": {
   "codemirror_mode": {
    "name": "ipython",
    "version": 3
   },
   "file_extension": ".py",
   "mimetype": "text/x-python",
   "name": "python",
   "nbconvert_exporter": "python",
   "pygments_lexer": "ipython3",
   "version": "3.8.0"
  }
 },
 "nbformat": 4,
 "nbformat_minor": 4
}
