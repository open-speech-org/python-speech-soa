{
 "cells": [
  {
   "cell_type": "code",
   "execution_count": 36,
   "metadata": {},
   "outputs": [],
   "source": [
    "import numpy as np\n",
    "from scipy import signal\n",
    "from scipy import fftpack\n",
    "from scipy.io import wavfile\n",
    "import matplotlib.pyplot as plt\n",
    "from matplotlib.cm import get_cmap"
   ]
  },
  {
   "cell_type": "code",
   "execution_count": 37,
   "metadata": {},
   "outputs": [],
   "source": [
    "def calculate_pad_size(signal_length, window_width, window_offset):\n",
    "    useful_space = signal_length % window_offset\n",
    "    return int(window_width - useful_space) if useful_space != 0 else window_width - window_offset\n",
    "\n",
    "def extract_overlapping_frames_from_signal(signal, window_width, window_offset):\n",
    "    signal_length = signal.shape[-1]\n",
    "    # We fill the signal to ensure the last frame has the appropriate length\n",
    "    padding_needed = calculate_pad_size(signal_length, window_width, window_offset)\n",
    "    padded_signal = np.concatenate(\n",
    "        (\n",
    "            signal,\n",
    "            np.zeros(padding_needed)\n",
    "        )\n",
    "    )\n",
    "    initial_frame_index = np.tile(\n",
    "        np.arange(0, signal_length, window_offset),\n",
    "        (window_width, 1)\n",
    "    ).T\n",
    "    consecutive_indexes_to_add = np.tile(\n",
    "        np.arange(0, window_width),\n",
    "        (initial_frame_index.shape[0], 1)\n",
    "    )\n",
    "    frame_indexes = initial_frame_index + consecutive_indexes_to_add\n",
    "\n",
    "    return padded_signal[frame_indexes]"
   ]
  },
  {
   "cell_type": "code",
   "execution_count": 38,
   "metadata": {},
   "outputs": [],
   "source": [
    "\n",
    "frequency, signal = wavfile.read(\"male_a_spa.wav\")\n",
    "signal = signal[:,0]"
   ]
  },
  {
   "cell_type": "code",
   "execution_count": 39,
   "metadata": {},
   "outputs": [
    {
     "data": {
      "text/plain": [
       "(16043,)"
      ]
     },
     "execution_count": 39,
     "metadata": {},
     "output_type": "execute_result"
    }
   ],
   "source": [
    "signal.shape"
   ]
  },
  {
   "cell_type": "code",
   "execution_count": 40,
   "metadata": {},
   "outputs": [],
   "source": [
    "window_width = int(frequency * 0.025)\n",
    "window_offset = int(frequency * 0.01)\n",
    "frames = extract_overlapping_frames_from_signal(signal, window_width, window_offset)\n",
    "windowed_frames_with_fourier_transform = fftpack.dct(frames)"
   ]
  },
  {
   "cell_type": "code",
   "execution_count": 41,
   "metadata": {},
   "outputs": [
    {
     "data": {
      "text/plain": [
       "(101, 400)"
      ]
     },
     "execution_count": 41,
     "metadata": {},
     "output_type": "execute_result"
    }
   ],
   "source": [
    "windowed_frames_with_fourier_transform.shape"
   ]
  },
  {
   "cell_type": "code",
   "execution_count": 42,
   "metadata": {},
   "outputs": [],
   "source": [
    "cmap=get_cmap(\"coolwarm\")"
   ]
  },
  {
   "cell_type": "code",
   "execution_count": 43,
   "metadata": {},
   "outputs": [
    {
     "data": {
      "text/plain": [
       "(101,)"
      ]
     },
     "execution_count": 43,
     "metadata": {},
     "output_type": "execute_result"
    }
   ],
   "source": [
    "time = np.arange(0,windowed_frames_with_fourier_transform.shape[0])\n",
    "time.shape"
   ]
  },
  {
   "cell_type": "code",
   "execution_count": 44,
   "metadata": {},
   "outputs": [
    {
     "data": {
      "text/plain": [
       "(400,)"
      ]
     },
     "execution_count": 44,
     "metadata": {},
     "output_type": "execute_result"
    }
   ],
   "source": [
    "frequency = np.arange(0,windowed_frames_with_fourier_transform.shape[1])\n",
    "frequency.shape"
   ]
  },
  {
   "cell_type": "code",
   "execution_count": 47,
   "metadata": {},
   "outputs": [],
   "source": [
    "spectrogram = windowed_frames_with_fourier_transform.T"
   ]
  },
  {
   "cell_type": "code",
   "execution_count": 48,
   "metadata": {},
   "outputs": [
    {
     "data": {
      "text/plain": [
       "<matplotlib.collections.QuadMesh at 0x7fd69f4fab20>"
      ]
     },
     "execution_count": 48,
     "metadata": {},
     "output_type": "execute_result"
    },
    {
     "data": {
      "image/png": "[encoded data removed]",
      "text/plain": [
       "<Figure size 432x288 with 1 Axes>"
      ]
     },
     "metadata": {
      "needs_background": "light"
     },
     "output_type": "display_data"
    }
   ],
   "source": [
    "\n",
    "plt.pcolormesh(\n",
    "    time,\n",
    "    frequency, \n",
    "    spectrogram, \n",
    "    cmap=cmap)"
   ]
  },
  {
   "cell_type": "code",
   "execution_count": 49,
   "metadata": {},
   "outputs": [
    {
     "data": {
      "text/plain": [
       "array([ 0.0000e+00,  0.0000e+00,  0.0000e+00,  0.0000e+00,  0.0000e+00,\n",
       "        0.0000e+00,  0.0000e+00,  0.0000e+00,  0.0000e+00,  0.0000e+00,\n",
       "        0.0000e+00,  0.0000e+00,  0.0000e+00,  0.0000e+00,  0.0000e+00,\n",
       "        0.0000e+00,  0.0000e+00,  0.0000e+00,  0.0000e+00,  0.0000e+00,\n",
       "        0.0000e+00,  0.0000e+00,  0.0000e+00,  0.0000e+00,  0.0000e+00,\n",
       "        0.0000e+00,  0.0000e+00,  0.0000e+00,  0.0000e+00,  0.0000e+00,\n",
       "        0.0000e+00,  0.0000e+00, -4.0000e+00, -5.2000e+01, -3.6400e+02,\n",
       "       -5.2200e+02, -1.1320e+03, -1.3720e+03, -1.7180e+03, -2.6180e+03,\n",
       "       -2.0700e+03, -2.5960e+03, -3.6700e+03, -3.1680e+03, -3.9700e+03,\n",
       "       -3.8780e+03, -3.9880e+03, -3.7180e+03, -4.0600e+03, -3.4160e+03,\n",
       "       -4.3380e+03, -4.7220e+03, -3.7920e+03, -5.6040e+03, -4.5260e+03,\n",
       "       -6.6600e+03, -6.6760e+03, -6.9020e+03, -8.4240e+03, -7.5560e+03,\n",
       "       -9.0560e+03, -1.0422e+04, -3.5040e+03, -3.4434e+04,  2.0592e+04,\n",
       "       -4.5094e+04, -5.5206e+04,  6.0092e+04, -4.9854e+04, -8.3000e+03,\n",
       "       -2.2092e+04, -5.8148e+04, -3.4772e+04, -7.3780e+04,  1.0114e+04,\n",
       "       -6.1840e+03,  4.1290e+04, -3.5560e+03,  5.8220e+03, -6.0320e+03,\n",
       "       -1.1638e+04, -6.0200e+02,  1.0840e+03, -3.7980e+03, -8.4820e+03,\n",
       "       -1.3916e+04, -1.2106e+04, -1.2486e+04, -1.0652e+04, -1.5206e+04,\n",
       "       -1.6484e+04, -7.3620e+03, -1.6572e+04, -1.3188e+04, -1.2638e+04,\n",
       "       -1.1718e+04, -1.2882e+04, -1.1868e+04, -1.1010e+04, -9.2620e+03,\n",
       "       -1.3900e+03])"
      ]
     },
     "execution_count": 49,
     "metadata": {},
     "output_type": "execute_result"
    }
   ],
   "source": [
    "spectrogram[0]"
   ]
  },
  {
   "cell_type": "code",
   "execution_count": 50,
   "metadata": {},
   "outputs": [],
   "source": [
    "maxs_i = np.apply_along_axis(np.argmax, 0, spectrogram)"
   ]
  },
  {
   "cell_type": "code",
   "execution_count": 51,
   "metadata": {},
   "outputs": [],
   "source": [
    "maxs = np.apply_along_axis(np.amax, 0, spectrogram)"
   ]
  },
  {
   "cell_type": "code",
   "execution_count": 52,
   "metadata": {},
   "outputs": [],
   "source": [
    "hpf_maxs_i = (maxs>100).astype(np.int) * maxs_i"
   ]
  },
  {
   "cell_type": "code",
   "execution_count": 54,
   "metadata": {},
   "outputs": [
    {
     "data": {
      "text/plain": [
       "Text(0, 0.5, 'Frequency')"
      ]
     },
     "execution_count": 54,
     "metadata": {},
     "output_type": "execute_result"
    },
    {
     "data": {
      "image/png": "[encoded data removed]",
      "text/plain": [
       "<Figure size 432x288 with 1 Axes>"
      ]
     },
     "metadata": {
      "needs_background": "light"
     },
     "output_type": "display_data"
    }
   ],
   "source": [
    "plt.pcolormesh(time, frequency, spectrogram, cmap=cmap)\n",
    "plt.plot(time,frequency[hpf_maxs_i],\"--\",color=\"orange\")\n",
    "plt.axvline(time[50])\n",
    "plt.xlabel('Time')\n",
    "plt.ylabel('Frequency')"
   ]
  },
  {
   "cell_type": "code",
   "execution_count": null,
   "metadata": {},
   "outputs": [],
   "source": []
  }
 ],
 "metadata": {
  "kernelspec": {
   "display_name": "Python 3",
   "language": "python",
   "name": "python3"
  },
  "language_info": {
   "codemirror_mode": {
    "name": "ipython",
    "version": 3
   },
   "file_extension": ".py",
   "mimetype": "text/x-python",
   "name": "python",
   "nbconvert_exporter": "python",
   "pygments_lexer": "ipython3",
   "version": "3.8.0"
  }
 },
 "nbformat": 4,
 "nbformat_minor": 4
}
