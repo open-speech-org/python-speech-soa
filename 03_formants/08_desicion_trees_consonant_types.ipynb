{
 "cells": [
  {
   "cell_type": "code",
   "execution_count": 26,
   "metadata": {
    "collapsed": true
   },
   "outputs": [],
   "source": [
    "import os\n",
    "import numpy as np\n",
    "import pandas as pd\n",
    "from sklearn import tree\n",
    "import pydotplus\n",
    "from sklearn.metrics import accuracy_score, confusion_matrix, ConfusionMatrixDisplay\n",
    "\n",
    "import pickle"
   ]
  },
  {
   "cell_type": "code",
   "execution_count": 27,
   "outputs": [],
   "source": [
    "formants_folder = \"all_formants_observed_formants_first_5_formants\"\n",
    "def load_formants_from_file(file_path):\n",
    "    return pd.read_csv(file_path)\n"
   ],
   "metadata": {
    "collapsed": false,
    "pycharm": {
     "name": "#%%\n"
    }
   }
  },
  {
   "cell_type": "code",
   "execution_count": 28,
   "outputs": [],
   "source": [
    "full_data = pd.DataFrame()\n",
    "for formant_file in os.listdir(formants_folder):\n",
    "    full_data = full_data.append(load_formants_from_file(os.path.join(formants_folder, formant_file)), ignore_index=True)\n",
    "\n"
   ],
   "metadata": {
    "collapsed": false,
    "pycharm": {
     "name": "#%%\n"
    }
   }
  },
  {
   "cell_type": "code",
   "execution_count": 29,
   "outputs": [],
   "source": [
    "phoneme_remap = {\n",
    " 'sil': 'sil',\n",
    " 'g': 'plosive',\n",
    " 'a': 'a',\n",
    " 'f': 'fricative',\n",
    " 's': 'fricative',\n",
    " 'n': 'nasal',\n",
    " 'r': 'voiceless',\n",
    " 'j': 'approximant',\n",
    " 'R': 'vibrant',\n",
    " 'o': 'o',\n",
    " 'b': 'plosive',\n",
    " 'i': 'i',\n",
    " 'k': 'plosive',\n",
    " 'u': 'u',\n",
    " 'd': 'plosive',\n",
    " 'e': 'e',\n",
    " 'l': 'approximant',\n",
    " 'c': 'plosive',\n",
    " 'm': 'nasal',\n",
    " 't': 'plosive',\n",
    " 'p': 'plosive',\n",
    " 'y': 'fricative',\n",
    " 'C': 'fricative',\n",
    " 'N': 'nasal',\n",
    " '': 'voiced',\n",
    " 'S': 'fricative'\n",
    "}\n",
    "\n",
    "full_data[\"phoneme\"].replace(phoneme_remap, inplace=True)\n"
   ],
   "metadata": {
    "collapsed": false,
    "pycharm": {
     "name": "#%%\n"
    }
   }
  },
  {
   "cell_type": "code",
   "execution_count": 30,
   "outputs": [],
   "source": [
    "# sil_frames = full_data[full_data[\"phoneme\"] == \"sil\"]\n",
    "\n",
    "# full_data = full_data.drop(sil_frames.index)\n"
   ],
   "metadata": {
    "collapsed": false,
    "pycharm": {
     "name": "#%%\n"
    }
   }
  },
  {
   "cell_type": "code",
   "execution_count": 31,
   "outputs": [],
   "source": [
    "full_data['phoneme']\n",
    "all_phonemes = [str(s) for s in full_data['phoneme'].unique()]\n"
   ],
   "metadata": {
    "collapsed": false,
    "pycharm": {
     "name": "#%%\n"
    }
   }
  },
  {
   "cell_type": "code",
   "execution_count": 32,
   "outputs": [
    {
     "data": {
      "text/plain": "{'a': [1007, 1008, 1009, 1010, 1011, 1012, 1013, 1014, 1015, 1016, 1017, 1018, 1019, 1020, 1021, 1022, 1023, 1024, 1201, 1202, 1203, 1204, 1205, 1206, 1207, 1208, 1209, 1210, 1211, 1212, 1213, 1214, 1215, 1216, 1217, 1218, 1219, 1220, 1221, 1222, 1223, 1224, 1225, 1226, 1227, 1648, 1649, 1650, 1651, 1652, 1653, 1654, 1655, 1656, 1657, 1658, 1659, 1660, 1661, 1662, 2885, 2886, 2887, 2888, 2889, 2890, 2891, 2892, 2893, 2894, 2895, 2896, 2897, 2898, 2899, 2900, 2901, 3061, 3062, 3063, 3064, 3065, 3066, 3067, 3068, 3069, 3070, 3071, 3072, 3073, 3074, 3075, 3076, 3077, 3078, 3079, 3080, 3081, 3082, 3083, ...], 'approximant': [168, 169, 170, 171, 172, 173, 174, 175, 176, 177, 178, 179, 180, 181, 182, 183, 184, 185, 186, 202, 203, 204, 205, 206, 207, 208, 209, 210, 211, 212, 213, 214, 215, 216, 217, 218, 219, 220, 221, 222, 223, 224, 225, 226, 227, 228, 229, 230, 231, 232, 233, 234, 235, 236, 237, 238, 338, 339, 340, 341, 342, 343, 344, 345, 346, 347, 348, 349, 350, 351, 352, 353, 354, 355, 911, 912, 913, 914, 915, 916, 917, 918, 919, 920, 921, 922, 923, 924, 925, 926, 927, 928, 929, 930, 931, 932, 933, 934, 935, 936, ...], 'e': [159, 160, 161, 162, 163, 164, 165, 166, 167, 391, 392, 393, 394, 395, 396, 397, 398, 399, 400, 401, 402, 403, 404, 405, 406, 407, 408, 409, 410, 411, 412, 962, 963, 964, 965, 966, 967, 968, 969, 970, 971, 972, 973, 974, 975, 976, 977, 978, 979, 980, 981, 982, 983, 984, 985, 986, 987, 988, 989, 990, 991, 992, 993, 994, 995, 996, 997, 998, 1302, 1303, 1304, 1305, 1306, 1307, 1308, 1309, 1310, 1311, 1312, 1313, 1314, 1315, 1316, 1317, 1318, 1319, 1669, 1670, 1671, 1672, 1673, 1674, 1675, 1676, 1677, 1678, 1679, 1680, 1681, 1682, ...], 'fricative': [413, 414, 415, 416, 417, 418, 419, 420, 421, 422, 423, 424, 425, 426, 427, 428, 429, 430, 431, 432, 433, 434, 435, 436, 437, 438, 439, 440, 441, 442, 443, 444, 445, 446, 447, 448, 449, 450, 451, 452, 453, 454, 455, 456, 457, 458, 459, 460, 461, 462, 463, 464, 465, 466, 467, 468, 469, 470, 471, 472, 473, 474, 475, 476, 477, 478, 479, 480, 481, 482, 483, 937, 938, 939, 940, 941, 942, 943, 944, 945, 946, 947, 948, 949, 950, 951, 952, 953, 954, 955, 956, 957, 958, 959, 960, 961, 1285, 1286, 1287, 1288, ...], 'i': [2137, 2138, 2139, 2140, 2141, 2142, 2143, 2144, 2145, 2146, 2147, 2148, 2149, 2150, 2151, 2152, 2376, 2377, 2378, 2379, 2380, 2381, 2382, 2383, 2384, 2385, 2386, 2387, 2388, 2389, 2390, 2391, 2392, 2393, 2394, 2395, 2396, 2397, 2398, 2399, 2400, 2401, 2402, 2403, 2404, 2405, 2406, 2407, 2408, 2409, 2410, 2411, 2412, 3110, 3111, 3112, 3113, 3114, 3115, 3116, 3117, 3118, 3119, 3120, 3121, 3122, 3123, 3124, 3125, 3126, 3127, 3128, 3129, 3130, 3131, 3132, 3133, 3319, 3320, 3321, 3322, 3323, 3324, 3325, 3326, 3327, 3328, 3329, 3330, 3331, 3332, 3333, 4457, 4458, 4459, 4460, 4461, 4462, 4463, 4464, ...], 'nasal': [379, 380, 381, 382, 383, 384, 385, 386, 387, 388, 389, 390, 1258, 1259, 1260, 1261, 1262, 1263, 1264, 1265, 1266, 1267, 1268, 1269, 1270, 1271, 1272, 1273, 1274, 1275, 1276, 1277, 1278, 1279, 1280, 1281, 1282, 1283, 1284, 1697, 1698, 1699, 1700, 1701, 1702, 1703, 1704, 1705, 1706, 1707, 1708, 1709, 1710, 1711, 1712, 1713, 2413, 2414, 2415, 2416, 2417, 2418, 2419, 2420, 2421, 2422, 2423, 2424, 2425, 2426, 2427, 2428, 2429, 3134, 3135, 3136, 3137, 3138, 3139, 3140, 3141, 3142, 3143, 3144, 3355, 3356, 3357, 3358, 3359, 3360, 3361, 3362, 3363, 3364, 3365, 3366, 3367, 3368, 3369, 3370, ...], 'o': [187, 188, 189, 190, 191, 192, 193, 194, 195, 196, 197, 198, 199, 200, 201, 1242, 1243, 1244, 1245, 1246, 1247, 1248, 1249, 1250, 1251, 1252, 1253, 1254, 1255, 1256, 1257, 1362, 1363, 1364, 1365, 1366, 1367, 1368, 1369, 1370, 1371, 1372, 1373, 1374, 1375, 1376, 1377, 1378, 1379, 1380, 1381, 1382, 1383, 1714, 1715, 1716, 1717, 1718, 1719, 1720, 1721, 1722, 1723, 1724, 1725, 1726, 1727, 1728, 1923, 1924, 1925, 1926, 1927, 1928, 1929, 1930, 1931, 1932, 1933, 1934, 1935, 1936, 1937, 1938, 1939, 1940, 1941, 1942, 1943, 1944, 1945, 1946, 1947, 1948, 1949, 1950, 1951, 1952, 1953, 1954, ...], 'plosive': [869, 870, 871, 872, 1176, 1177, 1178, 1179, 1180, 1181, 1182, 1183, 1184, 1185, 1186, 1187, 1188, 1189, 1190, 1191, 1192, 1193, 1194, 1195, 1196, 1197, 1198, 1199, 1200, 1360, 1361, 1630, 1631, 1632, 1633, 1634, 1635, 1636, 1637, 1663, 1664, 1665, 1666, 1667, 1668, 2130, 2131, 2132, 2133, 2134, 2135, 2136, 2430, 2431, 2432, 2433, 2434, 2435, 2436, 2437, 2438, 2439, 2440, 2441, 2442, 2443, 2444, 2445, 2446, 2447, 2448, 2449, 2691, 2692, 2693, 2694, 2695, 2696, 2697, 2698, 2881, 2882, 2883, 2884, 2902, 2903, 2904, 2905, 2906, 2907, 2908, 2909, 2910, 2911, 2912, 2913, 2914, 2915, 2916, 2917, ...], 'sil': [0, 1, 2, 3, 4, 5, 6, 7, 8, 9, 10, 11, 12, 13, 14, 15, 16, 17, 18, 19, 20, 21, 22, 23, 24, 25, 26, 27, 28, 29, 30, 31, 32, 33, 34, 35, 36, 37, 38, 39, 40, 41, 42, 43, 44, 45, 46, 47, 48, 49, 50, 51, 52, 53, 54, 55, 56, 57, 58, 59, 60, 61, 62, 63, 64, 65, 66, 67, 68, 69, 70, 71, 72, 73, 74, 75, 76, 77, 78, 79, 80, 81, 82, 83, 84, 85, 86, 87, 88, 89, 90, 91, 92, 93, 94, 95, 96, 97, 98, 99, ...], 'u': [356, 357, 358, 359, 360, 361, 362, 363, 364, 365, 366, 367, 368, 369, 370, 371, 372, 373, 374, 375, 376, 377, 378, 873, 874, 875, 876, 877, 878, 879, 880, 881, 882, 883, 884, 885, 886, 887, 888, 889, 890, 891, 892, 893, 894, 895, 896, 897, 898, 899, 900, 901, 902, 903, 904, 905, 906, 907, 908, 909, 910, 1638, 1639, 1640, 1641, 1642, 1643, 1644, 1645, 1646, 1647, 4436, 4437, 4438, 4439, 4440, 4441, 4442, 4443, 4444, 4445, 4446, 4447, 4448, 4449, 4450, 4451, 5178, 5179, 5180, 5181, 5182, 5183, 5184, 5185, 5186, 5187, 5188, 5189, 5190, ...], 'vibrant': [148, 149, 150, 151, 152, 153, 154, 155, 156, 157, 158, 1685, 1686, 1687, 1688, 1689, 1690, 1691, 1692, 1693, 1694, 1695, 1696, 2752, 2753, 2754, 2755, 2756, 2757, 2758, 2759, 3345, 3346, 3347, 3348, 3349, 3350, 3351, 3352, 3353, 3354, 3687, 3688, 3689, 3690, 3691, 3692, 3693, 3694, 3695, 3696, 3697, 3698, 4019, 4020, 4021, 4022, 4023, 4024, 4025, 4026, 4027, 4028, 4029, 4030, 4031, 4032, 4033, 4034, 4035, 4036, 4037, 4038, 4039, 4040, 4041, 4042, 4043, 4044, 5270, 5271, 5272, 5273, 5274, 5275, 5276, 5277, 5278, 5279, 5280, 5281, 5282, 5283, 5284, 5285, 5286, 5287, 5288, 5289, 5290, ...], 'voiceless': [999, 1000, 1001, 1002, 1003, 1004, 1005, 1006, 4707, 4708, 4709, 4710, 4711, 4712, 4854, 4855, 4856, 4857, 4858, 4859, 4860, 7594, 7595, 7596, 7597, 7598, 7599, 7600, 8579, 8580, 8581, 8582, 8583, 8584, 8585, 9258, 9259, 9260, 9261, 9262, 11584, 11585, 11586, 11587, 11588, 12874, 12875, 12876, 12877, 12878, 12879, 12880, 12881, 12882, 13679, 13680, 13681, 13682, 13992, 13993, 13994, 13995, 13996, 13997, 13998, 14429, 14430, 14431, 14432, 14433, 14434, 14435, 14436, 14437, 14438, 14439, 14440, 14441, 14442, 15650, 15651, 15652, 15653, 15654, 15655, 15656, 15657, 15658, 15659, 15660, 15661, 15662, 15663, 15664, 15665, 15666, 15667, 15668, 15669, 15670, ...]}"
     },
     "execution_count": 32,
     "metadata": {},
     "output_type": "execute_result"
    }
   ],
   "source": [
    "phonemes_grouped = full_data.groupby('phoneme')\n",
    "\n",
    "phonemes_grouped.groups\n"
   ],
   "metadata": {
    "collapsed": false,
    "pycharm": {
     "name": "#%%\n"
    }
   }
  },
  {
   "cell_type": "code",
   "execution_count": 33,
   "outputs": [],
   "source": [
    "phoneme_count = full_data['phoneme'].value_counts()\n",
    "percentage_to_extract_test = 0.1\n",
    "fixed_extra_to_test = 5\n",
    "\n",
    "values_to_extract = (phoneme_count * percentage_to_extract_test + fixed_extra_to_test).round()\n",
    "values_to_extract = values_to_extract.apply(np.int64)\n",
    "\n"
   ],
   "metadata": {
    "collapsed": false,
    "pycharm": {
     "name": "#%%\n"
    }
   }
  },
  {
   "cell_type": "code",
   "execution_count": 34,
   "outputs": [
    {
     "name": "stderr",
     "output_type": "stream",
     "text": [
      "/home/ma0/miniconda3/envs/master_thesis/lib/python3.8/site-packages/pandas/core/frame.py:3188: SettingWithCopyWarning: \n",
      "A value is trying to be set on a copy of a slice from a DataFrame.\n",
      "Try using .loc[row_indexer,col_indexer] = value instead\n",
      "\n",
      "See the caveats in the documentation: https://pandas.pydata.org/pandas-docs/stable/user_guide/indexing.html#returning-a-view-versus-a-copy\n",
      "  self[k1] = value[k2]\n"
     ]
    }
   ],
   "source": [
    "train_set = full_data.dropna(subset=[\"phoneme\"])\n",
    "train_set[[\"i\"]] = train_set[[\"i\"]].fillna(value=-300)\n",
    "test_set = pd.DataFrame()\n",
    "for index, value in values_to_extract.items():\n",
    "    sub_data_frame = train_set[train_set[\"phoneme\"] == index]\n",
    "    test_to_remove = sub_data_frame.sample(value)\n",
    "    test_set = test_set.append(test_to_remove)\n",
    "    train_set = train_set.drop(test_to_remove.index)"
   ],
   "metadata": {
    "collapsed": false,
    "pycharm": {
     "name": "#%%\n"
    }
   }
  },
  {
   "cell_type": "code",
   "execution_count": 35,
   "outputs": [
    {
     "name": "stdout",
     "output_type": "stream",
     "text": [
      "['f_1', 'f_2', 'f_3', 'f_4', 'f_5', 'i']\n"
     ]
    }
   ],
   "source": [
    "FORMANTS_TO_EXTRACT = 5\n",
    "formant_names = [f\"f_{i+1}\" for i in range(FORMANTS_TO_EXTRACT)]\n",
    "formant_names.append(\"i\")\n",
    "print(formant_names)\n"
   ],
   "metadata": {
    "collapsed": false,
    "pycharm": {
     "name": "#%%\n"
    }
   }
  },
  {
   "cell_type": "code",
   "execution_count": 36,
   "outputs": [],
   "source": [
    "train_data = train_set[formant_names].fillna(train_set[formant_names].mean())\n",
    "\n"
   ],
   "metadata": {
    "collapsed": false,
    "pycharm": {
     "name": "#%%\n"
    }
   }
  },
  {
   "cell_type": "code",
   "execution_count": 41,
   "outputs": [
    {
     "data": {
      "text/plain": "DecisionTreeClassifier(ccp_alpha=0.0, class_weight=None, criterion='gini',\n                       max_depth=6, max_features=None, max_leaf_nodes=None,\n                       min_impurity_decrease=0.0, min_impurity_split=None,\n                       min_samples_leaf=1, min_samples_split=2,\n                       min_weight_fraction_leaf=0.0, presort='deprecated',\n                       random_state=None, splitter='best')"
     },
     "execution_count": 41,
     "metadata": {},
     "output_type": "execute_result"
    }
   ],
   "source": [
    "tree_classifier = tree.DecisionTreeClassifier(max_depth=6)\n",
    "tree_classifier.fit(train_data, train_set['phoneme'])"
   ],
   "metadata": {
    "collapsed": false,
    "pycharm": {
     "name": "#%%\n"
    }
   }
  },
  {
   "cell_type": "code",
   "execution_count": 42,
   "outputs": [
    {
     "data": {
      "text/plain": "0.7565366480925847"
     },
     "execution_count": 42,
     "metadata": {},
     "output_type": "execute_result"
    }
   ],
   "source": [
    "test_data = test_set[formant_names].fillna(train_set[formant_names].mean())\n",
    "predicted = tree_classifier.predict(test_data[formant_names])\n",
    "score = accuracy_score(test_set[\"phoneme\"], predicted)\n",
    "score\n",
    "\n"
   ],
   "metadata": {
    "collapsed": false,
    "pycharm": {
     "name": "#%%\n"
    }
   }
  },
  {
   "cell_type": "code",
   "execution_count": 43,
   "outputs": [],
   "source": [
    "confusion = confusion_matrix(test_set[\"phoneme\"], predicted, labels=all_phonemes)\n"
   ],
   "metadata": {
    "collapsed": false,
    "pycharm": {
     "name": "#%%\n"
    }
   }
  },
  {
   "cell_type": "code",
   "execution_count": 44,
   "outputs": [
    {
     "data": {
      "text/plain": "<sklearn.metrics._plot.confusion_matrix.ConfusionMatrixDisplay at 0x7f90aa286730>"
     },
     "execution_count": 44,
     "metadata": {},
     "output_type": "execute_result"
    },
    {
     "data": {
      "text/plain": "<Figure size 432x288 with 2 Axes>",
      "image/png": "[encoded data removed]"
     },
     "metadata": {
      "needs_background": "light"
     },
     "output_type": "display_data"
    }
   ],
   "source": [
    "disp = ConfusionMatrixDisplay(\n",
    "    confusion_matrix=confusion,\n",
    "    display_labels=all_phonemes\n",
    ")\n",
    "disp.plot(\n",
    "    # include_values=include_values,\n",
    "    cmap='viridis',\n",
    "    # ax=ax,\n",
    "    xticks_rotation=\"vertical\",\n",
    "    values_format='g'\n",
    ")"
   ],
   "metadata": {
    "collapsed": false,
    "pycharm": {
     "name": "#%%\n"
    }
   }
  },
  {
   "cell_type": "markdown",
   "source": [
    "Results: 0.6159737417943107\n",
    "Results with sil: 0.7565366480925847"
   ],
   "metadata": {
    "collapsed": false,
    "pycharm": {
     "name": "#%% md\n"
    }
   }
  },
  {
   "cell_type": "code",
   "execution_count": 45,
   "outputs": [
    {
     "name": "stdout",
     "output_type": "stream",
     "text": [
      "|--- feature_5 <= 59.46\n",
      "|   |--- feature_5 <= 45.88\n",
      "|   |   |--- feature_5 <= 38.36\n",
      "|   |   |   |--- feature_1 <= 901.35\n",
      "|   |   |   |   |--- class: o\n",
      "|   |   |   |--- feature_1 >  901.35\n",
      "|   |   |   |   |--- feature_5 <= 32.00\n",
      "|   |   |   |   |   |--- feature_0 <= 330.23\n",
      "|   |   |   |   |   |   |--- class: sil\n",
      "|   |   |   |   |   |--- feature_0 >  330.23\n",
      "|   |   |   |   |   |   |--- class: sil\n",
      "|   |   |   |   |--- feature_5 >  32.00\n",
      "|   |   |   |   |   |--- feature_4 <= 3830.42\n",
      "|   |   |   |   |   |   |--- class: sil\n",
      "|   |   |   |   |   |--- feature_4 >  3830.42\n",
      "|   |   |   |   |   |   |--- class: sil\n",
      "|   |   |--- feature_5 >  38.36\n",
      "|   |   |   |--- feature_1 <= 1208.57\n",
      "|   |   |   |   |--- feature_2 <= 2391.99\n",
      "|   |   |   |   |   |--- feature_0 <= 381.79\n",
      "|   |   |   |   |   |   |--- class: plosive\n",
      "|   |   |   |   |   |--- feature_0 >  381.79\n",
      "|   |   |   |   |   |   |--- class: sil\n",
      "|   |   |   |   |--- feature_2 >  2391.99\n",
      "|   |   |   |   |   |--- feature_0 <= 717.33\n",
      "|   |   |   |   |   |   |--- class: plosive\n",
      "|   |   |   |   |   |--- feature_0 >  717.33\n",
      "|   |   |   |   |   |   |--- class: approximant\n",
      "|   |   |   |--- feature_1 >  1208.57\n",
      "|   |   |   |   |--- feature_3 <= 3035.89\n",
      "|   |   |   |   |   |--- feature_1 <= 1823.59\n",
      "|   |   |   |   |   |   |--- class: sil\n",
      "|   |   |   |   |   |--- feature_1 >  1823.59\n",
      "|   |   |   |   |   |   |--- class: sil\n",
      "|   |   |   |   |--- feature_3 >  3035.89\n",
      "|   |   |   |   |   |--- feature_4 <= 3632.22\n",
      "|   |   |   |   |   |   |--- class: sil\n",
      "|   |   |   |   |   |--- feature_4 >  3632.22\n",
      "|   |   |   |   |   |   |--- class: sil\n",
      "|   |--- feature_5 >  45.88\n",
      "|   |   |--- feature_4 <= 4023.37\n",
      "|   |   |   |--- feature_5 <= 52.39\n",
      "|   |   |   |   |--- feature_4 <= 3830.23\n",
      "|   |   |   |   |   |--- feature_5 <= 49.16\n",
      "|   |   |   |   |   |   |--- class: sil\n",
      "|   |   |   |   |   |--- feature_5 >  49.16\n",
      "|   |   |   |   |   |   |--- class: sil\n",
      "|   |   |   |   |--- feature_4 >  3830.23\n",
      "|   |   |   |   |   |--- feature_1 <= 1227.01\n",
      "|   |   |   |   |   |   |--- class: plosive\n",
      "|   |   |   |   |   |--- feature_1 >  1227.01\n",
      "|   |   |   |   |   |   |--- class: fricative\n",
      "|   |   |   |--- feature_5 >  52.39\n",
      "|   |   |   |   |--- feature_0 <= 789.08\n",
      "|   |   |   |   |   |--- feature_1 <= 1124.62\n",
      "|   |   |   |   |   |   |--- class: o\n",
      "|   |   |   |   |   |--- feature_1 >  1124.62\n",
      "|   |   |   |   |   |   |--- class: sil\n",
      "|   |   |   |   |--- feature_0 >  789.08\n",
      "|   |   |   |   |   |--- feature_4 <= 3818.39\n",
      "|   |   |   |   |   |   |--- class: fricative\n",
      "|   |   |   |   |   |--- feature_4 >  3818.39\n",
      "|   |   |   |   |   |   |--- class: sil\n",
      "|   |   |--- feature_4 >  4023.37\n",
      "|   |   |   |--- feature_3 <= 3314.71\n",
      "|   |   |   |   |--- feature_0 <= 407.82\n",
      "|   |   |   |   |   |--- feature_1 <= 1238.82\n",
      "|   |   |   |   |   |   |--- class: plosive\n",
      "|   |   |   |   |   |--- feature_1 >  1238.82\n",
      "|   |   |   |   |   |   |--- class: nasal\n",
      "|   |   |   |   |--- feature_0 >  407.82\n",
      "|   |   |   |   |   |--- feature_4 <= 5035.44\n",
      "|   |   |   |   |   |   |--- class: sil\n",
      "|   |   |   |   |   |--- feature_4 >  5035.44\n",
      "|   |   |   |   |   |   |--- class: fricative\n",
      "|   |   |   |--- feature_3 >  3314.71\n",
      "|   |   |   |   |--- feature_1 <= 1150.61\n",
      "|   |   |   |   |   |--- feature_3 <= 3524.47\n",
      "|   |   |   |   |   |   |--- class: o\n",
      "|   |   |   |   |   |--- feature_3 >  3524.47\n",
      "|   |   |   |   |   |   |--- class: sil\n",
      "|   |   |   |   |--- feature_1 >  1150.61\n",
      "|   |   |   |   |   |--- feature_0 <= 1078.21\n",
      "|   |   |   |   |   |   |--- class: sil\n",
      "|   |   |   |   |   |--- feature_0 >  1078.21\n",
      "|   |   |   |   |   |   |--- class: sil\n",
      "|--- feature_5 >  59.46\n",
      "|   |--- feature_0 <= 596.61\n",
      "|   |   |--- feature_1 <= 1173.55\n",
      "|   |   |   |--- feature_0 <= 345.14\n",
      "|   |   |   |   |--- feature_0 <= 227.58\n",
      "|   |   |   |   |   |--- feature_0 <= 213.20\n",
      "|   |   |   |   |   |   |--- class: sil\n",
      "|   |   |   |   |   |--- feature_0 >  213.20\n",
      "|   |   |   |   |   |   |--- class: plosive\n",
      "|   |   |   |   |--- feature_0 >  227.58\n",
      "|   |   |   |   |   |--- feature_0 <= 310.54\n",
      "|   |   |   |   |   |   |--- class: nasal\n",
      "|   |   |   |   |   |--- feature_0 >  310.54\n",
      "|   |   |   |   |   |   |--- class: nasal\n",
      "|   |   |   |--- feature_0 >  345.14\n",
      "|   |   |   |   |--- feature_1 <= 731.66\n",
      "|   |   |   |   |   |--- feature_2 <= 1899.35\n",
      "|   |   |   |   |   |   |--- class: u\n",
      "|   |   |   |   |   |--- feature_2 >  1899.35\n",
      "|   |   |   |   |   |   |--- class: o\n",
      "|   |   |   |   |--- feature_1 >  731.66\n",
      "|   |   |   |   |   |--- feature_0 <= 381.83\n",
      "|   |   |   |   |   |   |--- class: u\n",
      "|   |   |   |   |   |--- feature_0 >  381.83\n",
      "|   |   |   |   |   |   |--- class: o\n",
      "|   |   |--- feature_1 >  1173.55\n",
      "|   |   |   |--- feature_0 <= 428.00\n",
      "|   |   |   |   |--- feature_1 <= 1973.53\n",
      "|   |   |   |   |   |--- feature_1 <= 1395.92\n",
      "|   |   |   |   |   |   |--- class: nasal\n",
      "|   |   |   |   |   |--- feature_1 >  1395.92\n",
      "|   |   |   |   |   |   |--- class: approximant\n",
      "|   |   |   |   |--- feature_1 >  1973.53\n",
      "|   |   |   |   |   |--- feature_5 <= 75.61\n",
      "|   |   |   |   |   |   |--- class: e\n",
      "|   |   |   |   |   |--- feature_5 >  75.61\n",
      "|   |   |   |   |   |   |--- class: i\n",
      "|   |   |   |--- feature_0 >  428.00\n",
      "|   |   |   |   |--- feature_1 <= 1580.75\n",
      "|   |   |   |   |   |--- feature_2 <= 2364.91\n",
      "|   |   |   |   |   |   |--- class: e\n",
      "|   |   |   |   |   |--- feature_2 >  2364.91\n",
      "|   |   |   |   |   |   |--- class: o\n",
      "|   |   |   |   |--- feature_1 >  1580.75\n",
      "|   |   |   |   |   |--- feature_5 <= 66.51\n",
      "|   |   |   |   |   |   |--- class: sil\n",
      "|   |   |   |   |   |--- feature_5 >  66.51\n",
      "|   |   |   |   |   |   |--- class: e\n",
      "|   |--- feature_0 >  596.61\n",
      "|   |   |--- feature_5 <= 66.39\n",
      "|   |   |   |--- feature_4 <= 4108.66\n",
      "|   |   |   |   |--- feature_1 <= 1490.12\n",
      "|   |   |   |   |   |--- feature_1 <= 1196.86\n",
      "|   |   |   |   |   |   |--- class: a\n",
      "|   |   |   |   |   |--- feature_1 >  1196.86\n",
      "|   |   |   |   |   |   |--- class: a\n",
      "|   |   |   |   |--- feature_1 >  1490.12\n",
      "|   |   |   |   |   |--- feature_3 <= 3594.41\n",
      "|   |   |   |   |   |   |--- class: fricative\n",
      "|   |   |   |   |   |--- feature_3 >  3594.41\n",
      "|   |   |   |   |   |   |--- class: sil\n",
      "|   |   |   |--- feature_4 >  4108.66\n",
      "|   |   |   |   |--- feature_5 <= 62.44\n",
      "|   |   |   |   |   |--- feature_5 <= 61.60\n",
      "|   |   |   |   |   |   |--- class: sil\n",
      "|   |   |   |   |   |--- feature_5 >  61.60\n",
      "|   |   |   |   |   |   |--- class: sil\n",
      "|   |   |   |   |--- feature_5 >  62.44\n",
      "|   |   |   |   |   |--- feature_4 <= 4613.82\n",
      "|   |   |   |   |   |   |--- class: sil\n",
      "|   |   |   |   |   |--- feature_4 >  4613.82\n",
      "|   |   |   |   |   |   |--- class: fricative\n",
      "|   |   |--- feature_5 >  66.39\n",
      "|   |   |   |--- feature_1 <= 1762.33\n",
      "|   |   |   |   |--- feature_0 <= 644.56\n",
      "|   |   |   |   |   |--- feature_1 <= 1138.47\n",
      "|   |   |   |   |   |   |--- class: a\n",
      "|   |   |   |   |   |--- feature_1 >  1138.47\n",
      "|   |   |   |   |   |   |--- class: a\n",
      "|   |   |   |   |--- feature_0 >  644.56\n",
      "|   |   |   |   |   |--- feature_3 <= 3478.99\n",
      "|   |   |   |   |   |   |--- class: a\n",
      "|   |   |   |   |   |--- feature_3 >  3478.99\n",
      "|   |   |   |   |   |   |--- class: a\n",
      "|   |   |   |--- feature_1 >  1762.33\n",
      "|   |   |   |   |--- feature_2 <= 2449.83\n",
      "|   |   |   |   |   |--- feature_5 <= 68.98\n",
      "|   |   |   |   |   |   |--- class: fricative\n",
      "|   |   |   |   |   |--- feature_5 >  68.98\n",
      "|   |   |   |   |   |   |--- class: a\n",
      "|   |   |   |   |--- feature_2 >  2449.83\n",
      "|   |   |   |   |   |--- feature_4 <= 4079.81\n",
      "|   |   |   |   |   |   |--- class: e\n",
      "|   |   |   |   |   |--- feature_4 >  4079.81\n",
      "|   |   |   |   |   |   |--- class: fricative\n",
      "\n"
     ]
    }
   ],
   "source": [
    "base_name = \"consonant_types_with_sil\"\n",
    "\n",
    "\n",
    "tree.export_graphviz(\n",
    "    tree_classifier,\n",
    "    out_file=f'{base_name}.dot',\n",
    "    feature_names=formant_names,\n",
    "    class_names=all_phonemes,\n",
    "    filled=True\n",
    ")\n",
    "\n",
    "print(tree.export_text(tree_classifier))"
   ],
   "metadata": {
    "collapsed": false,
    "pycharm": {
     "name": "#%%\n"
    }
   }
  },
  {
   "cell_type": "code",
   "execution_count": 46,
   "outputs": [
    {
     "name": "stdout",
     "output_type": "stream",
     "text": [
      "<class 'pydotplus.graphviz.Dot'>\n"
     ]
    }
   ],
   "source": [
    "\n",
    "graph = pydotplus.graph_from_dot_file(f'{base_name}.dot')\n",
    "print(type(graph))\n",
    "with open(f\"{base_name}.png\", \"wb+\") as f:\n",
    "    f.write(graph.create_png())"
   ],
   "metadata": {
    "collapsed": false,
    "pycharm": {
     "name": "#%%\n"
    }
   }
  },
  {
   "cell_type": "code",
   "execution_count": 47,
   "outputs": [],
   "source": [
    "\n",
    "\n",
    "with open(f\"{base_name}.pickle\", \"wb+\") as pickle_file:\n",
    "    pickle.dump(tree_classifier, pickle_file)"
   ],
   "metadata": {
    "collapsed": false,
    "pycharm": {
     "name": "#%%\n"
    }
   }
  },
  {
   "cell_type": "code",
   "execution_count": null,
   "outputs": [],
   "source": [],
   "metadata": {
    "collapsed": false,
    "pycharm": {
     "name": "#%%\n"
    }
   }
  }
 ],
 "metadata": {
  "kernelspec": {
   "display_name": "Python 3",
   "language": "python",
   "name": "python3"
  },
  "language_info": {
   "codemirror_mode": {
    "name": "ipython",
    "version": 2
   },
   "file_extension": ".py",
   "mimetype": "text/x-python",
   "name": "python",
   "nbconvert_exporter": "python",
   "pygments_lexer": "ipython2",
   "version": "2.7.6"
  }
 },
 "nbformat": 4,
 "nbformat_minor": 0
}