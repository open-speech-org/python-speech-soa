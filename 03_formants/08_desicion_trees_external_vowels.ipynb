{
 "cells": [
  {
   "cell_type": "code",
   "execution_count": 1,
   "metadata": {
    "collapsed": true
   },
   "outputs": [],
   "source": [
    "import os\n",
    "import numpy as np\n",
    "import pandas as pd\n",
    "from sklearn import tree\n",
    "import pydotplus\n",
    "from sklearn.metrics import accuracy_score, confusion_matrix, ConfusionMatrixDisplay, f1_score, classification_report\n",
    "import pickle"
   ]
  },
  {
   "cell_type": "code",
   "execution_count": 2,
   "outputs": [],
   "source": [
    "formants_folder = \"all_formants_observed_formants_first_5_formants\"\n",
    "def load_formants_from_file(file_path):\n",
    "    return pd.read_csv(file_path)\n"
   ],
   "metadata": {
    "collapsed": false,
    "pycharm": {
     "name": "#%%\n"
    }
   }
  },
  {
   "cell_type": "code",
   "execution_count": 3,
   "outputs": [],
   "source": [
    "full_data = pd.DataFrame()\n",
    "for formant_file in os.listdir(formants_folder):\n",
    "    full_data = full_data.append(load_formants_from_file(os.path.join(formants_folder, formant_file)), ignore_index=True)\n",
    "\n"
   ],
   "metadata": {
    "collapsed": false,
    "pycharm": {
     "name": "#%%\n"
    }
   }
  },
  {
   "cell_type": "code",
   "execution_count": 4,
   "outputs": [],
   "source": [
    "phoneme_remap = {\n",
    " 'sil': 'sil',\n",
    " 'g': 'non_vowel',\n",
    " 'a': 'a',\n",
    " 'f': 'non_vowel',\n",
    " 's': 'non_vowel',\n",
    " 'n': 'non_vowel',\n",
    " 'r': 'non_vowel',\n",
    " 'j': 'non_vowel',\n",
    " 'R': 'non_vowel',\n",
    " 'o': 'non_vowel',\n",
    " 'b': 'non_vowel',\n",
    " 'i': 'i',\n",
    " 'k': 'non_vowel',\n",
    " 'u': 'u',\n",
    " 'd': 'non_vowel',\n",
    " 'e': 'non_vowel',\n",
    " 'l': 'non_vowel',\n",
    " 'c': 'non_vowel',\n",
    " 'm': 'non_vowel',\n",
    " 't': 'non_vowel',\n",
    " 'p': 'non_vowel',\n",
    " 'y': 'non_vowel',\n",
    " 'C': 'non_vowel',\n",
    " 'N': 'non_vowel',\n",
    " '': 'non_vowel',\n",
    " 'S': 'non_vowel'\n",
    "}\n",
    "\n",
    "full_data[\"phoneme\"].replace(phoneme_remap, inplace=True)\n"
   ],
   "metadata": {
    "collapsed": false,
    "pycharm": {
     "name": "#%%\n"
    }
   }
  },
  {
   "cell_type": "code",
   "execution_count": 5,
   "outputs": [],
   "source": [
    "sil_frames = full_data[full_data[\"phoneme\"] == \"sil\"]\n",
    "\n",
    "full_data = full_data.drop(sil_frames.index)\n"
   ],
   "metadata": {
    "collapsed": false,
    "pycharm": {
     "name": "#%%\n"
    }
   }
  },
  {
   "cell_type": "code",
   "execution_count": 6,
   "outputs": [],
   "source": [
    "full_data['phoneme']\n",
    "all_phonemes = [str(s) for s in full_data['phoneme'].unique()]\n"
   ],
   "metadata": {
    "collapsed": false,
    "pycharm": {
     "name": "#%%\n"
    }
   }
  },
  {
   "cell_type": "code",
   "execution_count": 7,
   "outputs": [
    {
     "data": {
      "text/plain": "{'a': [1007, 1008, 1009, 1010, 1011, 1012, 1013, 1014, 1015, 1016, 1017, 1018, 1019, 1020, 1021, 1022, 1023, 1024, 1201, 1202, 1203, 1204, 1205, 1206, 1207, 1208, 1209, 1210, 1211, 1212, 1213, 1214, 1215, 1216, 1217, 1218, 1219, 1220, 1221, 1222, 1223, 1224, 1225, 1226, 1227, 1648, 1649, 1650, 1651, 1652, 1653, 1654, 1655, 1656, 1657, 1658, 1659, 1660, 1661, 1662, 2885, 2886, 2887, 2888, 2889, 2890, 2891, 2892, 2893, 2894, 2895, 2896, 2897, 2898, 2899, 2900, 2901, 3061, 3062, 3063, 3064, 3065, 3066, 3067, 3068, 3069, 3070, 3071, 3072, 3073, 3074, 3075, 3076, 3077, 3078, 3079, 3080, 3081, 3082, 3083, ...], 'i': [2137, 2138, 2139, 2140, 2141, 2142, 2143, 2144, 2145, 2146, 2147, 2148, 2149, 2150, 2151, 2152, 2376, 2377, 2378, 2379, 2380, 2381, 2382, 2383, 2384, 2385, 2386, 2387, 2388, 2389, 2390, 2391, 2392, 2393, 2394, 2395, 2396, 2397, 2398, 2399, 2400, 2401, 2402, 2403, 2404, 2405, 2406, 2407, 2408, 2409, 2410, 2411, 2412, 3110, 3111, 3112, 3113, 3114, 3115, 3116, 3117, 3118, 3119, 3120, 3121, 3122, 3123, 3124, 3125, 3126, 3127, 3128, 3129, 3130, 3131, 3132, 3133, 3319, 3320, 3321, 3322, 3323, 3324, 3325, 3326, 3327, 3328, 3329, 3330, 3331, 3332, 3333, 4457, 4458, 4459, 4460, 4461, 4462, 4463, 4464, ...], 'non_vowel': [148, 149, 150, 151, 152, 153, 154, 155, 156, 157, 158, 159, 160, 161, 162, 163, 164, 165, 166, 167, 168, 169, 170, 171, 172, 173, 174, 175, 176, 177, 178, 179, 180, 181, 182, 183, 184, 185, 186, 187, 188, 189, 190, 191, 192, 193, 194, 195, 196, 197, 198, 199, 200, 201, 202, 203, 204, 205, 206, 207, 208, 209, 210, 211, 212, 213, 214, 215, 216, 217, 218, 219, 220, 221, 222, 223, 224, 225, 226, 227, 228, 229, 230, 231, 232, 233, 234, 235, 236, 237, 238, 338, 339, 340, 341, 342, 343, 344, 345, 346, ...], 'u': [356, 357, 358, 359, 360, 361, 362, 363, 364, 365, 366, 367, 368, 369, 370, 371, 372, 373, 374, 375, 376, 377, 378, 873, 874, 875, 876, 877, 878, 879, 880, 881, 882, 883, 884, 885, 886, 887, 888, 889, 890, 891, 892, 893, 894, 895, 896, 897, 898, 899, 900, 901, 902, 903, 904, 905, 906, 907, 908, 909, 910, 1638, 1639, 1640, 1641, 1642, 1643, 1644, 1645, 1646, 1647, 4436, 4437, 4438, 4439, 4440, 4441, 4442, 4443, 4444, 4445, 4446, 4447, 4448, 4449, 4450, 4451, 5178, 5179, 5180, 5181, 5182, 5183, 5184, 5185, 5186, 5187, 5188, 5189, 5190, ...]}"
     },
     "execution_count": 7,
     "metadata": {},
     "output_type": "execute_result"
    }
   ],
   "source": [
    "phonemes_grouped = full_data.groupby('phoneme')\n",
    "\n",
    "phonemes_grouped.groups\n"
   ],
   "metadata": {
    "collapsed": false,
    "pycharm": {
     "name": "#%%\n"
    }
   }
  },
  {
   "cell_type": "code",
   "execution_count": 8,
   "outputs": [],
   "source": [
    "phoneme_count = full_data['phoneme'].value_counts()\n",
    "percentage_to_extract_test = 0.1\n",
    "fixed_extra_to_test = 5\n",
    "\n",
    "values_to_extract = (phoneme_count * percentage_to_extract_test + fixed_extra_to_test).round()\n",
    "values_to_extract = values_to_extract.apply(np.int64)\n",
    "\n"
   ],
   "metadata": {
    "collapsed": false,
    "pycharm": {
     "name": "#%%\n"
    }
   }
  },
  {
   "cell_type": "code",
   "execution_count": 9,
   "outputs": [
    {
     "name": "stderr",
     "output_type": "stream",
     "text": [
      "/home/ma0/miniconda3/envs/master_thesis/lib/python3.8/site-packages/pandas/core/frame.py:3188: SettingWithCopyWarning: \n",
      "A value is trying to be set on a copy of a slice from a DataFrame.\n",
      "Try using .loc[row_indexer,col_indexer] = value instead\n",
      "\n",
      "See the caveats in the documentation: https://pandas.pydata.org/pandas-docs/stable/user_guide/indexing.html#returning-a-view-versus-a-copy\n",
      "  self[k1] = value[k2]\n"
     ]
    }
   ],
   "source": [
    "train_set = full_data.dropna(subset=[\"phoneme\"])\n",
    "train_set[[\"i\"]] = train_set[[\"i\"]].fillna(value=-300)\n",
    "test_set = pd.DataFrame()\n",
    "for index, value in values_to_extract.items():\n",
    "    sub_data_frame = train_set[train_set[\"phoneme\"] == index]\n",
    "    test_to_remove = sub_data_frame.sample(value)\n",
    "    test_set = test_set.append(test_to_remove)\n",
    "    train_set = train_set.drop(test_to_remove.index)"
   ],
   "metadata": {
    "collapsed": false,
    "pycharm": {
     "name": "#%%\n"
    }
   }
  },
  {
   "cell_type": "code",
   "execution_count": 10,
   "outputs": [
    {
     "name": "stdout",
     "output_type": "stream",
     "text": [
      "['f_1', 'f_2', 'f_3', 'f_4', 'f_5', 'i']\n"
     ]
    }
   ],
   "source": [
    "FORMANTS_TO_EXTRACT = 5\n",
    "formant_names = [f\"f_{i+1}\" for i in range(FORMANTS_TO_EXTRACT)]\n",
    "\n",
    "formant_names.append(\"i\")\n",
    "print(formant_names)"
   ],
   "metadata": {
    "collapsed": false,
    "pycharm": {
     "name": "#%%\n"
    }
   }
  },
  {
   "cell_type": "code",
   "execution_count": 11,
   "outputs": [],
   "source": [
    "train_data = train_set[formant_names].fillna(train_set[formant_names].mean())\n"
   ],
   "metadata": {
    "collapsed": false,
    "pycharm": {
     "name": "#%%\n"
    }
   }
  },
  {
   "cell_type": "code",
   "execution_count": 12,
   "outputs": [
    {
     "data": {
      "text/plain": "DecisionTreeClassifier(ccp_alpha=0.0, class_weight=None, criterion='gini',\n                       max_depth=6, max_features=None, max_leaf_nodes=None,\n                       min_impurity_decrease=0.0, min_impurity_split=None,\n                       min_samples_leaf=1, min_samples_split=2,\n                       min_weight_fraction_leaf=0.0, presort='deprecated',\n                       random_state=None, splitter='best')"
     },
     "execution_count": 12,
     "metadata": {},
     "output_type": "execute_result"
    }
   ],
   "source": [
    "tree_classifier = tree.DecisionTreeClassifier(max_depth=6)\n",
    "tree_classifier.fit(train_data, train_set['phoneme'])"
   ],
   "metadata": {
    "collapsed": false,
    "pycharm": {
     "name": "#%%\n"
    }
   }
  },
  {
   "cell_type": "code",
   "execution_count": 13,
   "outputs": [
    {
     "data": {
      "text/plain": "0.8120728929384966"
     },
     "execution_count": 13,
     "metadata": {},
     "output_type": "execute_result"
    }
   ],
   "source": [
    "test_data = test_set[formant_names].fillna(train_set[formant_names].mean())\n",
    "predicted = tree_classifier.predict(test_data[formant_names])\n",
    "score = accuracy_score(test_set[\"phoneme\"], predicted)\n",
    "score"
   ],
   "metadata": {
    "collapsed": false,
    "pycharm": {
     "name": "#%%\n"
    }
   }
  },
  {
   "cell_type": "code",
   "execution_count": 14,
   "outputs": [
    {
     "name": "stdout",
     "output_type": "stream",
     "text": [
      "              precision    recall  f1-score   support\n",
      "\n",
      "   non_vowel     0.8239    0.9294    0.8735       609\n",
      "           u     1.0000    0.2000    0.3333        35\n",
      "           a     0.7500    0.7330    0.7414       176\n",
      "           i     0.9167    0.1897    0.3143        58\n",
      "         nan     0.0000    0.0000    0.0000         0\n",
      "\n",
      "   micro avg     0.8121    0.8121    0.8121       878\n",
      "   macro avg     0.6981    0.4104    0.4525       878\n",
      "weighted avg     0.8222    0.8121    0.7885       878\n",
      "\n"
     ]
    },
    {
     "name": "stderr",
     "output_type": "stream",
     "text": [
      "/home/ma0/miniconda3/envs/master_thesis/lib/python3.8/site-packages/sklearn/metrics/_classification.py:1272: UndefinedMetricWarning: Precision and F-score are ill-defined and being set to 0.0 in labels with no predicted samples. Use `zero_division` parameter to control this behavior.\n",
      "  _warn_prf(average, modifier, msg_start, len(result))\n",
      "/home/ma0/miniconda3/envs/master_thesis/lib/python3.8/site-packages/sklearn/metrics/_classification.py:1272: UndefinedMetricWarning: Recall and F-score are ill-defined and being set to 0.0 in labels with no true samples. Use `zero_division` parameter to control this behavior.\n",
      "  _warn_prf(average, modifier, msg_start, len(result))\n"
     ]
    }
   ],
   "source": [
    "report = classification_report(test_set[\"phoneme\"], predicted, labels=all_phonemes, digits=4)\n",
    "print(report)"
   ],
   "metadata": {
    "collapsed": false,
    "pycharm": {
     "name": "#%%\n"
    }
   }
  },
  {
   "cell_type": "markdown",
   "source": [],
   "metadata": {
    "collapsed": false,
    "pycharm": {
     "name": "#%% md\n"
    }
   }
  },
  {
   "cell_type": "code",
   "execution_count": 15,
   "outputs": [
    {
     "name": "stdout",
     "output_type": "stream",
     "text": [
      "|--- feature_0 <= 596.74\n",
      "|   |--- feature_1 <= 1987.01\n",
      "|   |   |--- feature_1 <= 725.28\n",
      "|   |   |   |--- feature_5 <= 72.14\n",
      "|   |   |   |   |--- feature_0 <= 413.94\n",
      "|   |   |   |   |   |--- feature_4 <= 3262.24\n",
      "|   |   |   |   |   |   |--- class: i\n",
      "|   |   |   |   |   |--- feature_4 >  3262.24\n",
      "|   |   |   |   |   |   |--- class: non_vowel\n",
      "|   |   |   |   |--- feature_0 >  413.94\n",
      "|   |   |   |   |   |--- feature_0 <= 485.19\n",
      "|   |   |   |   |   |   |--- class: u\n",
      "|   |   |   |   |   |--- feature_0 >  485.19\n",
      "|   |   |   |   |   |   |--- class: non_vowel\n",
      "|   |   |   |--- feature_5 >  72.14\n",
      "|   |   |   |   |--- feature_4 <= 3391.41\n",
      "|   |   |   |   |   |--- class: non_vowel\n",
      "|   |   |   |   |--- feature_4 >  3391.41\n",
      "|   |   |   |   |   |--- feature_2 <= 2041.65\n",
      "|   |   |   |   |   |   |--- class: u\n",
      "|   |   |   |   |   |--- feature_2 >  2041.65\n",
      "|   |   |   |   |   |   |--- class: non_vowel\n",
      "|   |   |--- feature_1 >  725.28\n",
      "|   |   |   |--- feature_0 <= 459.62\n",
      "|   |   |   |   |--- feature_5 <= 75.51\n",
      "|   |   |   |   |   |--- feature_3 <= 2797.59\n",
      "|   |   |   |   |   |   |--- class: non_vowel\n",
      "|   |   |   |   |   |--- feature_3 >  2797.59\n",
      "|   |   |   |   |   |   |--- class: non_vowel\n",
      "|   |   |   |   |--- feature_5 >  75.51\n",
      "|   |   |   |   |   |--- feature_1 <= 1411.66\n",
      "|   |   |   |   |   |   |--- class: non_vowel\n",
      "|   |   |   |   |   |--- feature_1 >  1411.66\n",
      "|   |   |   |   |   |   |--- class: non_vowel\n",
      "|   |   |   |--- feature_0 >  459.62\n",
      "|   |   |   |   |--- feature_3 <= 2479.30\n",
      "|   |   |   |   |   |--- feature_4 <= 3376.73\n",
      "|   |   |   |   |   |   |--- class: non_vowel\n",
      "|   |   |   |   |   |--- feature_4 >  3376.73\n",
      "|   |   |   |   |   |   |--- class: a\n",
      "|   |   |   |   |--- feature_3 >  2479.30\n",
      "|   |   |   |   |   |--- feature_0 <= 524.03\n",
      "|   |   |   |   |   |   |--- class: non_vowel\n",
      "|   |   |   |   |   |--- feature_0 >  524.03\n",
      "|   |   |   |   |   |   |--- class: non_vowel\n",
      "|   |--- feature_1 >  1987.01\n",
      "|   |   |--- feature_5 <= 74.87\n",
      "|   |   |   |--- feature_3 <= 3368.71\n",
      "|   |   |   |   |--- feature_4 <= 3778.92\n",
      "|   |   |   |   |   |--- feature_1 <= 1997.70\n",
      "|   |   |   |   |   |   |--- class: i\n",
      "|   |   |   |   |   |--- feature_1 >  1997.70\n",
      "|   |   |   |   |   |   |--- class: non_vowel\n",
      "|   |   |   |   |--- feature_4 >  3778.92\n",
      "|   |   |   |   |   |--- class: i\n",
      "|   |   |   |--- feature_3 >  3368.71\n",
      "|   |   |   |   |--- feature_1 <= 2335.21\n",
      "|   |   |   |   |   |--- feature_2 <= 2506.82\n",
      "|   |   |   |   |   |   |--- class: non_vowel\n",
      "|   |   |   |   |   |--- feature_2 >  2506.82\n",
      "|   |   |   |   |   |   |--- class: non_vowel\n",
      "|   |   |   |   |--- feature_1 >  2335.21\n",
      "|   |   |   |   |   |--- feature_2 <= 2816.46\n",
      "|   |   |   |   |   |   |--- class: i\n",
      "|   |   |   |   |   |--- feature_2 >  2816.46\n",
      "|   |   |   |   |   |   |--- class: non_vowel\n",
      "|   |   |--- feature_5 >  74.87\n",
      "|   |   |   |--- feature_0 <= 416.99\n",
      "|   |   |   |   |--- feature_3 <= 3802.58\n",
      "|   |   |   |   |   |--- feature_5 <= 78.32\n",
      "|   |   |   |   |   |   |--- class: i\n",
      "|   |   |   |   |   |--- feature_5 >  78.32\n",
      "|   |   |   |   |   |   |--- class: i\n",
      "|   |   |   |   |--- feature_3 >  3802.58\n",
      "|   |   |   |   |   |--- class: non_vowel\n",
      "|   |   |   |--- feature_0 >  416.99\n",
      "|   |   |   |   |--- feature_4 <= 4108.80\n",
      "|   |   |   |   |   |--- class: non_vowel\n",
      "|   |   |   |   |--- feature_4 >  4108.80\n",
      "|   |   |   |   |   |--- feature_3 <= 3697.85\n",
      "|   |   |   |   |   |   |--- class: i\n",
      "|   |   |   |   |   |--- feature_3 >  3697.85\n",
      "|   |   |   |   |   |   |--- class: non_vowel\n",
      "|--- feature_0 >  596.74\n",
      "|   |--- feature_5 <= 66.29\n",
      "|   |   |--- feature_2 <= 1902.71\n",
      "|   |   |   |--- feature_1 <= 1169.10\n",
      "|   |   |   |   |--- feature_4 <= 3335.34\n",
      "|   |   |   |   |   |--- feature_1 <= 1129.81\n",
      "|   |   |   |   |   |   |--- class: a\n",
      "|   |   |   |   |   |--- feature_1 >  1129.81\n",
      "|   |   |   |   |   |   |--- class: non_vowel\n",
      "|   |   |   |   |--- feature_4 >  3335.34\n",
      "|   |   |   |   |   |--- class: non_vowel\n",
      "|   |   |   |--- feature_1 >  1169.10\n",
      "|   |   |   |   |--- feature_3 <= 2975.22\n",
      "|   |   |   |   |   |--- feature_0 <= 863.42\n",
      "|   |   |   |   |   |   |--- class: a\n",
      "|   |   |   |   |   |--- feature_0 >  863.42\n",
      "|   |   |   |   |   |   |--- class: a\n",
      "|   |   |   |   |--- feature_3 >  2975.22\n",
      "|   |   |   |   |   |--- feature_4 <= 3572.49\n",
      "|   |   |   |   |   |   |--- class: non_vowel\n",
      "|   |   |   |   |   |--- feature_4 >  3572.49\n",
      "|   |   |   |   |   |   |--- class: a\n",
      "|   |   |--- feature_2 >  1902.71\n",
      "|   |   |   |--- feature_1 <= 1494.53\n",
      "|   |   |   |   |--- feature_5 <= 57.92\n",
      "|   |   |   |   |   |--- feature_1 <= 1191.92\n",
      "|   |   |   |   |   |   |--- class: non_vowel\n",
      "|   |   |   |   |   |--- feature_1 >  1191.92\n",
      "|   |   |   |   |   |   |--- class: non_vowel\n",
      "|   |   |   |   |--- feature_5 >  57.92\n",
      "|   |   |   |   |   |--- feature_1 <= 1209.50\n",
      "|   |   |   |   |   |   |--- class: non_vowel\n",
      "|   |   |   |   |   |--- feature_1 >  1209.50\n",
      "|   |   |   |   |   |   |--- class: a\n",
      "|   |   |   |--- feature_1 >  1494.53\n",
      "|   |   |   |   |--- feature_0 <= 947.07\n",
      "|   |   |   |   |   |--- feature_5 <= 53.40\n",
      "|   |   |   |   |   |   |--- class: non_vowel\n",
      "|   |   |   |   |   |--- feature_5 >  53.40\n",
      "|   |   |   |   |   |   |--- class: non_vowel\n",
      "|   |   |   |   |--- feature_0 >  947.07\n",
      "|   |   |   |   |   |--- feature_1 <= 2015.02\n",
      "|   |   |   |   |   |   |--- class: non_vowel\n",
      "|   |   |   |   |   |--- feature_1 >  2015.02\n",
      "|   |   |   |   |   |   |--- class: non_vowel\n",
      "|   |--- feature_5 >  66.29\n",
      "|   |   |--- feature_1 <= 1815.71\n",
      "|   |   |   |--- feature_0 <= 644.76\n",
      "|   |   |   |   |--- feature_3 <= 2582.25\n",
      "|   |   |   |   |   |--- feature_4 <= 3100.67\n",
      "|   |   |   |   |   |   |--- class: non_vowel\n",
      "|   |   |   |   |   |--- feature_4 >  3100.67\n",
      "|   |   |   |   |   |   |--- class: a\n",
      "|   |   |   |   |--- feature_3 >  2582.25\n",
      "|   |   |   |   |   |--- feature_3 <= 3477.62\n",
      "|   |   |   |   |   |   |--- class: a\n",
      "|   |   |   |   |   |--- feature_3 >  3477.62\n",
      "|   |   |   |   |   |   |--- class: non_vowel\n",
      "|   |   |   |--- feature_0 >  644.76\n",
      "|   |   |   |   |--- feature_2 <= 2404.35\n",
      "|   |   |   |   |   |--- feature_3 <= 3021.73\n",
      "|   |   |   |   |   |   |--- class: a\n",
      "|   |   |   |   |   |--- feature_3 >  3021.73\n",
      "|   |   |   |   |   |   |--- class: a\n",
      "|   |   |   |   |--- feature_2 >  2404.35\n",
      "|   |   |   |   |   |--- feature_1 <= 1749.63\n",
      "|   |   |   |   |   |   |--- class: a\n",
      "|   |   |   |   |   |--- feature_1 >  1749.63\n",
      "|   |   |   |   |   |   |--- class: non_vowel\n",
      "|   |   |--- feature_1 >  1815.71\n",
      "|   |   |   |--- feature_2 <= 2449.83\n",
      "|   |   |   |   |--- feature_3 <= 3509.21\n",
      "|   |   |   |   |   |--- class: a\n",
      "|   |   |   |   |--- feature_3 >  3509.21\n",
      "|   |   |   |   |   |--- class: non_vowel\n",
      "|   |   |   |--- feature_2 >  2449.83\n",
      "|   |   |   |   |--- feature_5 <= 67.43\n",
      "|   |   |   |   |   |--- feature_5 <= 67.24\n",
      "|   |   |   |   |   |   |--- class: i\n",
      "|   |   |   |   |   |--- feature_5 >  67.24\n",
      "|   |   |   |   |   |   |--- class: u\n",
      "|   |   |   |   |--- feature_5 >  67.43\n",
      "|   |   |   |   |   |--- feature_3 <= 4824.23\n",
      "|   |   |   |   |   |   |--- class: non_vowel\n",
      "|   |   |   |   |   |--- feature_3 >  4824.23\n",
      "|   |   |   |   |   |   |--- class: i\n",
      "\n"
     ]
    }
   ],
   "source": [
    "base_name = \"external_vowels\"\n",
    "\n",
    "dt_target_names = [str(s) for s in full_data['phoneme'].unique()]\n",
    "tree.export_graphviz(\n",
    "    tree_classifier,\n",
    "    out_file=f'{base_name}.dot',\n",
    "    feature_names=formant_names,\n",
    "    class_names=all_phonemes,\n",
    "    filled=True\n",
    ")\n",
    "\n",
    "print(tree.export_text(tree_classifier))"
   ],
   "metadata": {
    "collapsed": false,
    "pycharm": {
     "name": "#%%\n"
    }
   }
  },
  {
   "cell_type": "code",
   "execution_count": 16,
   "outputs": [
    {
     "name": "stdout",
     "output_type": "stream",
     "text": [
      "<class 'pydotplus.graphviz.Dot'>\n"
     ]
    }
   ],
   "source": [
    "\n",
    "graph = pydotplus.graph_from_dot_file(f'{base_name}.dot')\n",
    "print(type(graph))\n",
    "with open(f\"{base_name}.png\", \"wb+\") as f:\n",
    "    f.write(graph.create_png())"
   ],
   "metadata": {
    "collapsed": false,
    "pycharm": {
     "name": "#%%\n"
    }
   }
  },
  {
   "cell_type": "code",
   "execution_count": 18,
   "outputs": [],
   "source": [
    "\n",
    "\n",
    "with open(f\"{base_name}.pickle\", \"wb+\") as pickle_file:\n",
    "    pickle.dump(tree_classifier, pickle_file)"
   ],
   "metadata": {
    "collapsed": false,
    "pycharm": {
     "name": "#%%\n"
    }
   }
  },
  {
   "cell_type": "code",
   "execution_count": 17,
   "outputs": [],
   "source": [
    "with open(f\"{base_name}.pickle\", \"wb+\") as pickle_file:\n",
    "    pickle.dump(tree_classifier, pickle_file)"
   ],
   "metadata": {
    "collapsed": false,
    "pycharm": {
     "name": "#%%\n"
    }
   }
  },
  {
   "cell_type": "code",
   "execution_count": null,
   "outputs": [],
   "source": [],
   "metadata": {
    "collapsed": false,
    "pycharm": {
     "name": "#%%\n"
    }
   }
  }
 ],
 "metadata": {
  "kernelspec": {
   "display_name": "Python 3",
   "language": "python",
   "name": "python3"
  },
  "language_info": {
   "codemirror_mode": {
    "name": "ipython",
    "version": 2
   },
   "file_extension": ".py",
   "mimetype": "text/x-python",
   "name": "python",
   "nbconvert_exporter": "python",
   "pygments_lexer": "ipython2",
   "version": "2.7.6"
  }
 },
 "nbformat": 4,
 "nbformat_minor": 0
}