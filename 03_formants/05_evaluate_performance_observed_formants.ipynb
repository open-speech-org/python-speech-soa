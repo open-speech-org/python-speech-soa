{
 "cells": [
  {
   "cell_type": "code",
   "execution_count": 11,
   "outputs": [],
   "source": [
    "from scipy.io import wavfile\n",
    "import csv\n",
    "import os\n",
    "import parselmouth\n",
    "import textgrids\n",
    "from sklearn.metrics import accuracy_score, confusion_matrix, ConfusionMatrixDisplay, f1_score, classification_report\n"
   ],
   "metadata": {
    "collapsed": false,
    "pycharm": {
     "name": "#%%\n"
    }
   }
  },
  {
   "cell_type": "code",
   "execution_count": 12,
   "metadata": {
    "collapsed": true
   },
   "outputs": [],
   "source": [
    "vowels = \"aeiou\"\n",
    "observed_formants = {\n",
    "    'a': [682.845033143518, 1347.6680693901671],\n",
    " 'e': [494.84181512897976, 1619.9787143718208],\n",
    " 'i': [382.33315846211553, 1657.3348620074385],\n",
    " 'o': [506.2493853362084, 1101.1472533066992],\n",
    " 'u': [434.7785079520296, 984.1856223625758]}\n",
    "\n",
    "observed_formants_std = {'a': [73.7791520366105, 93.04641134935628],\n",
    " 'e': [55.49710196672828, 132.8479221603176],\n",
    " 'i': [50.65527125493847, 155.24836087654543],\n",
    " 'o': [60.20226523820195, 170.6404810742714],\n",
    " 'u': [50.328755387520836, 193.66177958793827]}\n",
    "\n",
    "def extract_f1_f2_and_intensity_from_sound(snd):\n",
    "    formants = snd.to_formant_burg()\n",
    "    intensity = snd.to_intensity()\n",
    "    f1 = list()\n",
    "    f2 = list()\n",
    "    intensity_list = list()\n",
    "    for t in formants.t_grid():\n",
    "        f1.append(formants.get_value_at_time(1,t))\n",
    "        f2.append(formants.get_value_at_time(2,t))\n",
    "        intensity_list.append(intensity.get_value(t))\n",
    "\n",
    "    return f1, f2, intensity_list, formants.t_grid()\n",
    "\n",
    "def get_closer_vowel(f1,f2, theoretical_formants=observed_formants):\n",
    "    return min(\n",
    "        map(\n",
    "            lambda x:\n",
    "                (x[0], abs(x[1] - f1) + abs(x[2] - f2)),\n",
    "            ((vowel, t_f1, t_f2) for vowel, (t_f1, t_f2) in theoretical_formants.items())\n",
    "        ),\n",
    "        key=lambda x: x[1]\n",
    "    )\n",
    "\n",
    "def evaluate_non_vocal(vowel_and_distance, observed_std=observed_formants_std):\n",
    "    vowel, distance = vowel_and_distance\n",
    "    if distance > sum(observed_std[vowel]):\n",
    "        return (f'non_vocal_{vowel}', distance)\n",
    "    return vowel_and_distance\n",
    "\n"
   ]
  },
  {
   "cell_type": "code",
   "execution_count": 13,
   "outputs": [
    {
     "data": {
      "text/plain": "['27356,Arete\\n',\n '27358,Reloj\\n',\n '27361,Cadena\\n',\n '27364,Gafas\\n',\n '27365,Anillo\\n',\n '27387,Pollo\\n',\n '36677,Papa\\n',\n '32540,Yuca\\n',\n '33582,Tomate\\n',\n '31873,Zanahoria\\n',\n '36438,Cebolla\\n',\n '35472,Cilantro\\n',\n '29029,Pepino\\n',\n '32621,Habichuela\\n',\n '36271,Te amo\\n',\n '36358,Me gusta\\n',\n '31500,Quiero\\n',\n '35159,Feliz\\n',\n '34100,Triste\\n',\n '28102,Miedo\\n',\n '28728,Odio\\n',\n '32467,Culpa\\n',\n '33981,Enojo\\n',\n '35165,Aburrido\\n',\n '35616,Celos\\n',\n '36265,Amor\\n',\n '34617,Agua\\n',\n '33307,Café\\n',\n '27436,Jugo\\n',\n '29420,Leche\\n',\n '31317,Avena\\n',\n '34014,Chocolate\\n',\n '29809,Limonada\\n',\n '30373,Bombero\\n',\n '32784,Medico\\n',\n '30538,Profesor\\n',\n '28699,Estudiante\\n',\n '32438,Interpretador\\n',\n '28066,Conductor\\n',\n '36798,Enfermero\\n',\n '30380,Cantante\\n',\n '32791,Carpintero\\n',\n '29617,Chef\\n',\n '33954,Fotógrafo\\n',\n '31077,Músico\\n',\n '28487,Odontólogo\\n',\n '31485,Peluquero\\n',\n '36245,Periodista\\n',\n '33962,Piloto\\n',\n '36249,Policía\\n',\n '28492,Pintor\\n',\n '29182,Familia\\n',\n '28186,Papá\\n',\n '33026,Mamá\\n',\n '34274,Hermano\\n',\n '27893,Hermana\\n',\n '30737,Tío\\n',\n '34527,Tía\\n',\n '34040,Primo\\n',\n '33032,Prima\\n',\n '33130,Abuelo\\n',\n '27899,Abuela\\n',\n '34652,Hijo\\n',\n '34283,Hija\\n',\n '32572,Amigo\\n',\n '29455,Amiga\\n',\n '33039,Novio\\n',\n '29843,Novia\\n',\n '27640,Esposo\\n',\n '32316,Esposa\\n',\n '32837,Nieto\\n',\n '27944,Nieta\\n',\n '31014,Sobrino\\n',\n '34663,Sobrina\\n',\n '34056,Grupo\\n',\n '31650,Persona\\n',\n '35547,Niño\\n',\n '35483,Lápiz\\n',\n '31180,Lapicero\\n',\n '28786,Borrador\\n',\n '30453,Sacapunta\\n',\n '30660,Marcador\\n',\n '33568,Regla\\n',\n '28568,Cuaderno\\n',\n '28364,Maletín\\n',\n '34004,Futbol\\n',\n '27885,Baloncesto\\n',\n '33327,Atletismo\\n',\n '28180,Voleibol\\n',\n '29984,Natación\\n',\n '32689,Colegio\\n',\n '32878,Cine\\n',\n '32879,Hotel\\n',\n '33671,Parque\\n',\n '35870,Aeropuerto\\n',\n '32967,Panadería\\n',\n '31397,Banco\\n',\n '35725,Restaurante\\n',\n '32360,Museo\\n',\n '34335,Biblioteca\\n',\n '32972,Estadio\\n',\n '36156,Zoológico\\n',\n '27694,Gimnasio\\n',\n '35879,Hospital\\n',\n '29956,Universidad\\n',\n '30802,Iglesia\\n',\n '29958,Supermercado\\n',\n '29541,Droguería\\n',\n '32895,Casa\\n',\n '29543,Trabajo\\n',\n '32372,Piscina\\n',\n '30808,Baño\\n',\n '31051,Cuarto\\n',\n '36168,Sala\\n',\n '29905,Cocina\\n',\n '28113,Ojo\\n',\n '30670,Nariz\\n',\n '29346,Boca\\n',\n '29766,Oreja\\n',\n '28020,Cabello\\n',\n '29264,Manos\\n',\n '33271,Brazos\\n',\n '29351,Piernas\\n',\n '34585,Pies\\n',\n '30082,Cabeza\\n',\n '31222,Tronco\\n',\n '35049,Cero\\n',\n '30886,Uno\\n',\n '33764,Dos\\n',\n '30888,Tres\\n',\n '30512,Cuatro\\n',\n '28043,Cinco\\n',\n '28459,Seis\\n',\n '30515,Siete\\n',\n '29592,Ocho\\n',\n '35315,Nueve\\n',\n '31753,Diez\\n',\n '34972,Triangulo\\n',\n '27947,Cuadrado\\n',\n '34551,Circulo\\n',\n '27665,Rectángulo\\n',\n '32338,Línea\\n',\n '34897,Hamburguesa\\n',\n '29729,Perro Caliente\\n',\n '28248,Pizza\\n',\n '31888,Pandebono\\n',\n '31997,Pan\\n',\n '29754,Arroz\\n',\n '30065,Huevos\\n',\n '31892,Carne\\n',\n '33259,Pollo\\n',\n '33352,Pescado\\n',\n '33703,Salchichas\\n',\n '29760,Arepa\\n',\n '33054,Ensalada\\n',\n '33264,Pastel\\n',\n '35454,Manzana\\n',\n '31379,Pera\\n',\n '31669,Mango\\n',\n '34316,Sandia\\n',\n '28606,Naranja\\n',\n '31672,Uva\\n',\n '33661,Piña\\n',\n '27507,Mora\\n',\n '34690,Guanábana\\n',\n '28390,Banano\\n',\n '34692,Fresa\\n',\n '27966,Lulo\\n',\n '31679,Limón\\n',\n '33212,Alto\\n',\n '36101,Bajo\\n',\n '35274,Gordo\\n',\n '28844,Flaco\\n',\n '30162,Mucho\\n',\n '34356,Poco\\n',\n '31598,Arriba\\n',\n '29913,Abajo\\n',\n '31717,Cerca\\n',\n '29915,Lejos\\n',\n '31894,Encima\\n',\n '36181,Debajo\\n',\n '33224,Izquierda\\n',\n '30864,Derecha\\n',\n '32740,Adelante\\n',\n '30173,Atrás\\n',\n '36905,Grande\\n',\n '30868,Mediano\\n',\n '35290,Pequeño\\n',\n '34370,Largo\\n',\n '31436,Corto\\n',\n '32936,Dentro\\n',\n '34742,Fuera\\n',\n '36912,Bonito\\n',\n '35039,Feo\\n',\n '28028,Rápido\\n',\n '28867,Lento\\n',\n '34747,Blando\\n',\n '32754,Duro\\n',\n '36129,Sentarse\\n',\n '31739,Pararse\\n',\n '31740,Mayor\\n',\n '28873,Menor\\n',\n '32410,Igual\\n',\n '32587,Cumpleaños\\n',\n '33641,Navidad\\n',\n '31654,Año nuevo\\n',\n '27488,Día del Niño\\n',\n '28235,Halloween\\n',\n '34672,Día de la Mujer\\n',\n '33165,Día de la Madre\\n',\n '32331,Día del Padre\\n',\n '30766,Día del Idioma\\n',\n '29476,Día del Profesor\\n',\n '29103,Color\\n',\n '29975,Amarillo\\n',\n '33315,Azul\\n',\n '31612,Rojo\\n',\n '28335,Verde\\n',\n '29429,Naranja\\n',\n '29816,Violeta\\n',\n '34631,Café\\n',\n '27612,Negro\\n',\n '27881,Blanco\\n',\n '32552,Gris\\n',\n '31331,Rosado\\n',\n '33572,Caminar\\n',\n '35678,Correr\\n',\n '36453,Nadar\\n',\n '28796,Jugar\\n',\n '34171,Comer\\n',\n '35682,Dormir\\n',\n '30465,Limpiar\\n',\n '35139,Bañar\\n',\n '32482,Hora\\n',\n '28196,Minuto\\n',\n '33526,Segundo\\n',\n '28970,Día\\n',\n '36844,Día festivo\\n',\n '34830,Semana\\n',\n '30427,Mes\\n',\n '35185,Año\\n',\n '35080,Enero\\n',\n '36650,Febrero\\n',\n '33534,Marzo\\n',\n '34464,Abril\\n',\n '32143,Mayo\\n',\n '28276,Junio\\n',\n '34839,Julio\\n',\n '31535,Agosto\\n',\n '29672,Septiembre\\n',\n '31537,Octubre\\n',\n '36486,Noviembre\\n',\n '33543,Diciembre\\n',\n '28290,Lunes\\n',\n '34474,Martes\\n',\n '28545,Miércoles\\n',\n '36588,Jueves\\n',\n '28769,Viernes\\n',\n '32507,Sábado\\n',\n '32673,Domingo\\n',\n '31141,Mañana\\n',\n '28316,Tarde\\n',\n '31143,Noche\\n',\n '36871,Ayer\\n',\n '36410,Hoy\\n',\n '29626,Buenos días\\n',\n '36034,Buenas tardes\\n',\n '36257,Buenas noches\\n',\n '31493,Hola\\n',\n '35749,¿Cómo estás?\\n',\n '36260,Adiós\\n',\n '33971,Bienvenido\\n',\n '30398,Gracias\\n',\n '33773,Camisa\\n',\n '28465,Pantalón\\n',\n '33775,Blusa\\n',\n '31464,Falda\\n',\n '35960,Saco\\n',\n '35322,Gorro\\n',\n '33470,Sombrero\\n',\n '28893,Zapato\\n',\n '33781,Medias\\n',\n '33782,Guantes\\n',\n '28474,Pantaloneta\\n',\n '35618,Computador\\n',\n '32473,Celular\\n',\n '36316,Teclado\\n',\n '31106,Ratón\\n',\n '31807,Pantalla\\n',\n '36000,Facebook\\n',\n '28183,WhatsApp\\n',\n '31110,Televisión\\n',\n '32480,Radio\\n',\n '32481,Internet\\n',\n '31284,Perro\\n',\n '33369,Gato\\n',\n '29130,Gallina\\n',\n '33820,Conejo\\n',\n '32820,Sapo\\n',\n '29275,Pato\\n',\n '33283,Ballena\\n',\n '27843,Cerdo\\n',\n '32980,Pollito\\n',\n '28285,León\\n',\n '27414,Tigre\\n',\n '33828,Delfín\\n',\n '32030,Tiburón\\n',\n '34231,Oso\\n',\n '27418,Caballo\\n',\n '34603,Tortuga\\n',\n '32034,Serpiente\\n',\n '33085,Vaca\\n',\n '29226,Pez\\n',\n '27424,Ratón\\n',\n '33921,Mono\\n',\n '28309,Mico\\n',\n '30106,Cocodrilo\\n',\n '28313,Oveja\\n',\n '33733,Elefante\\n',\n '29413,Pájaro\\n',\n '34947,Mariposa\\n',\n '27593,Jirafa\\n',\n '28157,Caracol\\n',\n '28999,Moto\\n',\n '36412,Carro\\n',\n '34152,Bicicleta\\n',\n '32517,Bus\\n',\n '35665,Tren\\n',\n '34491,Avión\\n',\n '36603,Ambulancia\\n',\n '27357,Aretes\\n',\n '27370,Reloj\\n',\n '34186,Cadena\\n',\n '29724,Gafas\\n',\n '34894,Anillo\\n',\n '33851,Correa\\n',\n '27518,Pulsera\\n']"
     },
     "execution_count": 13,
     "metadata": {},
     "output_type": "execute_result"
    }
   ],
   "source": [
    "base_folder = \"words_annotations\"\n",
    "annotations_folder = \"annotations\"\n",
    "wav_folder = \"wav\"\n",
    "annotations_file_path = os.path.join(base_folder, \"word_map.txt\")\n",
    "with open(annotations_file_path) as af:\n",
    "    annotations = af.readlines()\n",
    "annotations"
   ],
   "metadata": {
    "collapsed": false,
    "pycharm": {
     "name": "#%%\n"
    }
   }
  },
  {
   "cell_type": "code",
   "execution_count": 14,
   "outputs": [
    {
     "data": {
      "text/plain": "['o',\n 'o',\n 'o',\n 'o',\n 'o',\n 'o',\n 'o',\n 'o',\n 'o',\n 'non_vowel',\n 'non_vowel',\n 'non_vowel',\n 'non_vowel',\n 'non_vowel',\n 'non_vowel',\n 'non_vowel',\n 'non_vowel',\n 'non_vowel',\n 'non_vowel',\n 'non_vowel',\n 'non_vowel',\n 'non_vowel',\n 'non_vowel',\n 'non_vowel',\n 'non_vowel',\n 'non_vowel',\n 'non_vowel',\n 'non_vowel',\n 'non_vowel',\n 'non_vowel',\n 'non_vowel',\n 'non_vowel',\n 'non_vowel',\n 'non_vowel',\n 'non_vowel',\n 'non_vowel',\n 'non_vowel',\n 'non_vowel',\n 'non_vowel',\n 'non_vowel',\n 'non_vowel',\n 'non_vowel',\n 'non_vowel',\n 'non_vowel',\n 'non_vowel',\n 'non_vowel',\n 'non_vowel',\n 'non_vowel',\n 'non_vowel',\n 'non_vowel',\n 'non_vowel',\n 'non_vowel',\n 'non_vowel',\n 'non_vowel',\n 'a',\n 'a',\n 'a',\n 'a',\n 'a',\n 'a',\n 'a',\n 'a',\n 'a',\n 'a',\n 'a',\n 'a',\n 'a',\n 'a',\n 'a',\n 'a',\n 'a',\n 'a',\n 'a',\n 'non_vowel',\n 'non_vowel',\n 'non_vowel',\n 'non_vowel',\n 'non_vowel',\n 'non_vowel',\n 'e',\n 'e',\n 'e',\n 'e',\n 'e',\n 'e',\n 'e',\n 'e',\n 'e',\n 'e',\n 'e',\n 'e',\n 'e',\n 'e',\n 'e',\n 'e',\n 'e',\n 'e',\n 'e',\n 'e',\n 'e',\n 'e',\n 'e',\n 'non_vowel',\n 'non_vowel',\n 'non_vowel',\n 'non_vowel',\n 'non_vowel',\n 'non_vowel',\n 'non_vowel',\n 'non_vowel',\n 'non_vowel',\n 'non_vowel',\n 'non_vowel',\n 'non_vowel',\n 'non_vowel',\n 'non_vowel',\n 'a',\n 'a',\n 'a',\n 'a',\n 'a',\n 'a',\n 'a',\n 'a',\n 'a',\n 'a',\n 'a',\n 'a',\n 'a',\n 'a',\n 'a',\n 'a',\n 'a',\n 'a',\n 'a',\n 'a',\n 'a',\n 'a',\n 'a',\n 'a',\n 'a',\n 'a',\n 'a',\n 'a',\n 'a',\n 'a',\n 'a',\n 'a',\n 'a',\n 'a',\n 'a',\n 'a',\n 'a',\n 'a',\n 'a',\n 'non_vowel',\n 'non_vowel',\n 'non_vowel',\n 'non_vowel',\n 'non_vowel',\n 'non_vowel',\n 'non_vowel',\n 'non_vowel',\n 'non_vowel',\n 'non_vowel',\n 'non_vowel',\n 'non_vowel',\n 'non_vowel',\n 'non_vowel',\n 'non_vowel',\n 'non_vowel',\n 'non_vowel',\n 'non_vowel',\n 'a',\n 'a',\n 'a',\n 'a',\n 'a',\n 'a',\n 'a',\n 'a',\n 'a',\n 'a',\n 'a',\n 'a',\n 'a',\n 'a',\n 'a',\n 'a',\n 'a',\n 'non_vowel',\n 'non_vowel',\n 'non_vowel',\n 'non_vowel',\n 'non_vowel',\n 'non_vowel',\n 'non_vowel',\n 'non_vowel',\n 'non_vowel',\n 'non_vowel',\n 'non_vowel',\n 'non_vowel',\n 'non_vowel',\n 'non_vowel',\n 'non_vowel',\n 'non_vowel',\n 'a',\n 'a',\n 'a',\n 'a',\n 'a',\n 'a',\n 'a',\n 'a',\n 'a',\n 'a',\n 'a',\n 'a',\n 'non_vowel',\n 'non_vowel',\n 'non_vowel',\n 'non_vowel',\n 'non_vowel',\n 'non_vowel',\n 'non_vowel',\n 'non_vowel',\n 'non_vowel',\n 'non_vowel',\n 'non_vowel',\n 'non_vowel',\n 'non_vowel',\n 'non_vowel',\n 'non_vowel',\n 'non_vowel',\n 'non_vowel',\n 'non_vowel',\n 'non_vowel',\n 'non_vowel',\n 'non_vowel',\n 'non_vowel',\n 'non_vowel',\n 'non_vowel',\n 'non_vowel',\n 'a',\n 'a',\n 'a',\n 'a',\n 'a',\n 'a',\n 'a',\n 'a',\n 'a',\n 'a',\n 'a',\n 'a',\n 'a',\n 'a',\n 'a',\n 'a',\n 'a',\n 'a',\n 'non_vowel',\n 'non_vowel',\n 'non_vowel',\n 'non_vowel',\n 'non_vowel',\n 'non_vowel',\n 'non_vowel',\n 'non_vowel',\n 'non_vowel',\n 'i',\n 'i',\n 'i',\n 'i',\n 'i',\n 'i',\n 'i',\n 'i',\n 'i',\n 'i',\n 'i',\n 'i',\n 'i',\n 'i',\n 'non_vowel',\n 'non_vowel',\n 'non_vowel',\n 'non_vowel',\n 'non_vowel',\n 'non_vowel',\n 'non_vowel',\n 'non_vowel',\n 'non_vowel',\n 'non_vowel',\n 'non_vowel',\n 'non_vowel',\n 'non_vowel',\n 'non_vowel',\n 'non_vowel',\n 'non_vowel',\n 'non_vowel',\n 'non_vowel',\n 'o',\n 'o',\n 'o',\n 'o',\n 'o',\n 'o',\n 'o',\n 'o',\n 'o',\n 'o',\n 'o',\n 'o',\n 'o',\n 'o',\n 'o',\n 'o',\n 'non_vowel',\n 'non_vowel',\n 'non_vowel',\n 'non_vowel',\n 'non_vowel',\n 'o',\n 'o',\n 'o',\n 'o',\n 'o',\n 'o',\n 'o',\n 'o',\n 'o',\n 'o',\n 'o',\n 'o',\n 'o',\n 'o',\n 'o',\n 'o',\n 'o',\n 'non_vowel',\n 'non_vowel',\n 'non_vowel',\n 'non_vowel',\n 'non_vowel',\n 'non_vowel',\n 'non_vowel',\n 'non_vowel',\n 'non_vowel',\n 'non_vowel',\n 'non_vowel',\n 'non_vowel',\n 'non_vowel',\n 'non_vowel',\n 'non_vowel',\n 'non_vowel',\n 'non_vowel',\n 'non_vowel',\n 'non_vowel',\n 'o',\n 'o',\n 'o',\n 'o',\n 'o',\n 'o',\n 'o',\n 'o',\n 'o',\n 'o',\n 'o',\n 'o',\n 'o',\n 'o',\n 'o',\n 'o',\n 'o',\n 'o',\n 'o',\n 'o',\n 'non_vowel',\n 'non_vowel',\n 'non_vowel',\n 'non_vowel',\n 'non_vowel',\n 'non_vowel',\n 'non_vowel',\n 'non_vowel',\n 'non_vowel',\n 'non_vowel',\n 'non_vowel',\n 'non_vowel',\n 'non_vowel',\n 'non_vowel',\n 'non_vowel',\n 'non_vowel',\n 'non_vowel',\n 'non_vowel',\n 'non_vowel',\n 'non_vowel',\n 'non_vowel',\n 'non_vowel',\n 'non_vowel',\n 'non_vowel',\n 'non_vowel',\n 'non_vowel',\n 'non_vowel',\n 'i',\n 'i',\n 'i',\n 'i',\n 'i',\n 'i',\n 'i',\n 'i',\n 'i',\n 'i',\n 'i',\n 'i',\n 'i',\n 'i',\n 'i',\n 'i',\n 'i',\n 'i',\n 'i',\n 'i',\n 'i',\n 'i',\n 'i',\n 'e',\n 'e',\n 'e',\n 'e',\n 'e',\n 'e',\n 'e',\n 'e',\n 'e',\n 'e',\n 'e',\n 'e',\n 'e',\n 'e',\n 'e',\n 'e',\n 'e',\n 'e',\n 'non_vowel',\n 'non_vowel',\n 'non_vowel',\n 'non_vowel',\n 'non_vowel',\n 'non_vowel',\n 'non_vowel',\n 'non_vowel',\n 'non_vowel',\n 'non_vowel',\n 'non_vowel',\n 'non_vowel',\n 'non_vowel',\n 'non_vowel',\n 'non_vowel',\n 'non_vowel',\n 'non_vowel',\n 'non_vowel',\n 'non_vowel',\n 'non_vowel',\n 'non_vowel',\n 'o',\n 'o',\n 'o',\n 'o',\n 'o',\n 'o',\n 'o',\n 'o',\n 'o',\n 'o',\n 'o',\n 'o',\n 'o',\n 'o',\n 'o',\n 'o',\n 'o',\n 'o',\n 'o',\n 'o',\n 'o',\n 'o',\n 'o',\n 'o',\n 'o',\n 'o',\n 'o',\n 'o',\n 'o',\n 'o',\n 'o',\n 'o',\n 'o',\n 'o',\n 'o',\n 'o',\n 'o',\n 'o',\n 'o',\n 'o',\n 'o',\n 'o',\n 'o',\n 'o',\n 'o',\n 'o',\n 'o',\n 'o',\n 'o',\n 'o',\n 'o',\n 'o',\n 'o',\n 'o',\n 'o',\n 'o',\n 'o',\n 'non_vowel',\n 'non_vowel',\n 'non_vowel',\n 'non_vowel',\n 'non_vowel',\n 'non_vowel',\n 'non_vowel',\n 'i',\n 'i',\n 'i',\n 'i',\n 'i',\n 'i',\n 'i',\n 'i',\n 'i',\n 'i',\n 'i',\n 'i',\n 'i',\n 'i',\n 'i',\n 'i',\n 'o',\n 'o',\n 'o',\n 'o',\n 'o',\n 'o',\n 'o',\n 'o',\n 'o',\n 'o',\n 'o',\n 'o',\n 'o',\n 'o',\n 'o',\n 'o',\n 'o',\n 'o',\n 'o',\n 'o',\n 'o',\n 'o',\n 'o',\n 'o',\n 'o',\n 'o',\n 'o',\n 'non_vowel',\n 'non_vowel',\n 'non_vowel',\n 'non_vowel',\n 'non_vowel',\n 'non_vowel',\n 'non_vowel',\n 'non_vowel',\n 'non_vowel',\n 'non_vowel',\n 'non_vowel',\n 'non_vowel',\n 'non_vowel',\n 'non_vowel',\n 'non_vowel',\n 'non_vowel',\n 'non_vowel',\n 'non_vowel',\n 'non_vowel',\n 'e',\n 'e',\n 'e',\n 'e',\n 'e',\n 'e',\n 'e',\n 'e',\n 'e',\n 'e',\n 'e',\n 'e',\n 'e',\n 'e',\n 'e',\n 'e',\n 'e',\n 'e',\n 'e',\n 'e',\n 'e',\n 'e',\n 'non_vowel',\n 'non_vowel',\n 'non_vowel',\n 'non_vowel',\n 'non_vowel',\n 'non_vowel',\n 'non_vowel',\n 'non_vowel',\n 'non_vowel',\n 'non_vowel',\n 'non_vowel',\n 'non_vowel',\n 'non_vowel',\n 'non_vowel',\n 'non_vowel',\n 'e',\n 'e',\n 'e',\n 'e',\n 'e',\n 'e',\n 'e',\n 'e',\n 'e',\n 'e',\n 'e',\n 'e',\n 'e',\n 'e',\n 'e',\n 'e',\n 'e',\n 'e',\n 'e',\n 'e',\n 'e',\n 'e',\n 'e',\n 'non_vowel',\n 'non_vowel',\n 'non_vowel',\n 'non_vowel',\n 'non_vowel',\n 'non_vowel',\n 'non_vowel',\n 'non_vowel',\n 'non_vowel',\n 'non_vowel',\n 'non_vowel',\n 'non_vowel',\n 'i',\n 'i',\n 'i',\n 'i',\n 'i',\n 'i',\n 'i',\n 'i',\n 'i',\n 'i',\n 'i',\n 'i',\n 'i',\n 'i',\n 'i',\n 'i',\n 'non_vowel',\n 'non_vowel',\n 'non_vowel',\n 'non_vowel',\n 'non_vowel',\n 'non_vowel',\n 'non_vowel',\n 'non_vowel',\n 'non_vowel',\n 'non_vowel',\n 'non_vowel',\n 'o',\n 'o',\n 'o',\n 'o',\n 'o',\n 'o',\n 'o',\n 'o',\n 'o',\n 'o',\n 'o',\n 'o',\n 'non_vowel',\n 'non_vowel',\n 'non_vowel',\n 'non_vowel',\n 'non_vowel',\n 'non_vowel',\n 'non_vowel',\n 'non_vowel',\n 'non_vowel',\n 'non_vowel',\n 'non_vowel',\n 'non_vowel',\n 'non_vowel',\n 'a',\n 'a',\n 'a',\n 'a',\n 'a',\n 'a',\n 'a',\n 'a',\n 'a',\n 'a',\n 'a',\n 'a',\n 'non_vowel',\n 'non_vowel',\n 'non_vowel',\n 'non_vowel',\n 'non_vowel',\n 'non_vowel',\n 'a',\n 'a',\n 'a',\n 'a',\n 'a',\n 'a',\n 'a',\n 'a',\n 'a',\n 'a',\n 'a',\n 'a',\n 'a',\n 'a',\n 'a',\n 'a',\n 'a',\n 'a',\n 'a',\n 'a',\n 'a',\n 'a',\n 'a',\n 'a',\n 'a',\n 'e',\n 'e',\n 'e',\n 'e',\n 'e',\n 'e',\n 'e',\n 'e',\n 'e',\n 'e',\n 'e',\n 'e',\n 'e',\n 'e',\n 'e',\n 'e',\n 'e',\n 'e',\n 'e',\n 'e',\n 'e',\n 'e',\n 'e',\n 'non_vowel',\n 'non_vowel',\n 'non_vowel',\n 'non_vowel',\n 'non_vowel',\n 'non_vowel',\n 'non_vowel',\n 'non_vowel',\n 'non_vowel',\n 'non_vowel',\n 'non_vowel',\n 'non_vowel',\n 'non_vowel',\n 'non_vowel',\n 'non_vowel',\n 'non_vowel',\n 'non_vowel',\n 'non_vowel',\n 'non_vowel',\n 'non_vowel',\n 'non_vowel',\n 'non_vowel',\n 'non_vowel',\n 'u',\n 'u',\n 'u',\n 'u',\n 'u',\n 'u',\n 'u',\n 'u',\n 'u',\n 'u',\n 'u',\n 'u',\n 'u',\n 'u',\n 'u',\n 'u',\n 'non_vowel',\n 'non_vowel',\n 'non_vowel',\n 'non_vowel',\n 'non_vowel',\n 'i',\n 'i',\n 'i',\n 'i',\n 'i',\n 'i',\n 'i',\n 'i',\n 'i',\n 'i',\n 'i',\n 'i',\n 'i',\n 'i',\n 'i',\n 'a',\n 'a',\n 'a',\n 'a',\n 'a',\n 'a',\n 'a',\n 'a',\n 'a',\n 'a',\n 'a',\n 'a',\n 'a',\n 'a',\n 'a',\n 'a',\n 'a',\n 'a',\n 'a',\n 'non_vowel',\n 'non_vowel',\n 'non_vowel',\n 'non_vowel',\n 'non_vowel',\n 'non_vowel',\n 'non_vowel',\n 'non_vowel',\n 'non_vowel',\n 'non_vowel',\n 'non_vowel',\n 'non_vowel',\n 'non_vowel',\n 'non_vowel',\n 'non_vowel',\n 'non_vowel',\n 'non_vowel',\n 'non_vowel',\n 'non_vowel',\n 'non_vowel',\n 'non_vowel',\n 'non_vowel',\n 'non_vowel',\n 'non_vowel',\n 'non_vowel',\n 'non_vowel',\n 'non_vowel',\n 'e',\n 'e',\n 'e',\n 'e',\n 'e',\n 'e',\n 'e',\n 'e',\n 'e',\n 'e',\n 'e',\n 'e',\n 'e',\n 'e',\n 'e',\n 'e',\n 'e',\n 'e',\n 'e',\n 'e',\n 'non_vowel',\n 'non_vowel',\n 'non_vowel',\n 'non_vowel',\n 'non_vowel',\n 'non_vowel',\n 'non_vowel',\n 'non_vowel',\n 'non_vowel',\n 'non_vowel',\n 'non_vowel',\n 'non_vowel',\n 'non_vowel',\n 'non_vowel',\n 'non_vowel',\n 'non_vowel',\n 'non_vowel',\n 'non_vowel',\n 'non_vowel',\n 'non_vowel',\n 'non_vowel',\n 'non_vowel',\n 'non_vowel',\n 'non_vowel',\n 'non_vowel',\n 'non_vowel',\n 'non_vowel',\n 'non_vowel',\n 'non_vowel',\n 'non_vowel',\n 'non_vowel',\n 'non_vowel',\n 'non_vowel',\n 'non_vowel',\n 'non_vowel',\n 'non_vowel',\n 'non_vowel',\n 'non_vowel',\n 'non_vowel',\n 'non_vowel',\n 'non_vowel',\n 'non_vowel',\n 'non_vowel',\n 'non_vowel',\n 'non_vowel',\n 'non_vowel',\n 'non_vowel',\n 'non_vowel',\n 'non_vowel',\n 'non_vowel',\n 'non_vowel',\n 'non_vowel',\n 'non_vowel',\n 'non_vowel',\n 'non_vowel',\n 'non_vowel',\n 'o',\n 'o',\n 'o',\n 'o',\n 'o',\n 'o',\n 'o',\n 'o',\n 'o',\n 'o',\n 'o',\n 'o',\n 'o',\n 'o',\n 'o',\n 'o',\n 'o',\n 'o',\n 'o',\n 'o',\n 'o',\n 'o',\n 'o',\n 'o',\n 'o',\n 'non_vowel',\n 'non_vowel',\n 'non_vowel',\n 'non_vowel',\n 'non_vowel',\n 'non_vowel',\n 'non_vowel',\n 'non_vowel',\n 'non_vowel',\n 'non_vowel',\n ...]"
     },
     "execution_count": 14,
     "metadata": {},
     "output_type": "execute_result"
    }
   ],
   "source": [
    "expected = list()\n",
    "result = list()\n",
    "vowels = \"aeiou\"\n",
    "for annotation in annotations:\n",
    "    record_name, transcription = annotation.replace(\"\\n\", \"\").split(\",\")\n",
    "    record_path = os.path.join(base_folder, wav_folder, f\"{record_name}.wav\")\n",
    "    transcription_file = os.path.join(base_folder, annotations_folder, f\"{record_name}.TextGrid\")\n",
    "    if os.path.exists(transcription_file):\n",
    "        current_text_grid = textgrids.TextGrid(transcription_file)\n",
    "        try:\n",
    "            # print(\"TRANSCRIPTION:\", transcription)\n",
    "            intervals = current_text_grid[transcription.lower()]\n",
    "            vowels_intervals = list()\n",
    "            if os.path.exists(record_path):\n",
    "                snd = parselmouth.Sound(record_path)\n",
    "                field_names = [\"t\", \"f1\", \"f2\", \"i\", \"vowel\", \"distance\"]\n",
    "                for f1, f2, intensity, t in zip(*extract_f1_f2_and_intensity_from_sound(snd)):\n",
    "                    vowel, distance = get_closer_vowel(f1, f2)\n",
    "                    vowel_non_vowel, distance = evaluate_non_vocal((vowel, distance))\n",
    "                    is_non_vowel = vowel_non_vowel.startswith(\"non_vocal_\")\n",
    "                    # Tengo lag mental, esto no es eficiente, no me juzguen\n",
    "                    for interval in intervals:\n",
    "                        if interval.xmin < t < interval.xmax:\n",
    "                            phoneme_annotation = interval.text.strip()\n",
    "                            is_transcription_non_vowel = phoneme_annotation not in vowels\n",
    "                            if phoneme_annotation != \"sil\":\n",
    "                                expected.append(phoneme_annotation if not is_transcription_non_vowel else \"non_vowel\")\n",
    "                                result.append(vowel_non_vowel if not is_non_vowel else \"non_vowel\")\n",
    "\n",
    "            else:\n",
    "                print(f\"Record file {record_path} does not exists\")\n",
    "        except KeyError:\n",
    "            pass\n",
    "\n",
    "\n",
    "expected[100:]\n",
    "\n",
    "\n"
   ],
   "metadata": {
    "collapsed": false,
    "pycharm": {
     "name": "#%%\n"
    }
   }
  },
  {
   "cell_type": "code",
   "execution_count": 15,
   "outputs": [
    {
     "data": {
      "text/plain": "8805"
     },
     "execution_count": 15,
     "metadata": {},
     "output_type": "execute_result"
    }
   ],
   "source": [
    "len(expected)"
   ],
   "metadata": {
    "collapsed": false,
    "pycharm": {
     "name": "#%%\n"
    }
   }
  },
  {
   "cell_type": "code",
   "execution_count": 16,
   "outputs": [
    {
     "data": {
      "text/plain": "['o',\n 'o',\n 'o',\n 'o',\n 'o',\n 'o',\n 'o',\n 'o',\n 'o',\n 'o',\n 'o',\n 'non_vowel',\n 'non_vowel',\n 'non_vowel',\n 'non_vowel',\n 'non_vowel',\n 'non_vowel',\n 'non_vowel',\n 'o',\n 'non_vowel',\n 'non_vowel',\n 'non_vowel',\n 'non_vowel',\n 'non_vowel',\n 'non_vowel',\n 'non_vowel',\n 'non_vowel',\n 'non_vowel',\n 'o',\n 'o',\n 'o',\n 'o',\n 'o',\n 'o',\n 'non_vowel',\n 'non_vowel',\n 'non_vowel',\n 'non_vowel',\n 'non_vowel',\n 'non_vowel',\n 'non_vowel',\n 'non_vowel',\n 'non_vowel',\n 'non_vowel',\n 'non_vowel',\n 'a',\n 'non_vowel',\n 'non_vowel',\n 'non_vowel',\n 'non_vowel',\n 'non_vowel',\n 'e',\n 'non_vowel',\n 'o',\n 'non_vowel',\n 'a',\n 'a',\n 'a',\n 'a',\n 'a',\n 'a',\n 'a',\n 'a',\n 'non_vowel',\n 'o',\n 'non_vowel',\n 'a',\n 'a',\n 'a',\n 'a',\n 'a',\n 'a',\n 'a',\n 'a',\n 'a',\n 'a',\n 'a',\n 'non_vowel',\n 'e',\n 'e',\n 'e',\n 'non_vowel',\n 'e',\n 'e',\n 'e',\n 'e',\n 'e',\n 'e',\n 'e',\n 'e',\n 'e',\n 'e',\n 'e',\n 'e',\n 'e',\n 'non_vowel',\n 'non_vowel',\n 'e',\n 'e',\n 'non_vowel',\n 'non_vowel',\n 'u',\n 'non_vowel',\n 'non_vowel',\n 'non_vowel',\n 'non_vowel',\n 'non_vowel',\n 'u',\n 'o',\n 'non_vowel',\n 'non_vowel',\n 'non_vowel',\n 'non_vowel',\n 'non_vowel',\n 'o',\n 'o',\n 'non_vowel',\n 'a',\n 'a',\n 'a',\n 'a',\n 'a',\n 'a',\n 'non_vowel',\n 'non_vowel',\n 'o',\n 'o',\n 'o',\n 'o',\n 'non_vowel',\n 'non_vowel',\n 'non_vowel',\n 'o',\n 'non_vowel',\n 'non_vowel',\n 'non_vowel',\n 'o',\n 'o',\n 'o',\n 'non_vowel',\n 'non_vowel',\n 'non_vowel',\n 'non_vowel',\n 'non_vowel',\n 'non_vowel',\n 'non_vowel',\n 'non_vowel',\n 'non_vowel',\n 'non_vowel',\n 'non_vowel',\n 'non_vowel',\n 'non_vowel',\n 'non_vowel',\n 'non_vowel',\n 'a',\n 'non_vowel',\n 'non_vowel',\n 'non_vowel',\n 'non_vowel',\n 'non_vowel',\n 'non_vowel',\n 'non_vowel',\n 'o',\n 'u',\n 'u',\n 'non_vowel',\n 'non_vowel',\n 'non_vowel',\n 'a',\n 'a',\n 'non_vowel',\n 'non_vowel',\n 'non_vowel',\n 'o',\n 'o',\n 'o',\n 'o',\n 'o',\n 'non_vowel',\n 'non_vowel',\n 'o',\n 'o',\n 'o',\n 'o',\n 'o',\n 'o',\n 'u',\n 'u',\n 'u',\n 'non_vowel',\n 'non_vowel',\n 'e',\n 'e',\n 'e',\n 'e',\n 'e',\n 'e',\n 'non_vowel',\n 'a',\n 'o',\n 'o',\n 'o',\n 'o',\n 'o',\n 'o',\n 'o',\n 'o',\n 'o',\n 'o',\n 'o',\n 'o',\n 'o',\n 'non_vowel',\n 'o',\n 'non_vowel',\n 'non_vowel',\n 'non_vowel',\n 'non_vowel',\n 'non_vowel',\n 'non_vowel',\n 'non_vowel',\n 'non_vowel',\n 'non_vowel',\n 'i',\n 'i',\n 'non_vowel',\n 'non_vowel',\n 'non_vowel',\n 'non_vowel',\n 'non_vowel',\n 'non_vowel',\n 'non_vowel',\n 'non_vowel',\n 'i',\n 'e',\n 'e',\n 'e',\n 'e',\n 'non_vowel',\n 'non_vowel',\n 'non_vowel',\n 'non_vowel',\n 'a',\n 'a',\n 'a',\n 'a',\n 'a',\n 'a',\n 'a',\n 'a',\n 'a',\n 'a',\n 'non_vowel',\n 'non_vowel',\n 'non_vowel',\n 'non_vowel',\n 'e',\n 'e',\n 'e',\n 'e',\n 'e',\n 'e',\n 'non_vowel',\n 'non_vowel',\n 'non_vowel',\n 'non_vowel',\n 'i',\n 'e',\n 'e',\n 'non_vowel',\n 'non_vowel',\n 'non_vowel',\n 'non_vowel',\n 'non_vowel',\n 'non_vowel',\n 'non_vowel',\n 'non_vowel',\n 'non_vowel',\n 'non_vowel',\n 'non_vowel',\n 'non_vowel',\n 'non_vowel',\n 'non_vowel',\n 'non_vowel',\n 'non_vowel',\n 'non_vowel',\n 'non_vowel',\n 'non_vowel',\n 'non_vowel',\n 'i',\n 'non_vowel',\n 'i',\n 'i',\n 'non_vowel',\n 'i',\n 'non_vowel',\n 'non_vowel',\n 'non_vowel',\n 'non_vowel',\n 'non_vowel',\n 'i',\n 'i',\n 'i',\n 'i',\n 'non_vowel',\n 'non_vowel',\n 'non_vowel',\n 'o',\n 'o',\n 'o',\n 'o',\n 'o',\n 'o',\n 'o',\n 'non_vowel',\n 'non_vowel',\n 'non_vowel',\n 'a',\n 'non_vowel',\n 'o',\n 'u',\n 'u',\n 'u',\n 'u',\n 'u',\n 'u',\n 'u',\n 'u',\n 'u',\n 'u',\n 'u',\n 'o',\n 'o',\n 'o',\n 'o',\n 'o',\n 'non_vowel',\n 'non_vowel',\n 'e',\n 'e',\n 'i',\n 'i',\n 'i',\n 'i',\n 'non_vowel',\n 'e',\n 'i',\n 'i',\n 'i',\n 'i',\n 'i',\n 'i',\n 'i',\n 'i',\n 'i',\n 'i',\n 'i',\n 'i',\n 'i',\n 'e',\n 'non_vowel',\n 'non_vowel',\n 'non_vowel',\n 'o',\n 'o',\n 'o',\n 'o',\n 'o',\n 'o',\n 'o',\n 'u',\n 'u',\n 'o',\n 'o',\n 'non_vowel',\n 'non_vowel',\n 'non_vowel',\n 'e',\n 'a',\n 'non_vowel',\n 'non_vowel',\n 'non_vowel',\n 'non_vowel',\n 'non_vowel',\n 'non_vowel',\n 'non_vowel',\n 'non_vowel',\n 'non_vowel',\n 'non_vowel',\n 'non_vowel',\n 'non_vowel',\n 'non_vowel',\n 'non_vowel',\n 'non_vowel',\n 'non_vowel',\n 'non_vowel',\n 'non_vowel',\n 'non_vowel',\n 'non_vowel',\n 'non_vowel',\n 'non_vowel',\n 'non_vowel',\n 'non_vowel',\n 'non_vowel',\n 'i',\n 'i',\n 'non_vowel',\n 'non_vowel',\n 'non_vowel',\n 'non_vowel',\n 'non_vowel',\n 'non_vowel',\n 'non_vowel',\n 'non_vowel',\n 'non_vowel',\n 'non_vowel',\n 'non_vowel',\n 'non_vowel',\n 'non_vowel',\n 'non_vowel',\n 'non_vowel',\n 'non_vowel',\n 'e',\n 'non_vowel',\n 'non_vowel',\n 'non_vowel',\n 'non_vowel',\n 'non_vowel',\n 'non_vowel',\n 'non_vowel',\n 'a',\n 'non_vowel',\n 'non_vowel',\n 'non_vowel',\n 'non_vowel',\n 'non_vowel',\n 'a',\n 'a',\n 'a',\n 'non_vowel',\n 'non_vowel',\n 'a',\n 'non_vowel',\n 'non_vowel',\n 'non_vowel',\n 'non_vowel',\n 'e',\n 'e',\n 'e',\n 'non_vowel',\n 'non_vowel',\n 'e',\n 'e',\n 'e',\n 'e',\n 'a',\n 'a',\n 'e',\n 'e',\n 'non_vowel',\n 'i',\n 'i',\n 'non_vowel',\n 'non_vowel',\n 'non_vowel',\n 'non_vowel',\n 'non_vowel',\n 'o',\n 'o',\n 'o',\n 'o',\n 'o',\n 'o',\n 'o',\n 'u',\n 'u',\n 'u',\n 'u',\n 'u',\n 'u',\n 'u',\n 'u',\n 'o',\n 'o',\n 'non_vowel',\n 'non_vowel',\n 'non_vowel',\n 'non_vowel',\n 'non_vowel',\n 'non_vowel',\n 'non_vowel',\n 'non_vowel',\n 'non_vowel',\n 'non_vowel',\n 'non_vowel',\n 'non_vowel',\n 'non_vowel',\n 'o',\n 'u',\n 'u',\n 'u',\n 'u',\n 'u',\n 'u',\n 'u',\n 'u',\n 'u',\n 'u',\n 'u',\n 'u',\n 'u',\n 'o',\n 'o',\n 'o',\n 'o',\n 'o',\n 'non_vowel',\n 'non_vowel',\n 'a',\n 'a',\n 'a',\n 'a',\n 'non_vowel',\n 'e',\n 'e',\n 'e',\n 'e',\n 'e',\n 'e',\n 'e',\n 'e',\n 'non_vowel',\n 'non_vowel',\n 'e',\n 'e',\n 'e',\n 'e',\n 'e',\n 'e',\n 'e',\n 'i',\n 'non_vowel',\n 'non_vowel',\n 'non_vowel',\n 'non_vowel',\n 'non_vowel',\n 'non_vowel',\n 'non_vowel',\n 'e',\n 'non_vowel',\n 'a',\n 'non_vowel',\n 'non_vowel',\n 'o',\n 'o',\n 'o',\n 'o',\n 'o',\n 'o',\n 'u',\n 'u',\n 'u',\n 'u',\n 'u',\n 'u',\n 'u',\n 'u',\n 'u',\n 'u',\n 'u',\n 'u',\n 'u',\n 'o',\n 'u',\n 'non_vowel',\n 'non_vowel',\n 'i',\n 'non_vowel',\n 'non_vowel',\n 'i',\n 'non_vowel',\n 'non_vowel',\n 'non_vowel',\n 'non_vowel',\n 'i',\n 'i',\n 'i',\n 'i',\n 'i',\n 'i',\n 'i',\n 'i',\n 'i',\n 'i',\n 'non_vowel',\n 'non_vowel',\n 'non_vowel',\n 'non_vowel',\n 'non_vowel',\n 'non_vowel',\n 'non_vowel',\n 'non_vowel',\n 'non_vowel',\n 'non_vowel',\n 'non_vowel',\n 'non_vowel',\n 'non_vowel',\n 'non_vowel',\n 'non_vowel',\n 'non_vowel',\n 'non_vowel',\n 'non_vowel',\n 'non_vowel',\n 'non_vowel',\n 'non_vowel',\n 'non_vowel',\n 'i',\n 'non_vowel',\n 'non_vowel',\n 'non_vowel',\n 'non_vowel',\n 'non_vowel',\n 'non_vowel',\n 'non_vowel',\n 'non_vowel',\n 'non_vowel',\n 'non_vowel',\n 'non_vowel',\n 'non_vowel',\n 'non_vowel',\n 'non_vowel',\n 'non_vowel',\n 'non_vowel',\n 'non_vowel',\n 'non_vowel',\n 'non_vowel',\n 'non_vowel',\n 'non_vowel',\n 'non_vowel',\n 'non_vowel',\n 'non_vowel',\n 'non_vowel',\n 'non_vowel',\n 'non_vowel',\n 'non_vowel',\n 'non_vowel',\n 'non_vowel',\n 'non_vowel',\n 'non_vowel',\n 'non_vowel',\n 'non_vowel',\n 'non_vowel',\n 'non_vowel',\n 'non_vowel',\n 'non_vowel',\n 'non_vowel',\n 'non_vowel',\n 'non_vowel',\n 'non_vowel',\n 'non_vowel',\n 'non_vowel',\n 'non_vowel',\n 'non_vowel',\n 'non_vowel',\n 'non_vowel',\n 'non_vowel',\n 'non_vowel',\n 'non_vowel',\n 'non_vowel',\n 'i',\n 'e',\n 'e',\n 'e',\n 'e',\n 'e',\n 'e',\n 'i',\n 'e',\n 'non_vowel',\n 'non_vowel',\n 'o',\n 'u',\n 'u',\n 'u',\n 'u',\n 'u',\n 'u',\n 'u',\n 'u',\n 'u',\n 'u',\n 'u',\n 'u',\n 'u',\n 'u',\n 'non_vowel',\n 'non_vowel',\n 'non_vowel',\n 'non_vowel',\n 'non_vowel',\n 'non_vowel',\n 'u',\n 'u',\n 'u',\n 'u',\n 'o',\n 'u',\n 'u',\n 'o',\n 'non_vowel',\n 'non_vowel',\n 'non_vowel',\n 'non_vowel',\n 'non_vowel',\n 'non_vowel',\n 'non_vowel',\n 'non_vowel',\n 'o',\n 'non_vowel',\n 'a',\n 'a',\n 'a',\n 'a',\n 'a',\n 'a',\n 'a',\n 'a',\n 'a',\n 'a',\n 'a',\n 'a',\n 'a',\n 'a',\n 'a',\n 'a',\n 'a',\n 'a',\n 'a',\n 'a',\n 'a',\n 'a',\n 'a',\n 'a',\n 'a',\n 'a',\n 'a',\n 'a',\n 'a',\n 'a',\n 'a',\n 'a',\n 'a',\n 'a',\n 'a',\n 'a',\n 'a',\n 'a',\n 'a',\n 'non_vowel',\n 'non_vowel',\n 'non_vowel',\n 'non_vowel',\n 'a',\n 'a',\n 'a',\n 'a',\n 'a',\n 'a',\n 'a',\n 'a',\n 'e',\n 'e',\n 'e',\n 'e',\n 'non_vowel',\n 'a',\n 'o',\n 'o',\n 'o',\n 'non_vowel',\n 'non_vowel',\n 'non_vowel',\n 'non_vowel',\n 'o',\n 'o',\n 'a',\n 'non_vowel',\n 'non_vowel',\n 'non_vowel',\n 'non_vowel',\n 'a',\n 'a',\n 'o',\n 'non_vowel',\n 'non_vowel',\n 'non_vowel',\n 'non_vowel',\n 'non_vowel',\n 'non_vowel',\n 'non_vowel',\n 'o',\n 'o',\n 'o',\n 'a',\n 'a',\n 'e',\n 'non_vowel',\n 'non_vowel',\n 'non_vowel',\n 'o',\n 'o',\n 'o',\n 'o',\n 'o',\n 'o',\n 'o',\n 'o',\n 'o',\n 'o',\n 'non_vowel',\n 'non_vowel',\n 'non_vowel',\n 'non_vowel',\n 'non_vowel',\n 'non_vowel',\n 'non_vowel',\n 'non_vowel',\n 'non_vowel',\n 'o',\n 'non_vowel',\n 'non_vowel',\n 'non_vowel',\n 'non_vowel',\n 'non_vowel',\n 'non_vowel',\n 'non_vowel',\n 'o',\n 'o',\n 'non_vowel',\n 'non_vowel',\n 'non_vowel',\n 'non_vowel',\n 'a',\n 'non_vowel',\n 'e',\n 'non_vowel',\n 'non_vowel',\n 'a',\n 'a',\n 'a',\n 'non_vowel',\n 'non_vowel',\n 'non_vowel',\n 'non_vowel',\n 'a',\n 'a',\n 'a',\n 'a',\n 'a',\n 'non_vowel',\n 'non_vowel',\n 'non_vowel',\n 'a',\n 'non_vowel',\n 'e',\n 'non_vowel',\n 'o',\n 'o',\n 'o',\n 'o',\n 'non_vowel',\n 'non_vowel',\n 'non_vowel',\n 'non_vowel',\n 'o',\n 'a',\n 'a',\n 'non_vowel',\n 'non_vowel',\n 'non_vowel',\n 'non_vowel',\n 'non_vowel',\n 'non_vowel',\n 'non_vowel',\n 'a',\n 'a',\n 'a',\n 'o',\n 'o',\n 'o',\n 'o',\n 'o',\n 'o',\n 'o',\n 'o',\n 'o',\n 'o',\n 'o',\n 'o',\n 'o',\n 'o',\n 'o',\n 'o',\n 'o',\n 'o',\n 'o',\n 'o',\n 'non_vowel',\n 'o',\n 'non_vowel',\n 'non_vowel',\n 'non_vowel',\n 'non_vowel',\n 'non_vowel',\n 'non_vowel',\n 'non_vowel',\n 'non_vowel',\n 'non_vowel',\n 'non_vowel',\n 'non_vowel',\n 'non_vowel',\n 'non_vowel',\n 'non_vowel',\n 'non_vowel',\n 'non_vowel',\n 'non_vowel',\n 'non_vowel',\n 'non_vowel',\n 'non_vowel',\n 'non_vowel',\n 'non_vowel',\n 'non_vowel',\n 'non_vowel',\n 'non_vowel',\n 'non_vowel',\n 'non_vowel',\n 'non_vowel',\n 'non_vowel',\n 'non_vowel',\n 'non_vowel',\n 'non_vowel',\n 'non_vowel',\n 'non_vowel',\n 'non_vowel',\n 'non_vowel',\n 'non_vowel',\n 'non_vowel',\n 'non_vowel',\n 'a',\n 'non_vowel',\n 'non_vowel',\n 'non_vowel',\n 'non_vowel',\n 'non_vowel',\n 'non_vowel',\n 'non_vowel',\n 'non_vowel',\n 'non_vowel',\n 'a',\n 'non_vowel',\n 'non_vowel',\n 'non_vowel',\n 'non_vowel',\n 'a',\n 'non_vowel',\n 'non_vowel',\n 'u',\n 'u',\n 'u',\n 'u',\n 'u',\n 'u',\n 'u',\n 'u',\n 'u',\n 'u',\n 'u',\n 'u',\n 'u',\n 'u',\n 'u',\n 'u',\n 'u',\n 'u',\n 'u',\n 'u',\n 'u',\n 'u',\n 'u',\n 'u',\n 'u',\n 'u',\n 'u',\n 'u',\n 'non_vowel',\n 'non_vowel',\n 'non_vowel',\n 'non_vowel',\n 'non_vowel',\n 'non_vowel',\n ...]"
     },
     "execution_count": 16,
     "metadata": {},
     "output_type": "execute_result"
    }
   ],
   "source": [
    "result[100:]"
   ],
   "metadata": {
    "collapsed": false,
    "pycharm": {
     "name": "#%%\n"
    }
   }
  },
  {
   "cell_type": "code",
   "execution_count": 17,
   "outputs": [
    {
     "data": {
      "text/plain": "8805"
     },
     "execution_count": 17,
     "metadata": {},
     "output_type": "execute_result"
    }
   ],
   "source": [
    "len(result)"
   ],
   "metadata": {
    "collapsed": false,
    "pycharm": {
     "name": "#%%\n"
    }
   }
  },
  {
   "cell_type": "code",
   "execution_count": 18,
   "outputs": [
    {
     "name": "stdout",
     "output_type": "stream",
     "text": [
      "              precision    recall  f1-score   support\n",
      "\n",
      "           a     0.6019    0.3634    0.4532      1706\n",
      "           e     0.2869    0.2990    0.2928       806\n",
      "           i     0.1452    0.1794    0.1605       535\n",
      "           o     0.3877    0.3102    0.3447      1386\n",
      "           u     0.1039    0.2824    0.1519       301\n",
      "   non_vowel     0.5072    0.5729    0.5381      3849\n",
      "\n",
      "   micro avg     0.4176    0.4284    0.4229      8583\n",
      "   macro avg     0.3388    0.3346    0.3235      8583\n",
      "weighted avg     0.4494    0.4284    0.4299      8583\n",
      "\n"
     ]
    }
   ],
   "source": [
    "report = classification_report(expected, result, labels=[\"a\", \"e\", \"i\", \"o\", \"u\", \"non_vowel\"], digits=4)\n",
    "print(report)"
   ],
   "metadata": {
    "collapsed": false,
    "pycharm": {
     "name": "#%%\n"
    }
   }
  },
  {
   "cell_type": "code",
   "execution_count": 19,
   "outputs": [],
   "source": [
    "performance_dir = \"performance\"\n",
    "os.makedirs(performance_dir, exist_ok=True)"
   ],
   "metadata": {
    "collapsed": false,
    "pycharm": {
     "name": "#%%\n"
    }
   }
  },
  {
   "cell_type": "code",
   "execution_count": 20,
   "outputs": [],
   "source": [
    "with open(os.path.join(performance_dir, f\"performance_observed.txt\"), \"w+\") as f:\n",
    "    f.write(report)"
   ],
   "metadata": {
    "collapsed": false,
    "pycharm": {
     "name": "#%%\n"
    }
   }
  },
  {
   "cell_type": "code",
   "execution_count": null,
   "outputs": [],
   "source": [],
   "metadata": {
    "collapsed": false,
    "pycharm": {
     "name": "#%%\n"
    }
   }
  },
  {
   "cell_type": "markdown",
   "source": [
    "Confusion matrix\n",
    "TP = Evaluated vowel and annotated vowel\n",
    "TN = Evaluated vowel and non annotated vowel\n",
    "FP = Evaluated non vowel and annotated vowel\n",
    "FN = Evaluated non vowel and annotated non vowel\n",
    "WV = Evaluated vowel but not the vowel we want"
   ],
   "metadata": {
    "collapsed": false
   }
  },
  {
   "cell_type": "code",
   "execution_count": null,
   "outputs": [],
   "source": [
    "global_tp = 0\n",
    "global_tn = 0\n",
    "global_fp = 0\n",
    "global_fn = 0\n",
    "global_wv = 0\n",
    "\n",
    "\n",
    "def evaluate_vowel_in_time(vowels_intervals, evaluated_vowel, t):\n",
    "    for t_min, t_max, vowel in vowels_intervals:\n",
    "        if t_min < t < t_max:\n",
    "            if evaluated_vowel == vowel:\n",
    "                return True\n",
    "    return False\n",
    "results = list()\n",
    "for annotation in annotations:\n",
    "    record_name, transcription = annotation.replace(\"\\n\", \"\").split(\",\")\n",
    "    record_path = os.path.join(base_folder, wav_folder, f\"{record_name}.wav\")\n",
    "    transcription_file = os.path.join(base_folder, annotations_folder, f\"{record_name}.TextGrid\")\n",
    "    if os.path.exists(transcription_file):\n",
    "        tp = 0\n",
    "        tn = 0\n",
    "        fp = 0\n",
    "        fn = 0\n",
    "        wv = 0\n",
    "        current_text_grid = textgrids.TextGrid(transcription_file)\n",
    "        try:\n",
    "            print(\"TRANSCRIPTION:\", transcription)\n",
    "            intervals = current_text_grid[transcription.lower()]\n",
    "            vowels_intervals = list()\n",
    "            if os.path.exists(record_path):\n",
    "                snd = parselmouth.Sound(record_path)\n",
    "                field_names = [\"t\", \"f1\", \"f2\", \"i\", \"vowel\", \"distance\"]\n",
    "                for f1, f2, intensity, t in zip(*extract_f1_f2_and_intensity_from_sound(snd)):\n",
    "                    vowel, distance = get_closer_vowel(f1, f2)\n",
    "                    vowel_non_vowel, distance = evaluate_non_vocal((vowel, distance))\n",
    "                    # Tengo lag mental, esto no es eficiente, no me juzguen\n",
    "                    for interval in intervals:\n",
    "                        if interval.xmin < t < interval.xmax:\n",
    "                            phoneme_annotation = interval.text.strip()\n",
    "                            if phoneme_annotation == vowel_non_vowel:\n",
    "                                tp += 1\n",
    "                            elif vowel_non_vowel in vowels and phoneme_annotation not in vowels:\n",
    "                                tn += 1\n",
    "                            elif vowel_non_vowel.startswith(\"non_vocal_\") and phoneme_annotation in vowels:\n",
    "                                fp += 1\n",
    "                            elif vowel_non_vowel.startswith(\"non_vocal_\") and phoneme_annotation not in vowels:\n",
    "                                fn += 1\n",
    "                            else:\n",
    "                                wv += 1\n",
    "                                tp += 1\n",
    "            else:\n",
    "                print(f\"Record file {record_path} does not exists\")\n",
    "        except KeyError:\n",
    "            pass\n",
    "        print(\"Before appending\")\n",
    "        results.append({\n",
    "            \"transcription\": transcription,\n",
    "            \"tp\": tp,\n",
    "            \"tn\": tn,\n",
    "            \"fp\": fp,\n",
    "            \"fn\": fn,\n",
    "            \"wv\": wv\n",
    "        })\n",
    "        global_tp += tp\n",
    "        global_tn += tn\n",
    "        global_fp += fp\n",
    "        global_fn += fn\n",
    "        global_wv += wv\n",
    "\n",
    "\n",
    "results.append({\n",
    "    \"transcription\": \"GLOBAL\",\n",
    "    \"tp\": global_tp,\n",
    "    \"tn\": global_tn,\n",
    "    \"fp\": global_fp,\n",
    "    \"fn\": global_fn,\n",
    "    \"wv\": global_wv\n",
    "})\n",
    "results\n"
   ],
   "metadata": {
    "collapsed": false,
    "pycharm": {
     "name": "#%%\n"
    }
   }
  },
  {
   "cell_type": "code",
   "execution_count": 44,
   "outputs": [],
   "source": [
    "performance_dir = \"performance\"\n",
    "os.makedirs(performance_dir, exist_ok=True)\n",
    "\n",
    "with open(os.path.join(performance_dir, f\"performance_observed.csv\"), \"w+\") as f:\n",
    "    headers = [\"transcription\", \"tp\", \"tn\", \"fp\", \"fn\", \"wv\"]\n",
    "    dict_writer = csv.DictWriter(f, headers)\n",
    "    dict_writer.writeheader()\n",
    "    dict_writer.writerows(results)"
   ],
   "metadata": {
    "collapsed": false,
    "pycharm": {
     "name": "#%%\n"
    }
   }
  },
  {
   "cell_type": "code",
   "execution_count": null,
   "outputs": [],
   "source": [
    "# =(B102+E102)/(SUM(B102:E102))"
   ],
   "metadata": {
    "collapsed": false,
    "pycharm": {
     "name": "#%%\n"
    }
   }
  }
 ],
 "metadata": {
  "kernelspec": {
   "display_name": "Python 3",
   "language": "python",
   "name": "python3"
  },
  "language_info": {
   "codemirror_mode": {
    "name": "ipython",
    "version": 2
   },
   "file_extension": ".py",
   "mimetype": "text/x-python",
   "name": "python",
   "nbconvert_exporter": "python",
   "pygments_lexer": "ipython2",
   "version": "2.7.6"
  }
 },
 "nbformat": 4,
 "nbformat_minor": 0
}