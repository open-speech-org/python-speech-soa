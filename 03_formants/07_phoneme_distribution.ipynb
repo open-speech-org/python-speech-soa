{
 "cells": [
  {
   "cell_type": "code",
   "execution_count": 1,
   "metadata": {
    "collapsed": true
   },
   "outputs": [],
   "source": [
    "import os\n",
    "import numpy as np\n",
    "import pandas as pd\n",
    "import textgrids\n"
   ]
  },
  {
   "cell_type": "code",
   "execution_count": 3,
   "outputs": [
    {
     "data": {
      "text/plain": "sil    173\na       91\no       79\ne       59\nn       45\ni       40\nl       31\ns       29\nt       27\nd       22\nR       22\nb       20\nr       19\np       19\nj       16\nu       16\nm       15\nk       14\ng       11\nf        7\nc        5\ny        5\n         3\nC        2\nN        1\nS        1\ndtype: int64"
     },
     "execution_count": 3,
     "metadata": {},
     "output_type": "execute_result"
    }
   ],
   "source": [
    "\n",
    "count = list()\n",
    "\n",
    "base_folder = \"words_annotations\"\n",
    "annotations_folder = \"annotations\"\n",
    "\n",
    "for annotation in os.listdir(os.path.join(base_folder, annotations_folder)):\n",
    "\n",
    "    text_grid = textgrids.TextGrid(os.path.join(base_folder, annotations_folder, annotation))\n",
    "    intervals = text_grid[list(text_grid.keys())[0]]\n",
    "    for interval in intervals:\n",
    "        phoneme = interval.text.strip()\n",
    "        count.append(phoneme)\n",
    "\n",
    "index = pd.Index(count)\n",
    "index.value_counts()"
   ],
   "metadata": {
    "collapsed": false,
    "pycharm": {
     "name": "#%%\n"
    }
   }
  },
  {
   "cell_type": "code",
   "execution_count": 5,
   "outputs": [
    {
     "data": {
      "text/plain": "'27364,28606,29754,28390,29429,29843,28568,27881,28290,28769,28364,28893,29226,28545,28043,28186,27893,28276,29915,27356,28335,29455,28492,27966,29543,28465,29130,27507,27518,28028,29351,28867,28786,28102,29029,29913,28487,27593,29729,29592,28309,27488,28180,28999,28796,29413,29346,29264,27418,27387,28316,29541,28235,27612,27885,29476,28183,28844,29905,28459,27357,28970,27665,28699,28728,28157,28066,28113,29275,29816,27899,29103,28248,28873,28196,29724,29617,27947,29672,28020,28474,27640,29626,28285,27843,27436,27358,27694,27370,27414,29182,27365,27361,27424,29760,28313,29766,29809,27944,29420'"
     },
     "execution_count": 5,
     "metadata": {},
     "output_type": "execute_result"
    }
   ],
   "source": [
    "\n",
    "\",\".join([f.replace(\".TextGrid\", \"\") for f in os.listdir(os.path.join(base_folder, annotations_folder))])"
   ],
   "metadata": {
    "collapsed": false,
    "pycharm": {
     "name": "#%%\n"
    }
   }
  },
  {
   "cell_type": "code",
   "execution_count": null,
   "outputs": [],
   "source": [],
   "metadata": {
    "collapsed": false,
    "pycharm": {
     "name": "#%%\n"
    }
   }
  }
 ],
 "metadata": {
  "kernelspec": {
   "display_name": "Python 3",
   "language": "python",
   "name": "python3"
  },
  "language_info": {
   "codemirror_mode": {
    "name": "ipython",
    "version": 2
   },
   "file_extension": ".py",
   "mimetype": "text/x-python",
   "name": "python",
   "nbconvert_exporter": "python",
   "pygments_lexer": "ipython2",
   "version": "2.7.6"
  }
 },
 "nbformat": 4,
 "nbformat_minor": 0
}