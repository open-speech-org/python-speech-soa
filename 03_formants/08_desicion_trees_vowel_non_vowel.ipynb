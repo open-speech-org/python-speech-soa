{
 "cells": [
  {
   "cell_type": "code",
   "execution_count": 15,
   "metadata": {
    "collapsed": true
   },
   "outputs": [],
   "source": [
    "import os\n",
    "import numpy as np\n",
    "import pandas as pd\n",
    "from sklearn import tree\n",
    "import pydotplus\n",
    "from sklearn.metrics import accuracy_score, confusion_matrix, ConfusionMatrixDisplay, f1_score, classification_report\n",
    "import pickle"
   ]
  },
  {
   "cell_type": "code",
   "execution_count": 2,
   "outputs": [],
   "source": [
    "formants_folder = \"all_formants_observed_formants_first_5_formants\"\n",
    "def load_formants_from_file(file_path):\n",
    "    return pd.read_csv(file_path)\n"
   ],
   "metadata": {
    "collapsed": false,
    "pycharm": {
     "name": "#%%\n"
    }
   }
  },
  {
   "cell_type": "code",
   "execution_count": 3,
   "outputs": [],
   "source": [
    "full_data = pd.DataFrame()\n",
    "for formant_file in os.listdir(formants_folder):\n",
    "    full_data = full_data.append(load_formants_from_file(os.path.join(formants_folder, formant_file)), ignore_index=True)\n",
    "\n"
   ],
   "metadata": {
    "collapsed": false,
    "pycharm": {
     "name": "#%%\n"
    }
   }
  },
  {
   "cell_type": "code",
   "execution_count": 4,
   "outputs": [],
   "source": [
    "phoneme_remap = {\n",
    " 'sil': 'sil',\n",
    " 'g': 'non_vowel',\n",
    " 'a': 'a',\n",
    " 'f': 'non_vowel',\n",
    " 's': 'non_vowel',\n",
    " 'n': 'non_vowel',\n",
    " 'r': 'non_vowel',\n",
    " 'j': 'non_vowel',\n",
    " 'R': 'non_vowel',\n",
    " 'o': 'o',\n",
    " 'b': 'non_vowel',\n",
    " 'i': 'i',\n",
    " 'k': 'non_vowel',\n",
    " 'u': 'u',\n",
    " 'd': 'non_vowel',\n",
    " 'e': 'e',\n",
    " 'l': 'non_vowel',\n",
    " 'c': 'non_vowel',\n",
    " 'm': 'non_vowel',\n",
    " 't': 'non_vowel',\n",
    " 'p': 'non_vowel',\n",
    " 'y': 'non_vowel',\n",
    " 'C': 'non_vowel',\n",
    " 'N': 'non_vowel',\n",
    " '': 'non_vowel',\n",
    " 'S': 'non_vowel'\n",
    "}\n",
    "\n",
    "full_data[\"phoneme\"].replace(phoneme_remap, inplace=True)\n"
   ],
   "metadata": {
    "collapsed": false,
    "pycharm": {
     "name": "#%%\n"
    }
   }
  },
  {
   "cell_type": "code",
   "execution_count": 5,
   "outputs": [],
   "source": [
    "sil_frames = full_data[full_data[\"phoneme\"] == \"sil\"]\n",
    "\n",
    "full_data = full_data.drop(sil_frames.index)\n"
   ],
   "metadata": {
    "collapsed": false,
    "pycharm": {
     "name": "#%%\n"
    }
   }
  },
  {
   "cell_type": "code",
   "execution_count": 6,
   "outputs": [],
   "source": [
    "full_data['phoneme']\n",
    "all_phonemes = [str(s) for s in full_data['phoneme'].unique()]\n"
   ],
   "metadata": {
    "collapsed": false,
    "pycharm": {
     "name": "#%%\n"
    }
   }
  },
  {
   "cell_type": "code",
   "execution_count": 7,
   "outputs": [
    {
     "data": {
      "text/plain": "{'a': [1007, 1008, 1009, 1010, 1011, 1012, 1013, 1014, 1015, 1016, 1017, 1018, 1019, 1020, 1021, 1022, 1023, 1024, 1201, 1202, 1203, 1204, 1205, 1206, 1207, 1208, 1209, 1210, 1211, 1212, 1213, 1214, 1215, 1216, 1217, 1218, 1219, 1220, 1221, 1222, 1223, 1224, 1225, 1226, 1227, 1648, 1649, 1650, 1651, 1652, 1653, 1654, 1655, 1656, 1657, 1658, 1659, 1660, 1661, 1662, 2885, 2886, 2887, 2888, 2889, 2890, 2891, 2892, 2893, 2894, 2895, 2896, 2897, 2898, 2899, 2900, 2901, 3061, 3062, 3063, 3064, 3065, 3066, 3067, 3068, 3069, 3070, 3071, 3072, 3073, 3074, 3075, 3076, 3077, 3078, 3079, 3080, 3081, 3082, 3083, ...], 'e': [159, 160, 161, 162, 163, 164, 165, 166, 167, 391, 392, 393, 394, 395, 396, 397, 398, 399, 400, 401, 402, 403, 404, 405, 406, 407, 408, 409, 410, 411, 412, 962, 963, 964, 965, 966, 967, 968, 969, 970, 971, 972, 973, 974, 975, 976, 977, 978, 979, 980, 981, 982, 983, 984, 985, 986, 987, 988, 989, 990, 991, 992, 993, 994, 995, 996, 997, 998, 1302, 1303, 1304, 1305, 1306, 1307, 1308, 1309, 1310, 1311, 1312, 1313, 1314, 1315, 1316, 1317, 1318, 1319, 1669, 1670, 1671, 1672, 1673, 1674, 1675, 1676, 1677, 1678, 1679, 1680, 1681, 1682, ...], 'i': [2137, 2138, 2139, 2140, 2141, 2142, 2143, 2144, 2145, 2146, 2147, 2148, 2149, 2150, 2151, 2152, 2376, 2377, 2378, 2379, 2380, 2381, 2382, 2383, 2384, 2385, 2386, 2387, 2388, 2389, 2390, 2391, 2392, 2393, 2394, 2395, 2396, 2397, 2398, 2399, 2400, 2401, 2402, 2403, 2404, 2405, 2406, 2407, 2408, 2409, 2410, 2411, 2412, 3110, 3111, 3112, 3113, 3114, 3115, 3116, 3117, 3118, 3119, 3120, 3121, 3122, 3123, 3124, 3125, 3126, 3127, 3128, 3129, 3130, 3131, 3132, 3133, 3319, 3320, 3321, 3322, 3323, 3324, 3325, 3326, 3327, 3328, 3329, 3330, 3331, 3332, 3333, 4457, 4458, 4459, 4460, 4461, 4462, 4463, 4464, ...], 'non_vowel': [148, 149, 150, 151, 152, 153, 154, 155, 156, 157, 158, 168, 169, 170, 171, 172, 173, 174, 175, 176, 177, 178, 179, 180, 181, 182, 183, 184, 185, 186, 202, 203, 204, 205, 206, 207, 208, 209, 210, 211, 212, 213, 214, 215, 216, 217, 218, 219, 220, 221, 222, 223, 224, 225, 226, 227, 228, 229, 230, 231, 232, 233, 234, 235, 236, 237, 238, 338, 339, 340, 341, 342, 343, 344, 345, 346, 347, 348, 349, 350, 351, 352, 353, 354, 355, 379, 380, 381, 382, 383, 384, 385, 386, 387, 388, 389, 390, 413, 414, 415, ...], 'o': [187, 188, 189, 190, 191, 192, 193, 194, 195, 196, 197, 198, 199, 200, 201, 1242, 1243, 1244, 1245, 1246, 1247, 1248, 1249, 1250, 1251, 1252, 1253, 1254, 1255, 1256, 1257, 1362, 1363, 1364, 1365, 1366, 1367, 1368, 1369, 1370, 1371, 1372, 1373, 1374, 1375, 1376, 1377, 1378, 1379, 1380, 1381, 1382, 1383, 1714, 1715, 1716, 1717, 1718, 1719, 1720, 1721, 1722, 1723, 1724, 1725, 1726, 1727, 1728, 1923, 1924, 1925, 1926, 1927, 1928, 1929, 1930, 1931, 1932, 1933, 1934, 1935, 1936, 1937, 1938, 1939, 1940, 1941, 1942, 1943, 1944, 1945, 1946, 1947, 1948, 1949, 1950, 1951, 1952, 1953, 1954, ...], 'u': [356, 357, 358, 359, 360, 361, 362, 363, 364, 365, 366, 367, 368, 369, 370, 371, 372, 373, 374, 375, 376, 377, 378, 873, 874, 875, 876, 877, 878, 879, 880, 881, 882, 883, 884, 885, 886, 887, 888, 889, 890, 891, 892, 893, 894, 895, 896, 897, 898, 899, 900, 901, 902, 903, 904, 905, 906, 907, 908, 909, 910, 1638, 1639, 1640, 1641, 1642, 1643, 1644, 1645, 1646, 1647, 4436, 4437, 4438, 4439, 4440, 4441, 4442, 4443, 4444, 4445, 4446, 4447, 4448, 4449, 4450, 4451, 5178, 5179, 5180, 5181, 5182, 5183, 5184, 5185, 5186, 5187, 5188, 5189, 5190, ...]}"
     },
     "execution_count": 7,
     "metadata": {},
     "output_type": "execute_result"
    }
   ],
   "source": [
    "phonemes_grouped = full_data.groupby('phoneme')\n",
    "\n",
    "phonemes_grouped.groups\n"
   ],
   "metadata": {
    "collapsed": false,
    "pycharm": {
     "name": "#%%\n"
    }
   }
  },
  {
   "cell_type": "code",
   "execution_count": 8,
   "outputs": [],
   "source": [
    "phoneme_count = full_data['phoneme'].value_counts()\n",
    "percentage_to_extract_test = 0.1\n",
    "fixed_extra_to_test = 5\n",
    "\n",
    "values_to_extract = (phoneme_count * percentage_to_extract_test + fixed_extra_to_test).round()\n",
    "values_to_extract = values_to_extract.apply(np.int64)\n",
    "\n"
   ],
   "metadata": {
    "collapsed": false,
    "pycharm": {
     "name": "#%%\n"
    }
   }
  },
  {
   "cell_type": "code",
   "execution_count": 9,
   "outputs": [],
   "source": [
    "train_set = full_data.dropna(subset=[\"phoneme\"])\n",
    "train_set[[\"i\"]] = train_set[[\"i\"]].fillna(value=-300)\n",
    "test_set = pd.DataFrame()\n",
    "for index, value in values_to_extract.items():\n",
    "    sub_data_frame = train_set[train_set[\"phoneme\"] == index]\n",
    "    test_to_remove = sub_data_frame.sample(value)\n",
    "    test_set = test_set.append(test_to_remove)\n",
    "    train_set = train_set.drop(test_to_remove.index)"
   ],
   "metadata": {
    "collapsed": false,
    "pycharm": {
     "name": "#%%\n"
    }
   }
  },
  {
   "cell_type": "code",
   "execution_count": 10,
   "outputs": [
    {
     "name": "stdout",
     "output_type": "stream",
     "text": [
      "['f_1', 'f_2', 'f_3', 'f_4', 'f_5', 'i']\n"
     ]
    }
   ],
   "source": [
    "FORMANTS_TO_EXTRACT = 5\n",
    "formant_names = [f\"f_{i+1}\" for i in range(FORMANTS_TO_EXTRACT)]\n",
    "\n",
    "formant_names.append(\"i\")\n",
    "print(formant_names)"
   ],
   "metadata": {
    "collapsed": false,
    "pycharm": {
     "name": "#%%\n"
    }
   }
  },
  {
   "cell_type": "code",
   "execution_count": 11,
   "outputs": [],
   "source": [
    "train_data = train_set[formant_names].fillna(train_set[formant_names].mean())\n"
   ],
   "metadata": {
    "collapsed": false,
    "pycharm": {
     "name": "#%%\n"
    }
   }
  },
  {
   "cell_type": "code",
   "execution_count": 12,
   "outputs": [
    {
     "data": {
      "text/plain": "DecisionTreeClassifier(ccp_alpha=0.0, class_weight=None, criterion='gini',\n                       max_depth=6, max_features=None, max_leaf_nodes=None,\n                       min_impurity_decrease=0.0, min_impurity_split=None,\n                       min_samples_leaf=1, min_samples_split=2,\n                       min_weight_fraction_leaf=0.0, presort='deprecated',\n                       random_state=None, splitter='best')"
     },
     "execution_count": 12,
     "metadata": {},
     "output_type": "execute_result"
    }
   ],
   "source": [
    "tree_classifier = tree.DecisionTreeClassifier(max_depth=6)\n",
    "tree_classifier.fit(train_data, train_set['phoneme'])"
   ],
   "metadata": {
    "collapsed": false,
    "pycharm": {
     "name": "#%%\n"
    }
   }
  },
  {
   "cell_type": "code",
   "execution_count": 13,
   "outputs": [
    {
     "data": {
      "text/plain": "0.6962879640044994"
     },
     "execution_count": 13,
     "metadata": {},
     "output_type": "execute_result"
    }
   ],
   "source": [
    "test_data = test_set[formant_names].fillna(train_set[formant_names].mean())\n",
    "predicted = tree_classifier.predict(test_data[formant_names])\n",
    "score = accuracy_score(test_set[\"phoneme\"], predicted)\n",
    "score"
   ],
   "metadata": {
    "collapsed": false,
    "pycharm": {
     "name": "#%%\n"
    }
   }
  },
  {
   "cell_type": "code",
   "execution_count": 17,
   "outputs": [
    {
     "name": "stdout",
     "output_type": "stream",
     "text": [
      "              precision    recall  f1-score   support\n",
      "\n",
      "   non_vowel     0.6892    0.8641    0.7668       390\n",
      "           e     0.6029    0.4767    0.5325        86\n",
      "           o     0.6301    0.6389    0.6345       144\n",
      "           u     0.6842    0.3714    0.4815        35\n",
      "           a     0.8456    0.7159    0.7754       176\n",
      "           i     0.5556    0.1724    0.2632        58\n",
      "         nan     0.0000    0.0000    0.0000         0\n",
      "\n",
      "   micro avg     0.6963    0.6963    0.6963       889\n",
      "   macro avg     0.5725    0.4628    0.4934       889\n",
      "weighted avg     0.6933    0.6963    0.6803       889\n",
      "\n"
     ]
    },
    {
     "name": "stderr",
     "output_type": "stream",
     "text": [
      "/home/ma0/miniconda3/envs/master_thesis/lib/python3.8/site-packages/sklearn/metrics/_classification.py:1272: UndefinedMetricWarning: Precision and F-score are ill-defined and being set to 0.0 in labels with no predicted samples. Use `zero_division` parameter to control this behavior.\n",
      "  _warn_prf(average, modifier, msg_start, len(result))\n",
      "/home/ma0/miniconda3/envs/master_thesis/lib/python3.8/site-packages/sklearn/metrics/_classification.py:1272: UndefinedMetricWarning: Recall and F-score are ill-defined and being set to 0.0 in labels with no true samples. Use `zero_division` parameter to control this behavior.\n",
      "  _warn_prf(average, modifier, msg_start, len(result))\n"
     ]
    }
   ],
   "source": [
    "report = classification_report(test_set[\"phoneme\"], predicted, labels=all_phonemes, digits=4)\n",
    "print(report)"
   ],
   "metadata": {
    "collapsed": false,
    "pycharm": {
     "name": "#%%\n"
    }
   }
  },
  {
   "cell_type": "markdown",
   "source": [
    "Results: 0.8136915077989602\n",
    "\n",
    "Formants | Accuracy\n",
    "-|-\n",
    "With Sil| 0.8136915077989602\n",
    "Without Sil | 0.7064116985376828"
   ],
   "metadata": {
    "collapsed": false,
    "pycharm": {
     "name": "#%% md\n"
    }
   }
  },
  {
   "cell_type": "code",
   "execution_count": 16,
   "outputs": [
    {
     "name": "stdout",
     "output_type": "stream",
     "text": [
      "|--- feature_0 <= 575.82\n",
      "|   |--- feature_1 <= 1162.31\n",
      "|   |   |--- feature_0 <= 346.57\n",
      "|   |   |   |--- feature_0 <= 328.44\n",
      "|   |   |   |   |--- feature_0 <= 293.73\n",
      "|   |   |   |   |   |--- feature_4 <= 3082.82\n",
      "|   |   |   |   |   |   |--- class: a\n",
      "|   |   |   |   |   |--- feature_4 >  3082.82\n",
      "|   |   |   |   |   |   |--- class: non_vowel\n",
      "|   |   |   |   |--- feature_0 >  293.73\n",
      "|   |   |   |   |   |--- feature_2 <= 2219.23\n",
      "|   |   |   |   |   |   |--- class: non_vowel\n",
      "|   |   |   |   |   |--- feature_2 >  2219.23\n",
      "|   |   |   |   |   |   |--- class: non_vowel\n",
      "|   |   |   |--- feature_0 >  328.44\n",
      "|   |   |   |   |--- feature_4 <= 3319.26\n",
      "|   |   |   |   |   |--- feature_1 <= 1105.81\n",
      "|   |   |   |   |   |   |--- class: i\n",
      "|   |   |   |   |   |--- feature_1 >  1105.81\n",
      "|   |   |   |   |   |   |--- class: non_vowel\n",
      "|   |   |   |   |--- feature_4 >  3319.26\n",
      "|   |   |   |   |   |--- feature_1 <= 952.51\n",
      "|   |   |   |   |   |   |--- class: non_vowel\n",
      "|   |   |   |   |   |--- feature_1 >  952.51\n",
      "|   |   |   |   |   |   |--- class: non_vowel\n",
      "|   |   |--- feature_0 >  346.57\n",
      "|   |   |   |--- feature_1 <= 726.95\n",
      "|   |   |   |   |--- feature_2 <= 1997.13\n",
      "|   |   |   |   |   |--- feature_4 <= 3393.85\n",
      "|   |   |   |   |   |   |--- class: o\n",
      "|   |   |   |   |   |--- feature_4 >  3393.85\n",
      "|   |   |   |   |   |   |--- class: u\n",
      "|   |   |   |   |--- feature_2 >  1997.13\n",
      "|   |   |   |   |   |--- feature_3 <= 3036.34\n",
      "|   |   |   |   |   |   |--- class: u\n",
      "|   |   |   |   |   |--- feature_3 >  3036.34\n",
      "|   |   |   |   |   |   |--- class: o\n",
      "|   |   |   |--- feature_1 >  726.95\n",
      "|   |   |   |   |--- feature_0 <= 381.83\n",
      "|   |   |   |   |   |--- feature_5 <= 82.46\n",
      "|   |   |   |   |   |   |--- class: o\n",
      "|   |   |   |   |   |--- feature_5 >  82.46\n",
      "|   |   |   |   |   |   |--- class: u\n",
      "|   |   |   |   |--- feature_0 >  381.83\n",
      "|   |   |   |   |   |--- feature_1 <= 957.71\n",
      "|   |   |   |   |   |   |--- class: o\n",
      "|   |   |   |   |   |--- feature_1 >  957.71\n",
      "|   |   |   |   |   |   |--- class: o\n",
      "|   |--- feature_1 >  1162.31\n",
      "|   |   |--- feature_5 <= 71.45\n",
      "|   |   |   |--- feature_0 <= 397.18\n",
      "|   |   |   |   |--- feature_0 <= 288.78\n",
      "|   |   |   |   |   |--- feature_2 <= 1992.86\n",
      "|   |   |   |   |   |   |--- class: non_vowel\n",
      "|   |   |   |   |   |--- feature_2 >  1992.86\n",
      "|   |   |   |   |   |   |--- class: non_vowel\n",
      "|   |   |   |   |--- feature_0 >  288.78\n",
      "|   |   |   |   |   |--- feature_3 <= 2932.81\n",
      "|   |   |   |   |   |   |--- class: non_vowel\n",
      "|   |   |   |   |   |--- feature_3 >  2932.81\n",
      "|   |   |   |   |   |   |--- class: non_vowel\n",
      "|   |   |   |--- feature_0 >  397.18\n",
      "|   |   |   |   |--- feature_5 <= 63.90\n",
      "|   |   |   |   |   |--- feature_5 <= 53.35\n",
      "|   |   |   |   |   |   |--- class: non_vowel\n",
      "|   |   |   |   |   |--- feature_5 >  53.35\n",
      "|   |   |   |   |   |   |--- class: non_vowel\n",
      "|   |   |   |   |--- feature_5 >  63.90\n",
      "|   |   |   |   |   |--- feature_1 <= 1582.73\n",
      "|   |   |   |   |   |   |--- class: non_vowel\n",
      "|   |   |   |   |   |--- feature_1 >  1582.73\n",
      "|   |   |   |   |   |   |--- class: e\n",
      "|   |   |--- feature_5 >  71.45\n",
      "|   |   |   |--- feature_0 <= 427.68\n",
      "|   |   |   |   |--- feature_2 <= 2346.00\n",
      "|   |   |   |   |   |--- feature_5 <= 81.37\n",
      "|   |   |   |   |   |   |--- class: non_vowel\n",
      "|   |   |   |   |   |--- feature_5 >  81.37\n",
      "|   |   |   |   |   |   |--- class: i\n",
      "|   |   |   |   |--- feature_2 >  2346.00\n",
      "|   |   |   |   |   |--- feature_4 <= 3677.97\n",
      "|   |   |   |   |   |   |--- class: i\n",
      "|   |   |   |   |   |--- feature_4 >  3677.97\n",
      "|   |   |   |   |   |   |--- class: non_vowel\n",
      "|   |   |   |--- feature_0 >  427.68\n",
      "|   |   |   |   |--- feature_1 <= 1522.80\n",
      "|   |   |   |   |   |--- feature_1 <= 1278.64\n",
      "|   |   |   |   |   |   |--- class: o\n",
      "|   |   |   |   |   |--- feature_1 >  1278.64\n",
      "|   |   |   |   |   |   |--- class: non_vowel\n",
      "|   |   |   |   |--- feature_1 >  1522.80\n",
      "|   |   |   |   |   |--- feature_5 <= 80.33\n",
      "|   |   |   |   |   |   |--- class: e\n",
      "|   |   |   |   |   |--- feature_5 >  80.33\n",
      "|   |   |   |   |   |   |--- class: e\n",
      "|--- feature_0 >  575.82\n",
      "|   |--- feature_5 <= 64.61\n",
      "|   |   |--- feature_2 <= 1902.71\n",
      "|   |   |   |--- feature_4 <= 3465.66\n",
      "|   |   |   |   |--- feature_5 <= 62.93\n",
      "|   |   |   |   |   |--- feature_2 <= 1592.90\n",
      "|   |   |   |   |   |   |--- class: a\n",
      "|   |   |   |   |   |--- feature_2 >  1592.90\n",
      "|   |   |   |   |   |   |--- class: a\n",
      "|   |   |   |   |--- feature_5 >  62.93\n",
      "|   |   |   |   |   |--- feature_3 <= 2854.66\n",
      "|   |   |   |   |   |   |--- class: a\n",
      "|   |   |   |   |   |--- feature_3 >  2854.66\n",
      "|   |   |   |   |   |   |--- class: e\n",
      "|   |   |   |--- feature_4 >  3465.66\n",
      "|   |   |   |   |--- feature_1 <= 1127.52\n",
      "|   |   |   |   |   |--- feature_3 <= 2634.27\n",
      "|   |   |   |   |   |   |--- class: a\n",
      "|   |   |   |   |   |--- feature_3 >  2634.27\n",
      "|   |   |   |   |   |   |--- class: non_vowel\n",
      "|   |   |   |   |--- feature_1 >  1127.52\n",
      "|   |   |   |   |   |--- feature_0 <= 605.32\n",
      "|   |   |   |   |   |   |--- class: non_vowel\n",
      "|   |   |   |   |   |--- feature_0 >  605.32\n",
      "|   |   |   |   |   |   |--- class: a\n",
      "|   |   |--- feature_2 >  1902.71\n",
      "|   |   |   |--- feature_1 <= 1484.01\n",
      "|   |   |   |   |--- feature_5 <= 57.07\n",
      "|   |   |   |   |   |--- feature_3 <= 2715.30\n",
      "|   |   |   |   |   |   |--- class: e\n",
      "|   |   |   |   |   |--- feature_3 >  2715.30\n",
      "|   |   |   |   |   |   |--- class: non_vowel\n",
      "|   |   |   |   |--- feature_5 >  57.07\n",
      "|   |   |   |   |   |--- feature_1 <= 1214.46\n",
      "|   |   |   |   |   |   |--- class: non_vowel\n",
      "|   |   |   |   |   |--- feature_1 >  1214.46\n",
      "|   |   |   |   |   |   |--- class: a\n",
      "|   |   |   |--- feature_1 >  1484.01\n",
      "|   |   |   |   |--- feature_4 <= 3676.95\n",
      "|   |   |   |   |   |--- feature_2 <= 1918.08\n",
      "|   |   |   |   |   |   |--- class: a\n",
      "|   |   |   |   |   |--- feature_2 >  1918.08\n",
      "|   |   |   |   |   |   |--- class: non_vowel\n",
      "|   |   |   |   |--- feature_4 >  3676.95\n",
      "|   |   |   |   |   |--- feature_4 <= 3682.85\n",
      "|   |   |   |   |   |   |--- class: non_vowel\n",
      "|   |   |   |   |   |--- feature_4 >  3682.85\n",
      "|   |   |   |   |   |   |--- class: non_vowel\n",
      "|   |--- feature_5 >  64.61\n",
      "|   |   |--- feature_3 <= 3500.86\n",
      "|   |   |   |--- feature_0 <= 635.28\n",
      "|   |   |   |   |--- feature_1 <= 1145.13\n",
      "|   |   |   |   |   |--- feature_3 <= 2507.38\n",
      "|   |   |   |   |   |   |--- class: a\n",
      "|   |   |   |   |   |--- feature_3 >  2507.38\n",
      "|   |   |   |   |   |   |--- class: o\n",
      "|   |   |   |   |--- feature_1 >  1145.13\n",
      "|   |   |   |   |   |--- feature_3 <= 2652.89\n",
      "|   |   |   |   |   |   |--- class: a\n",
      "|   |   |   |   |   |--- feature_3 >  2652.89\n",
      "|   |   |   |   |   |   |--- class: a\n",
      "|   |   |   |--- feature_0 >  635.28\n",
      "|   |   |   |   |--- feature_5 <= 68.72\n",
      "|   |   |   |   |   |--- feature_1 <= 1607.05\n",
      "|   |   |   |   |   |   |--- class: a\n",
      "|   |   |   |   |   |--- feature_1 >  1607.05\n",
      "|   |   |   |   |   |   |--- class: non_vowel\n",
      "|   |   |   |   |--- feature_5 >  68.72\n",
      "|   |   |   |   |   |--- feature_2 <= 2392.61\n",
      "|   |   |   |   |   |   |--- class: a\n",
      "|   |   |   |   |   |--- feature_2 >  2392.61\n",
      "|   |   |   |   |   |   |--- class: a\n",
      "|   |   |--- feature_3 >  3500.86\n",
      "|   |   |   |--- feature_1 <= 1749.63\n",
      "|   |   |   |   |--- feature_0 <= 735.63\n",
      "|   |   |   |   |   |--- feature_0 <= 623.61\n",
      "|   |   |   |   |   |   |--- class: o\n",
      "|   |   |   |   |   |--- feature_0 >  623.61\n",
      "|   |   |   |   |   |   |--- class: non_vowel\n",
      "|   |   |   |   |--- feature_0 >  735.63\n",
      "|   |   |   |   |   |--- feature_5 <= 67.37\n",
      "|   |   |   |   |   |   |--- class: o\n",
      "|   |   |   |   |   |--- feature_5 >  67.37\n",
      "|   |   |   |   |   |   |--- class: a\n",
      "|   |   |   |--- feature_1 >  1749.63\n",
      "|   |   |   |   |--- feature_2 <= 3911.56\n",
      "|   |   |   |   |   |--- feature_2 <= 2299.03\n",
      "|   |   |   |   |   |   |--- class: e\n",
      "|   |   |   |   |   |--- feature_2 >  2299.03\n",
      "|   |   |   |   |   |   |--- class: non_vowel\n",
      "|   |   |   |   |--- feature_2 >  3911.56\n",
      "|   |   |   |   |   |--- feature_0 <= 1788.54\n",
      "|   |   |   |   |   |   |--- class: i\n",
      "|   |   |   |   |   |--- feature_0 >  1788.54\n",
      "|   |   |   |   |   |   |--- class: e\n",
      "\n"
     ]
    }
   ],
   "source": [
    "base_name = \"no_sil_non_vowels\"\n",
    "\n",
    "dt_target_names = [str(s) for s in full_data['phoneme'].unique()]\n",
    "tree.export_graphviz(\n",
    "    tree_classifier,\n",
    "    out_file=f'{base_name}.dot',\n",
    "    feature_names=formant_names,\n",
    "    class_names=all_phonemes,\n",
    "    filled=True\n",
    ")\n",
    "\n",
    "print(tree.export_text(tree_classifier))"
   ],
   "metadata": {
    "collapsed": false,
    "pycharm": {
     "name": "#%%\n"
    }
   }
  },
  {
   "cell_type": "code",
   "execution_count": 17,
   "outputs": [
    {
     "name": "stdout",
     "output_type": "stream",
     "text": [
      "<class 'pydotplus.graphviz.Dot'>\n"
     ]
    }
   ],
   "source": [
    "\n",
    "graph = pydotplus.graph_from_dot_file(f'{base_name}.dot')\n",
    "print(type(graph))\n",
    "with open(f\"{base_name}.png\", \"wb+\") as f:\n",
    "    f.write(graph.create_png())"
   ],
   "metadata": {
    "collapsed": false,
    "pycharm": {
     "name": "#%%\n"
    }
   }
  },
  {
   "cell_type": "code",
   "execution_count": 18,
   "outputs": [],
   "source": [
    "\n",
    "\n",
    "with open(f\"{base_name}.pickle\", \"wb+\") as pickle_file:\n",
    "    pickle.dump(tree_classifier, pickle_file)"
   ],
   "metadata": {
    "collapsed": false,
    "pycharm": {
     "name": "#%%\n"
    }
   }
  },
  {
   "cell_type": "code",
   "execution_count": null,
   "outputs": [],
   "source": [],
   "metadata": {
    "collapsed": false,
    "pycharm": {
     "name": "#%%\n"
    }
   }
  }
 ],
 "metadata": {
  "kernelspec": {
   "display_name": "Python 3",
   "language": "python",
   "name": "python3"
  },
  "language_info": {
   "codemirror_mode": {
    "name": "ipython",
    "version": 2
   },
   "file_extension": ".py",
   "mimetype": "text/x-python",
   "name": "python",
   "nbconvert_exporter": "python",
   "pygments_lexer": "ipython2",
   "version": "2.7.6"
  }
 },
 "nbformat": 4,
 "nbformat_minor": 0
}