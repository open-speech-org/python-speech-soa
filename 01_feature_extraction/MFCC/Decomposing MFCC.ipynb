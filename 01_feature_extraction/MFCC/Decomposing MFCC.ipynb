{
 "cells": [
  {
   "cell_type": "code",
   "execution_count": 14,
   "metadata": {},
   "outputs": [],
   "source": [
    "from scipy.io import wavfile\n",
    "import matplotlib.pyplot as plt\n",
    "from matplotlib.cm import get_cmap\n",
    "import numpy\n",
    "import IPython.display"
   ]
  },
  {
   "cell_type": "code",
   "execution_count": 5,
   "metadata": {},
   "outputs": [],
   "source": [
    "samplerate, signal = wavfile.read(\"agua.wav\")"
   ]
  },
  {
   "cell_type": "code",
   "execution_count": 6,
   "metadata": {},
   "outputs": [],
   "source": [
    "winlen=0.025\n",
    "winstep=0.01\n",
    "numcep=13\n",
    "nfilt=26\n",
    "nfft=None\n",
    "lowfreq=0\n",
    "highfreq=None\n",
    "preemph=0.97\n",
    "ceplifter=22\n",
    "appendEnergy=True,\n",
    "winfunc=lambda x:numpy.ones((x,))"
   ]
  },
  {
   "cell_type": "code",
   "execution_count": 9,
   "metadata": {},
   "outputs": [],
   "source": [
    "def calculate_nfft(samplerate, winlen):\n",
    "    window_length_samples = winlen * samplerate\n",
    "    nfft = 1\n",
    "    while nfft < window_length_samples:\n",
    "        nfft *= 2\n",
    "    return nfft"
   ]
  },
  {
   "cell_type": "code",
   "execution_count": 11,
   "metadata": {},
   "outputs": [
    {
     "data": {
      "text/plain": [
       "512"
      ]
     },
     "execution_count": 11,
     "metadata": {},
     "output_type": "execute_result"
    }
   ],
   "source": [
    "nfft = nfft or calculate_nfft(samplerate, winlen)\n",
    "nfft"
   ]
  },
  {
   "cell_type": "code",
   "execution_count": 13,
   "metadata": {},
   "outputs": [
    {
     "data": {
      "text/plain": [
       "8000.0"
      ]
     },
     "execution_count": 13,
     "metadata": {},
     "output_type": "execute_result"
    }
   ],
   "source": [
    "highfreq= highfreq or samplerate/2\n",
    "highfreq"
   ]
  },
  {
   "cell_type": "code",
   "execution_count": 15,
   "metadata": {},
   "outputs": [],
   "source": [
    "signal = numpy.append(signal[0],signal[1:]-preemph*signal[:-1])"
   ]
  },
  {
   "cell_type": "code",
   "execution_count": 23,
   "metadata": {},
   "outputs": [],
   "source": [
    "import decimal\n",
    "import math\n",
    "def round_half_up(number):\n",
    "    return int(decimal.Decimal(number).quantize(decimal.Decimal('1'), rounding=decimal.ROUND_HALF_UP))\n",
    "\n",
    "def framesig(sig,frame_len,frame_step,winfunc=lambda x:numpy.ones((x,))):\n",
    "    slen = len(sig)\n",
    "    frame_len = int(round_half_up(frame_len))\n",
    "    frame_step = int(round_half_up(frame_step))\n",
    "    if slen <= frame_len:\n",
    "        numframes = 1\n",
    "    else:\n",
    "        numframes = 1 + int(math.ceil((1.0*slen - frame_len)/frame_step))\n",
    "\n",
    "    padlen = int((numframes-1)*frame_step + frame_len)\n",
    "\n",
    "    zeros = numpy.zeros((padlen - slen,))\n",
    "    padsignal = numpy.concatenate((sig,zeros))\n",
    "\n",
    "    indices = numpy.tile(numpy.arange(0,frame_len),(numframes,1)) + numpy.tile(numpy.arange(0,numframes*frame_step,frame_step),(frame_len,1)).T\n",
    "    indices = numpy.array(indices,dtype=numpy.int32)\n",
    "    frames = padsignal[indices]\n",
    "    win = numpy.tile(winfunc(frame_len),(numframes,1))\n",
    "    return frames*win"
   ]
  },
  {
   "cell_type": "code",
   "execution_count": 28,
   "metadata": {},
   "outputs": [
    {
     "data": {
      "text/plain": [
       "array([-9.72700e+02, -7.36310e+02, -2.69120e+02,  4.81560e+02,\n",
       "        1.30580e+03,  1.90513e+03,  2.16908e+03,  2.26109e+03,\n",
       "        2.39382e+03,  2.52047e+03,  2.32080e+03,  1.53397e+03,\n",
       "        2.98610e+02, -9.00970e+02, -1.65455e+03, -1.98667e+03,\n",
       "       -2.23904e+03, -2.61502e+03, -2.89915e+03, -2.69540e+03,\n",
       "       -1.87895e+03, -7.78680e+02,  1.35120e+02,  6.73820e+02,\n",
       "        9.96330e+02,  1.32369e+03,  1.64378e+03,  1.74712e+03,\n",
       "        1.48196e+03,  9.34200e+02,  3.47650e+02, -5.93200e+01,\n",
       "       -2.32770e+02, -2.53320e+02, -2.57230e+02, -3.18990e+02,\n",
       "       -3.80340e+02, -2.90220e+02,  3.79600e+01,  5.02250e+02,\n",
       "        8.63430e+02,  9.78990e+02,  9.38250e+02,  9.02440e+02,\n",
       "        8.62770e+02,  6.21180e+02,  7.56700e+01, -5.87640e+02,\n",
       "       -1.06378e+03, -1.26454e+03, -1.38825e+03, -1.59645e+03,\n",
       "       -1.75760e+03, -1.60914e+03, -1.11568e+03, -5.37050e+02,\n",
       "       -9.01800e+01,  2.94430e+02,  8.06500e+02,  1.39551e+03,\n",
       "        1.75632e+03,  1.69258e+03,  1.34827e+03,  1.01008e+03,\n",
       "        7.56550e+02,  4.39560e+02, -3.25400e+01, -5.11100e+02,\n",
       "       -7.89880e+02, -8.50460e+02, -8.33060e+02, -8.21310e+02,\n",
       "       -7.78420e+02, -6.78490e+02, -5.65870e+02, -4.62290e+02,\n",
       "       -2.98140e+02, -4.17100e+01,  1.75610e+02,  2.01410e+02,\n",
       "        1.11750e+02,  1.54150e+02,  4.02660e+02,  5.71430e+02,\n",
       "        3.53850e+02, -1.42810e+02, -4.45710e+02, -2.82580e+02,\n",
       "        9.58300e+01,  2.39820e+02,  7.00100e+01, -7.51400e+01,\n",
       "        8.12700e+01,  3.68420e+02,  4.05090e+02,  1.04510e+02,\n",
       "       -2.41460e+02, -3.36900e+02, -2.37980e+02, -2.22790e+02,\n",
       "       -3.99940e+02, -5.69220e+02, -4.56240e+02, -1.93900e+01,\n",
       "        5.05930e+02,  8.52970e+02,  9.96910e+02,  1.18736e+03,\n",
       "        1.68161e+03,  2.40663e+03,  2.92693e+03,  2.81876e+03,\n",
       "        2.12886e+03,  1.33795e+03,  7.93690e+02,  2.78240e+02,\n",
       "       -6.98020e+02, -2.17144e+03, -3.50406e+03, -4.03836e+03,\n",
       "       -3.83526e+03, -3.53326e+03, -3.48169e+03, -3.29844e+03,\n",
       "       -2.42570e+03, -9.31040e+02,  5.27330e+02,  1.48992e+03,\n",
       "        2.16053e+03,  2.90256e+03,  3.58060e+03,  3.65613e+03,\n",
       "        2.92955e+03,  1.84183e+03,  9.62890e+02,  3.71050e+02,\n",
       "       -2.06240e+02, -8.22990e+02, -1.18686e+03, -1.12672e+03,\n",
       "       -8.82550e+02, -7.54920e+02, -6.75580e+02, -3.95120e+02,\n",
       "       -2.06000e+01,  2.53000e+00, -4.79620e+02, -1.00423e+03,\n",
       "       -1.05914e+03, -8.23800e+02, -9.42480e+02, -1.56204e+03,\n",
       "       -1.96242e+03, -1.40851e+03, -1.36360e+02,  8.82030e+02,\n",
       "        1.13687e+03,  1.14934e+03,  1.65697e+03,  2.55264e+03,\n",
       "        2.99757e+03,  2.52148e+03,  1.56741e+03,  8.35530e+02,\n",
       "        4.00430e+02, -1.81290e+02, -1.06162e+03, -1.81099e+03,\n",
       "       -2.04169e+03, -1.94052e+03, -1.92837e+03, -1.96906e+03,\n",
       "       -1.60924e+03, -7.27910e+02,  1.29200e+02,  3.98530e+02,\n",
       "        2.43660e+02,  3.25630e+02,  8.89700e+02,  1.39727e+03,\n",
       "        1.23315e+03,  5.25760e+02, -2.70100e+01, -3.38500e+01,\n",
       "        1.82130e+02,  1.55620e+02, -6.38500e+01, -5.20400e+01,\n",
       "        3.12190e+02,  6.54400e+02,  6.41600e+02,  4.54840e+02,\n",
       "        4.57930e+02,  5.78750e+02,  3.27840e+02, -4.35050e+02,\n",
       "       -1.08704e+03, -8.77110e+02,  6.81700e+01,  7.36640e+02,\n",
       "        3.79120e+02, -5.44770e+02, -8.71680e+02, -1.70860e+02,\n",
       "        6.79800e+02,  5.21140e+02, -6.61890e+02, -1.69486e+03,\n",
       "       -1.63419e+03, -8.08160e+02, -2.59910e+02, -3.60560e+02,\n",
       "       -4.64090e+02,  7.65000e+01,  9.88620e+02,  1.51392e+03,\n",
       "        1.48498e+03,  1.44173e+03,  1.63281e+03,  1.51433e+03,\n",
       "        5.84870e+02, -6.26750e+02, -1.05412e+03, -5.79610e+02,\n",
       "       -3.48800e+02, -1.24146e+03, -2.49652e+03, -2.51006e+03,\n",
       "       -9.66740e+02,  5.97090e+02,  6.75590e+02, -2.98230e+02,\n",
       "       -6.25990e+02,  3.42590e+02,  1.40469e+03,  1.23523e+03,\n",
       "        2.01320e+02, -2.42780e+02,  3.90590e+02,  1.03416e+03,\n",
       "        6.77660e+02, -2.32480e+02, -5.54520e+02, -1.45980e+02,\n",
       "        6.23400e+01, -3.75950e+02, -7.06440e+02, -1.75500e+02,\n",
       "        6.57000e+02,  6.10610e+02, -3.76790e+02, -1.03237e+03,\n",
       "       -5.08270e+02,  4.11480e+02,  4.42250e+02, -3.32470e+02,\n",
       "       -5.85860e+02,  3.12430e+02,  1.36817e+03,  1.43926e+03,\n",
       "        9.29220e+02,  1.19059e+03,  2.48901e+03,  3.48138e+03,\n",
       "        3.03738e+03,  1.77909e+03,  1.09757e+03,  1.07733e+03,\n",
       "        3.78860e+02, -1.72115e+03, -4.04910e+03, -4.93794e+03,\n",
       "       -4.35446e+03, -3.76581e+03, -3.99050e+03, -4.06858e+03,\n",
       "       -2.73055e+03, -3.08960e+02,  1.60239e+03,  2.19795e+03,\n",
       "        2.31053e+03,  2.95216e+03,  3.77068e+03,  3.62089e+03,\n",
       "        2.31709e+03,  9.98900e+02,  5.79160e+02,  5.59070e+02,\n",
       "       -9.69800e+01, -1.33904e+03, -2.00609e+03, -1.44077e+03,\n",
       "       -4.36550e+02, -1.71830e+02, -6.61740e+02, -8.87170e+02,\n",
       "       -3.33750e+02,  2.62070e+02, -3.39600e+01, -1.03014e+03,\n",
       "       -1.67720e+03, -1.48077e+03, -1.04899e+03, -1.07502e+03,\n",
       "       -1.27802e+03, -8.21300e+02,  4.14090e+02,  1.56307e+03,\n",
       "        1.91092e+03,  1.81959e+03,  2.14264e+03,  2.92964e+03,\n",
       "        3.23127e+03,  2.34732e+03,  7.99030e+02, -2.73650e+02,\n",
       "       -5.39000e+02, -7.99820e+02, -1.78875e+03, -3.06742e+03,\n",
       "       -3.46666e+03, -2.54599e+03, -1.13754e+03, -3.44600e+02,\n",
       "       -2.89970e+02, -1.61540e+02,  5.85850e+02,  1.51665e+03,\n",
       "        1.79769e+03,  1.22566e+03,  3.89760e+02, -1.00360e+02,\n",
       "       -1.88540e+02, -1.78270e+02, -2.05520e+02, -1.77430e+02,\n",
       "       -5.63200e+01,  9.15700e+01,  3.25930e+02,  7.99220e+02,\n",
       "        1.34140e+03,  1.38912e+03,  6.36080e+02, -3.94750e+02,\n",
       "       -8.08990e+02, -4.59200e+02, -2.02100e+02, -7.42810e+02,\n",
       "       -1.53151e+03, -1.33616e+03,  7.54500e+01,  1.43159e+03,\n",
       "        1.48329e+03,  6.11200e+02,  2.70600e+02,  9.50260e+02,\n",
       "        1.42911e+03,  4.49520e+02, -1.44167e+03, -2.48189e+03,\n",
       "       -1.95790e+03, -1.08088e+03, -1.21378e+03, -1.93874e+03,\n",
       "       -1.65243e+03,  1.30110e+02,  1.99146e+03,  2.41434e+03,\n",
       "        1.66693e+03,  1.22480e+03,  1.67785e+03,  2.05638e+03,\n",
       "        1.36578e+03,  8.68000e+00, -9.03240e+02, -1.14137e+03,\n",
       "       -1.47368e+03, -2.24381e+03, -2.69463e+03, -2.06791e+03,\n",
       "       -7.89980e+02,  6.40600e+01,  2.52290e+02,  5.46950e+02,\n",
       "        1.34507e+03,  1.87450e+03,  1.25448e+03, -5.79100e+01,\n",
       "       -7.01830e+02, -2.22010e+02,  3.31840e+02, -9.15100e+01,\n",
       "       -1.03488e+03, -1.17448e+03, -1.95350e+02,  7.50170e+02,\n",
       "        6.29160e+02, -5.02300e+01,  1.23800e+01,  1.06088e+03])"
      ]
     },
     "execution_count": 28,
     "metadata": {},
     "output_type": "execute_result"
    }
   ],
   "source": [
    "frames = framesig(signal, winlen*samplerate, winstep*samplerate, winfunc)\n",
    "frames[130]"
   ]
  },
  {
   "cell_type": "code",
   "execution_count": 29,
   "metadata": {},
   "outputs": [],
   "source": [
    "def magspec(frames,NFFT):\n",
    "    if numpy.shape(frames)[1] > NFFT:\n",
    "        logging.warn('frame length (%d) is greater than FFT size (%d), frame will be truncated. Increase NFFT to avoid.', numpy.shape(frames)[1], NFFT)\n",
    "    complex_spec = numpy.fft.rfft(frames,NFFT)\n",
    "    return numpy.absolute(complex_spec)"
   ]
  },
  {
   "cell_type": "code",
   "execution_count": 32,
   "metadata": {},
   "outputs": [
    {
     "data": {
      "text/plain": [
       "array([[0.00000000e+00, 0.00000000e+00, 0.00000000e+00, ...,\n",
       "        0.00000000e+00, 0.00000000e+00, 0.00000000e+00],\n",
       "       [0.00000000e+00, 0.00000000e+00, 0.00000000e+00, ...,\n",
       "        0.00000000e+00, 0.00000000e+00, 0.00000000e+00],\n",
       "       [0.00000000e+00, 0.00000000e+00, 0.00000000e+00, ...,\n",
       "        0.00000000e+00, 0.00000000e+00, 0.00000000e+00],\n",
       "       ...,\n",
       "       [9.56675814e+02, 7.92005898e+02, 9.43119450e+00, ...,\n",
       "        1.74556349e+00, 2.73048112e+00, 4.98126758e-01],\n",
       "       [2.14232063e+02, 6.95901217e+01, 1.19809237e+01, ...,\n",
       "        5.38843378e+00, 6.86140277e+00, 1.38107971e+01],\n",
       "       [1.00997033e+03, 2.77178948e+02, 6.76299678e+00, ...,\n",
       "        1.78606938e+00, 5.02586594e-01, 2.30856328e+00]])"
      ]
     },
     "execution_count": 32,
     "metadata": {},
     "output_type": "execute_result"
    }
   ],
   "source": [
    "pspec = 1.0/nfft * numpy.square(magspec(frames,nfft))\n",
    "pspec"
   ]
  },
  {
   "cell_type": "code",
   "execution_count": null,
   "metadata": {},
   "outputs": [],
   "source": []
  }
 ],
 "metadata": {
  "kernelspec": {
   "display_name": "Python 3",
   "language": "python",
   "name": "python3"
  },
  "language_info": {
   "codemirror_mode": {
    "name": "ipython",
    "version": 3
   },
   "file_extension": ".py",
   "mimetype": "text/x-python",
   "name": "python",
   "nbconvert_exporter": "python",
   "pygments_lexer": "ipython3",
   "version": "3.8.0"
  }
 },
 "nbformat": 4,
 "nbformat_minor": 4
}
