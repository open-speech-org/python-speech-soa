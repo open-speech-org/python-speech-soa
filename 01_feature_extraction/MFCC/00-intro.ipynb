{
 "cells": [
  {
   "cell_type": "markdown",
   "metadata": {},
   "source": [
    "# MFCC\n",
    "\n",
    "Mel Frequency Cepstral Coefficients are one of the most popular features for speech recognition. The main idea is to use Short Time Frequency Analysis to transform the wave signal in time domain first using a first-order high pass filter to boost the high frequency energies, then use a windowing technique such Hamming Windowing to extract segments of audio where the audio frequency tends to be stationary, then tranform from time domain to frequency domain using the DFT and the applying Mel filter bank and finally use the Inverse DFT which had proven to increase the performance of recognition tasks.\n",
    "\n",
    "Popular implementation of MFCC are found in:\n",
    "\n",
    "- [LibRosa](https://librosa.github.io/librosa/generated/librosa.feature.mfcc.html)\n",
    "- [Speech Features](https://github.com/jameslyons/python_speech_features)\n",
    "- [Numpy ML](https://github.com/ddbourgin/numpy-ml)\n",
    "- [Speech Signal Processing and Classification](https://github.com/gionanide/Speech_Signal_Processing_and_Classification)\n",
    "- [Sonopy](https://github.com/MycroftAI/sonopy)\n",
    "- [SpeechPy](https://github.com/astorfi/speechpy)\n",
    "\n",
    "For testing purposes we're using the `agua.wav` file, obtained from the Open Speech Corpus and the word corpus, with id 27434"
   ]
  }
 ],
 "metadata": {
  "kernelspec": {
   "display_name": "Python 3",
   "language": "python",
   "name": "python3"
  },
  "language_info": {
   "codemirror_mode": {
    "name": "ipython",
    "version": 3
   },
   "file_extension": ".py",
   "mimetype": "text/x-python",
   "name": "python",
   "nbconvert_exporter": "python",
   "pygments_lexer": "ipython3",
   "version": "3.8.0"
  }
 },
 "nbformat": 4,
 "nbformat_minor": 4
}
