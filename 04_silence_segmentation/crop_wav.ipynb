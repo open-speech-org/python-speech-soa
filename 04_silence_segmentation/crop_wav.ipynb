{
 "cells": [
  {
   "cell_type": "code",
   "execution_count": 3,
   "metadata": {
    "collapsed": true
   },
   "outputs": [],
   "source": [
    "from scipy.io import wavfile\n",
    "import textgrids"
   ]
  },
  {
   "cell_type": "code",
   "execution_count": 4,
   "outputs": [],
   "source": [
    "file_name = \"F_08_1\"\n",
    "frequency, signal = wavfile.read(\"F_08_1.wav\")\n",
    "text_grid = textgrids.TextGrid(f\"{file_name}.TextGrid\")"
   ],
   "metadata": {
    "collapsed": false,
    "pycharm": {
     "name": "#%%\n"
    }
   }
  },
  {
   "cell_type": "code",
   "execution_count": 5,
   "outputs": [],
   "source": [
    "intervals = text_grid[file_name]\n",
    "initial_second = -1\n",
    "end_second = signal.shape[-1] / frequency\n",
    "for interval in intervals:\n",
    "    if interval.text == \"1\":\n",
    "        initial_second = interval.xmin\n",
    "    if interval.text == \"\" and initial_second > -1:\n",
    "        end_second = interval.xmax\n",
    "        break\n",
    "cropped_signal = signal[int(initial_second*frequency):int(end_second*frequency)]"
   ],
   "metadata": {
    "collapsed": false,
    "pycharm": {
     "name": "#%%\n"
    }
   }
  },
  {
   "cell_type": "code",
   "execution_count": 6,
   "outputs": [],
   "source": [
    "wavfile.write(f\"cropped_{file_name}.wav\", frequency, cropped_signal)"
   ],
   "metadata": {
    "collapsed": false,
    "pycharm": {
     "name": "#%%\n"
    }
   }
  },
  {
   "cell_type": "code",
   "execution_count": 8,
   "outputs": [],
   "source": [
    "cropped_textgrid = textgrids.TextGrid()\n",
    "cropped_textgrid.xmin = 0\n",
    "cropped_textgrid.xmax = intervals[-1].xmax - initial_second\n",
    "tier = textgrids.Tier()\n",
    "cropped_textgrid[file_name] = tier\n",
    "for interval in intervals:\n",
    "    if interval.xmin - initial_second >= 0:\n",
    "        tier.append(\n",
    "            textgrids.Interval(\n",
    "                interval.text,\n",
    "                interval.xmin - initial_second,\n",
    "                interval.xmax - initial_second\n",
    "            )\n",
    "        )\n",
    "\n",
    "cropped_textgrid.write(f\"cropped_{file_name}.TextGrid\")"
   ],
   "metadata": {
    "collapsed": false,
    "pycharm": {
     "name": "#%%\n"
    }
   }
  },
  {
   "cell_type": "code",
   "execution_count": null,
   "outputs": [],
   "source": [],
   "metadata": {
    "collapsed": false,
    "pycharm": {
     "name": "#%%\n"
    }
   }
  }
 ],
 "metadata": {
  "kernelspec": {
   "display_name": "Python 3",
   "language": "python",
   "name": "python3"
  },
  "language_info": {
   "codemirror_mode": {
    "name": "ipython",
    "version": 2
   },
   "file_extension": ".py",
   "mimetype": "text/x-python",
   "name": "python",
   "nbconvert_exporter": "python",
   "pygments_lexer": "ipython2",
   "version": "2.7.6"
  }
 },
 "nbformat": 4,
 "nbformat_minor": 0
}