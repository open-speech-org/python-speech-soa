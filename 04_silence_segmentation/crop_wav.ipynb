{
 "cells": [
  {
   "cell_type": "code",
   "execution_count": 3,
   "metadata": {
    "collapsed": true
   },
   "outputs": [],
   "source": [
    "import os\n",
    "from scipy.io import wavfile\n",
    "import textgrids"
   ]
  },
  {
   "cell_type": "code",
   "execution_count": 4,
   "outputs": [],
   "source": [
    "file_name = \"F_08_1\"\n",
    "frequency, signal = wavfile.read(\"F_08_1.wav\")\n",
    "text_grid = textgrids.TextGrid(f\"{file_name}.TextGrid\")"
   ],
   "metadata": {
    "collapsed": false,
    "pycharm": {
     "name": "#%%\n"
    }
   }
  },
  {
   "cell_type": "code",
   "execution_count": 21,
   "outputs": [],
   "source": [
    "AUDIOS_FOLDER = \"transformed_audios\"\n",
    "DEST_AUDIOS_FOLDER = \"cropped_audios\"\n",
    "TRANSCRIPTION_FOLDER = \"annotations\"\n",
    "DEST_TRANSCRIPTION_FOLDER = \"cropped_annotations\""
   ],
   "metadata": {
    "collapsed": false,
    "pycharm": {
     "name": "#%%\n"
    }
   }
  },
  {
   "cell_type": "code",
   "execution_count": 26,
   "outputs": [],
   "source": [
    "def crop_audio(file_name):\n",
    "    print(f\"Cropping file {file_name}\")\n",
    "    frequency, signal = wavfile.read(\n",
    "        os.path.join(\n",
    "            AUDIOS_FOLDER,\n",
    "            f\"{file_name}.wav\"\n",
    "        )\n",
    "    )\n",
    "    text_grid = textgrids.TextGrid(\n",
    "        os.path.join(\n",
    "            TRANSCRIPTION_FOLDER,\n",
    "            f\"{file_name}.TextGrid\"\n",
    "        )\n",
    "    )\n",
    "    intervals = text_grid[file_name]\n",
    "    initial_second = -1\n",
    "    end_second = signal.shape[-1] / frequency\n",
    "    for interval in intervals:\n",
    "        if interval.text == \"1\":\n",
    "            initial_second = interval.xmin\n",
    "        if interval.text == \"\" and initial_second > -1:\n",
    "            end_second = interval.xmax\n",
    "            break\n",
    "    cropped_signal = signal[int(initial_second*frequency):int(end_second*frequency)]\n",
    "    wavfile.write(\n",
    "        os.path.join(\n",
    "            DEST_AUDIOS_FOLDER,\n",
    "            f\"cropped_{file_name}.wav\"\n",
    "        ),\n",
    "        frequency,\n",
    "        cropped_signal\n",
    "    )\n",
    "    print(f\"File {file_name} cropped successfully\")\n",
    "\n",
    "    intervals = text_grid[file_name]\n",
    "    cropped_textgrid = textgrids.TextGrid()\n",
    "    cropped_textgrid.xmin = 0\n",
    "    cropped_textgrid.xmax = intervals[-1].xmax - initial_second\n",
    "    tier = textgrids.Tier()\n",
    "    cropped_textgrid[file_name] = tier\n",
    "    for interval in intervals:\n",
    "        if interval.xmin - initial_second >= 0:\n",
    "            tier.append(\n",
    "                textgrids.Interval(\n",
    "                    interval.text,\n",
    "                    interval.xmin - initial_second,\n",
    "                    interval.xmax - initial_second\n",
    "                )\n",
    "            )\n",
    "\n",
    "    cropped_textgrid.write(\n",
    "        os.path.join(\n",
    "            DEST_TRANSCRIPTION_FOLDER,\n",
    "            f\"cropped_{file_name}.TextGrid\"\n",
    "        )\n",
    "    )\n",
    "\n"
   ],
   "metadata": {
    "collapsed": false,
    "pycharm": {
     "name": "#%%\n"
    }
   }
  },
  {
   "cell_type": "code",
   "execution_count": 27,
   "outputs": [
    {
     "name": "stdout",
     "output_type": "stream",
     "text": [
      "F_74_1.TextGrid\n",
      "Cropping file F_74_1\n",
      "File F_74_1 cropped successfully\n",
      "M_28_1.TextGrid\n",
      "Cropping file M_28_1\n",
      "File M_28_1 cropped successfully\n",
      "F_63_1.TextGrid\n",
      "Cropping file F_63_1\n",
      "File F_63_1 cropped successfully\n",
      "F_64_1.TextGrid\n",
      "Cropping file F_64_1\n",
      "File F_64_1 cropped successfully\n",
      "F_56_1.TextGrid\n",
      "Cropping file F_56_1\n",
      "File F_56_1 cropped successfully\n",
      "F_52_1.TextGrid\n",
      "Cropping file F_52_1\n",
      "File F_52_1 cropped successfully\n",
      "F_27_1.TextGrid\n",
      "Cropping file F_27_1\n",
      "File F_27_1 cropped successfully\n",
      "M_42_1.TextGrid\n",
      "Cropping file M_42_1\n",
      "File M_42_1 cropped successfully\n",
      "F_61_1.TextGrid\n",
      "Cropping file F_61_1\n",
      "File F_61_1 cropped successfully\n",
      "M_30_1.TextGrid\n",
      "Cropping file M_30_1\n",
      "File M_30_1 cropped successfully\n",
      "M_05_1.TextGrid\n",
      "Cropping file M_05_1\n",
      "File M_05_1 cropped successfully\n",
      "M_74_1.TextGrid\n",
      "Cropping file M_74_1\n",
      "File M_74_1 cropped successfully\n",
      "M_19_1.TextGrid\n",
      "Cropping file M_19_1\n",
      "File M_19_1 cropped successfully\n",
      "M_55_1.TextGrid\n",
      "Cropping file M_55_1\n",
      "File M_55_1 cropped successfully\n",
      "F_73_1.TextGrid\n",
      "Cropping file F_73_1\n",
      "File F_73_1 cropped successfully\n",
      "F_38_1.TextGrid\n",
      "Cropping file F_38_1\n",
      "File F_38_1 cropped successfully\n",
      "M_21_1.TextGrid\n",
      "Cropping file M_21_1\n",
      "File M_21_1 cropped successfully\n",
      "F_13_1.TextGrid\n",
      "Cropping file F_13_1\n",
      "File F_13_1 cropped successfully\n",
      "F_30_1.TextGrid\n",
      "Cropping file F_30_1\n",
      "File F_30_1 cropped successfully\n",
      "F_54_1.TextGrid\n",
      "Cropping file F_54_1\n",
      "File F_54_1 cropped successfully\n",
      "F_71_1.TextGrid\n",
      "Cropping file F_71_1\n",
      "File F_71_1 cropped successfully\n",
      "M_01_1.TextGrid\n",
      "Cropping file M_01_1\n",
      "File M_01_1 cropped successfully\n",
      "F_47_1.TextGrid\n",
      "Cropping file F_47_1\n",
      "File F_47_1 cropped successfully\n",
      "M_72_1.TextGrid\n",
      "Cropping file M_72_1\n",
      "File M_72_1 cropped successfully\n",
      "F_60_1.TextGrid\n",
      "Cropping file F_60_1\n",
      "File F_60_1 cropped successfully\n",
      "M_73_1.TextGrid\n",
      "Cropping file M_73_1\n",
      "File M_73_1 cropped successfully\n",
      "F_69_1.TextGrid\n",
      "Cropping file F_69_1\n",
      "File F_69_1 cropped successfully\n",
      "F_59_1.TextGrid\n",
      "Cropping file F_59_1\n",
      "File F_59_1 cropped successfully\n",
      "M_45_1.TextGrid\n",
      "Cropping file M_45_1\n",
      "File M_45_1 cropped successfully\n",
      "F_33_1.TextGrid\n",
      "Cropping file F_33_1\n",
      "File F_33_1 cropped successfully\n",
      "M_41_1.TextGrid\n",
      "Cropping file M_41_1\n",
      "File M_41_1 cropped successfully\n",
      "F_10_1.TextGrid\n",
      "Cropping file F_10_1\n",
      "File F_10_1 cropped successfully\n",
      "M_70_1.TextGrid\n",
      "Cropping file M_70_1\n",
      "File M_70_1 cropped successfully\n",
      "F_44_1.TextGrid\n",
      "Cropping file F_44_1\n",
      "File F_44_1 cropped successfully\n",
      "M_66_1.TextGrid\n",
      "Cropping file M_66_1\n",
      "File M_66_1 cropped successfully\n",
      "M_04_1.TextGrid\n",
      "Cropping file M_04_1\n",
      "File M_04_1 cropped successfully\n",
      "M_15_1.TextGrid\n",
      "Cropping file M_15_1\n",
      "File M_15_1 cropped successfully\n",
      "F_55_1.TextGrid\n",
      "Cropping file F_55_1\n",
      "File F_55_1 cropped successfully\n",
      "F_40_1.TextGrid\n",
      "Cropping file F_40_1\n",
      "File F_40_1 cropped successfully\n",
      "F_08_1.TextGrid\n",
      "Cropping file F_08_1\n",
      "File F_08_1 cropped successfully\n",
      "F_34_1.TextGrid\n",
      "Cropping file F_34_1\n",
      "File F_34_1 cropped successfully\n",
      "M_63_1.TextGrid\n",
      "Cropping file M_63_1\n",
      "File M_63_1 cropped successfully\n",
      "F_66_1.TextGrid\n",
      "Cropping file F_66_1\n",
      "File F_66_1 cropped successfully\n",
      "M_67_1.TextGrid\n",
      "Cropping file M_67_1\n",
      "File M_67_1 cropped successfully\n",
      "M_38_1.TextGrid\n",
      "Cropping file M_38_1\n",
      "File M_38_1 cropped successfully\n",
      "M_61_1.TextGrid\n",
      "Cropping file M_61_1\n",
      "File M_61_1 cropped successfully\n",
      "F_48_1.TextGrid\n",
      "Cropping file F_48_1\n",
      "File F_48_1 cropped successfully\n",
      "M_71_1.TextGrid\n",
      "Cropping file M_71_1\n",
      "File M_71_1 cropped successfully\n",
      "M_11_1.TextGrid\n",
      "Cropping file M_11_1\n",
      "File M_11_1 cropped successfully\n",
      "M_27_1.TextGrid\n",
      "Cropping file M_27_1\n",
      "File M_27_1 cropped successfully\n",
      "F_29_1.TextGrid\n",
      "Cropping file F_29_1\n",
      "File F_29_1 cropped successfully\n",
      "F_50_1.TextGrid\n",
      "Cropping file F_50_1\n",
      "File F_50_1 cropped successfully\n",
      "M_68_1.TextGrid\n",
      "Cropping file M_68_1\n",
      "File M_68_1 cropped successfully\n",
      "M_06_1.TextGrid\n",
      "Cropping file M_06_1\n",
      "File M_06_1 cropped successfully\n",
      "M_13_1.TextGrid\n",
      "Cropping file M_13_1\n",
      "File M_13_1 cropped successfully\n",
      "F_19_1.TextGrid\n",
      "Cropping file F_19_1\n",
      "File F_19_1 cropped successfully\n",
      "M_47_1.TextGrid\n",
      "Cropping file M_47_1\n",
      "File M_47_1 cropped successfully\n",
      "F_70_1.TextGrid\n",
      "Cropping file F_70_1\n",
      "File F_70_1 cropped successfully\n"
     ]
    }
   ],
   "source": [
    "for file_name in os.listdir(TRANSCRIPTION_FOLDER):\n",
    "    print(file_name)\n",
    "    try:\n",
    "        crop_audio(\n",
    "            file_name.replace(\".TextGrid\", \"\")\n",
    "        )\n",
    "    except FileNotFoundError:\n",
    "        print(\"File not found on\", file_name)"
   ],
   "metadata": {
    "collapsed": false,
    "pycharm": {
     "name": "#%%\n"
    }
   }
  },
  {
   "cell_type": "code",
   "execution_count": 28,
   "outputs": [
    {
     "name": "stdout",
     "output_type": "stream",
     "text": [
      "Cropping file F_69_1\n",
      "File F_69_1 cropped successfully\n"
     ]
    }
   ],
   "source": [
    "crop_audio(\"F_69_1\")"
   ],
   "metadata": {
    "collapsed": false,
    "pycharm": {
     "name": "#%%\n"
    }
   }
  },
  {
   "cell_type": "code",
   "execution_count": null,
   "outputs": [],
   "source": [],
   "metadata": {
    "collapsed": false,
    "pycharm": {
     "name": "#%%\n"
    }
   }
  }
 ],
 "metadata": {
  "kernelspec": {
   "display_name": "Python 3",
   "language": "python",
   "name": "python3"
  },
  "language_info": {
   "codemirror_mode": {
    "name": "ipython",
    "version": 2
   },
   "file_extension": ".py",
   "mimetype": "text/x-python",
   "name": "python",
   "nbconvert_exporter": "python",
   "pygments_lexer": "ipython2",
   "version": "2.7.6"
  }
 },
 "nbformat": 4,
 "nbformat_minor": 0
}