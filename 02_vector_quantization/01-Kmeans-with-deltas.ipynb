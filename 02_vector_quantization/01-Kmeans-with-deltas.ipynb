{
 "cells": [
  {
   "cell_type": "markdown",
   "metadata": {},
   "source": []
  },
  {
   "cell_type": "code",
   "execution_count": 1,
   "metadata": {},
   "outputs": [],
   "source": [
    "import numpy as np\n",
    "from scipy.io import wavfile\n",
    "from scipy import signal\n",
    "from sklearn.cluster import KMeans\n",
    "import matplotlib.pyplot as plt\n",
    "from matplotlib.cm import get_cmap\n",
    "from python_speech_features import mfcc"
   ]
  },
  {
   "cell_type": "code",
   "execution_count": 2,
   "metadata": {},
   "outputs": [],
   "source": [
    "frequency, wave = wavfile.read(\"agua.wav\")\n",
    "transcription = \"agua\""
   ]
  },
  {
   "cell_type": "code",
   "execution_count": 3,
   "metadata": {},
   "outputs": [
    {
     "data": {
      "text/plain": [
       "(165, 13)"
      ]
     },
     "execution_count": 3,
     "metadata": {},
     "output_type": "execute_result"
    }
   ],
   "source": [
    "mfccs = mfcc(wave)\n",
    "mfccs.shape"
   ]
  },
  {
   "cell_type": "code",
   "execution_count": 4,
   "metadata": {},
   "outputs": [
    {
     "data": {
      "text/plain": [
       "(165, 26)"
      ]
     },
     "execution_count": 4,
     "metadata": {},
     "output_type": "execute_result"
    }
   ],
   "source": [
    "delta_with_convolve = lambda arr: signal.convolve(arr, np.array([-1,0,1]), 'valid', 'direct')/3\n",
    "delta_1 = np.apply_along_axis(delta_with_convolve, 0, mfccs)\n",
    "delta_with_initial_zero=np.insert(delta_1,0,0, axis=0)\n",
    "centered_deltas=np.insert(delta_with_initial_zero,delta_with_initial_zero.shape[0],0, axis=0)\n",
    "mfccs_and_deltas = np.concatenate((mfccs, centered_deltas), axis=1)\n",
    "mfccs_and_deltas.shape"
   ]
  },
  {
   "cell_type": "code",
   "execution_count": 5,
   "metadata": {},
   "outputs": [
    {
     "data": {
      "text/plain": [
       "4"
      ]
     },
     "execution_count": 5,
     "metadata": {},
     "output_type": "execute_result"
    }
   ],
   "source": [
    "num_clusters = len(set(transcription)) + 1\n",
    "num_clusters"
   ]
  },
  {
   "cell_type": "code",
   "execution_count": 6,
   "metadata": {},
   "outputs": [
    {
     "data": {
      "text/plain": [
       "array([[-2.81390686e+01, -4.52141359e+00, -1.89547447e+00,\n",
       "        -1.89091633e-02, -9.43077335e-01, -8.34804776e-02,\n",
       "         1.46557634e+00, -4.19029307e-01,  4.84225580e-01,\n",
       "        -8.26154664e-01, -8.57977761e-01,  1.11091497e+00,\n",
       "        -1.37310817e+00, -5.64213493e-01,  8.65786504e-02,\n",
       "         3.30953812e-01, -9.15781249e-03,  8.82760650e-02,\n",
       "         1.79615788e-01, -3.34955568e-02,  1.54684513e-01,\n",
       "        -1.03193436e-01, -4.38226721e-02,  1.45177939e-01,\n",
       "        -2.71429816e-02,  1.02407306e-01],\n",
       "       [ 1.78518910e+01,  2.61193066e+01, -1.43418073e+01,\n",
       "         8.79645474e+00, -2.46207085e+01, -2.67985251e+01,\n",
       "        -1.03715220e+00, -3.02706791e+01, -5.61417821e+00,\n",
       "         7.45900349e+00, -1.21891625e+01,  2.33364443e+00,\n",
       "        -5.36705574e+00, -2.30956221e-02, -1.87239241e-01,\n",
       "        -1.52297496e-01,  3.94491336e-01,  9.17015983e-01,\n",
       "         4.62252948e-01, -8.83279811e-01, -3.64846268e-01,\n",
       "         3.11292092e-01,  2.03762745e-01,  7.55876485e-01,\n",
       "         9.92396536e-02, -5.04032316e-01],\n",
       "       [ 1.44319191e+01,  1.30039535e+01, -4.20196919e+01,\n",
       "         1.05114570e+01, -1.54602750e+01, -1.34656300e+01,\n",
       "         1.51486602e+01, -2.11376057e+01, -1.06121237e+00,\n",
       "         2.86142813e+00, -1.32726307e+01,  2.80031225e+00,\n",
       "        -1.15408939e+01, -9.06950038e-02,  1.23564903e-01,\n",
       "         1.75624636e-01, -4.05111004e-01, -1.01065301e-01,\n",
       "        -7.09694816e-02,  1.54468158e-01,  1.38980352e-01,\n",
       "        -5.71239171e-03,  6.21902896e-02, -8.87557193e-02,\n",
       "        -9.36701765e-02, -1.58978748e-02],\n",
       "       [ 2.04890804e+01,  1.23639597e+01, -4.39597574e+01,\n",
       "        -5.33524723e+00, -2.66568341e+01,  1.39266502e+00,\n",
       "         3.64851970e+01, -2.17684277e+01, -1.09451091e+01,\n",
       "         3.33033017e+00, -1.89574680e+01, -4.12043433e+00,\n",
       "        -9.45009608e+00,  2.25422725e-03, -4.12195038e-01,\n",
       "         3.46913358e-01,  5.37121483e-02, -2.92333346e-01,\n",
       "        -1.58831981e-01,  8.80043662e-02,  1.89194295e-01,\n",
       "        -7.66565402e-03,  8.36503228e-02, -9.44143581e-02,\n",
       "         8.82440709e-02,  5.26090360e-01]])"
      ]
     },
     "execution_count": 6,
     "metadata": {},
     "output_type": "execute_result"
    }
   ],
   "source": [
    "kmeans = KMeans(n_clusters=num_clusters)\n",
    "resuls = kmeans.fit(mfccs_and_deltas)\n",
    "resuls.cluster_centers_"
   ]
  },
  {
   "cell_type": "code",
   "execution_count": 7,
   "metadata": {},
   "outputs": [
    {
     "data": {
      "text/plain": [
       "(4, 26)"
      ]
     },
     "execution_count": 7,
     "metadata": {},
     "output_type": "execute_result"
    }
   ],
   "source": [
    "resuls.cluster_centers_.shape"
   ]
  },
  {
   "cell_type": "code",
   "execution_count": 8,
   "metadata": {},
   "outputs": [
    {
     "data": {
      "text/plain": [
       "array([0, 0, 0, 0, 0, 0, 0, 0, 0, 0, 0, 0, 0, 0, 0, 0, 0, 0, 0, 0, 0, 0,\n",
       "       0, 0, 0, 0, 0, 0, 0, 0, 0, 0, 0, 0, 0, 0, 0, 0, 0, 0, 0, 0, 0, 0,\n",
       "       0, 0, 0, 0, 0, 0, 2, 2, 2, 2, 2, 2, 2, 2, 2, 2, 2, 2, 2, 2, 2, 2,\n",
       "       2, 2, 2, 2, 2, 2, 2, 2, 2, 2, 3, 3, 3, 3, 3, 3, 3, 3, 3, 3, 3, 3,\n",
       "       3, 3, 3, 3, 3, 2, 2, 2, 2, 2, 1, 1, 1, 1, 2, 2, 2, 2, 2, 1, 1, 1,\n",
       "       1, 1, 1, 1, 1, 1, 1, 1, 1, 1, 1, 1, 1, 1, 1, 1, 1, 1, 3, 3, 3, 3,\n",
       "       3, 3, 3, 3, 3, 3, 3, 3, 3, 3, 3, 3, 3, 3, 2, 2, 2, 2, 2, 2, 2, 2,\n",
       "       2, 2, 2, 2, 2, 2, 2, 2, 2, 2, 2], dtype=int32)"
      ]
     },
     "execution_count": 8,
     "metadata": {},
     "output_type": "execute_result"
    }
   ],
   "source": [
    "resuls.labels_"
   ]
  },
  {
   "cell_type": "code",
   "execution_count": 9,
   "metadata": {},
   "outputs": [
    {
     "data": {
      "text/plain": [
       "(165,)"
      ]
     },
     "execution_count": 9,
     "metadata": {},
     "output_type": "execute_result"
    }
   ],
   "source": [
    "resuls.labels_.shape"
   ]
  },
  {
   "cell_type": "code",
   "execution_count": 33,
   "metadata": {},
   "outputs": [
    {
     "data": {
      "text/plain": [
       "array([[1.46200e-03, 4.66000e-04, 1.38660e-02, 5.00000e-01],\n",
       "       [4.45163e-01, 1.22724e-01, 5.06901e-01, 5.00000e-01],\n",
       "       [9.44006e-01, 3.77643e-01, 3.65136e-01, 5.00000e-01],\n",
       "       [9.87053e-01, 9.91438e-01, 7.49504e-01, 5.00000e-01]])"
      ]
     },
     "execution_count": 33,
     "metadata": {},
     "output_type": "execute_result"
    }
   ],
   "source": [
    "magma = get_cmap(\"magma\")\n",
    "colors_array = magma(np.linspace(0,1,num_clusters))\n",
    "colors_array[:,-1] = 0.5\n",
    "color_array"
   ]
  },
  {
   "cell_type": "code",
   "execution_count": 35,
   "metadata": {},
   "outputs": [
    {
     "data": {
      "image/png": "[encoded data removed]",
      "text/plain": [
       "<Figure size 432x288 with 1 Axes>"
      ]
     },
     "metadata": {
      "needs_background": "light"
     },
     "output_type": "display_data"
    }
   ],
   "source": [
    "plt.pcolormesh(mfccs_and_deltas.T, cmap=get_cmap(\"coolwarm\"))\n",
    "current_label = 0\n",
    "current_index = 0\n",
    "for index, label in enumerate(resuls.labels_):\n",
    "    if label!= current_label:\n",
    "        plt.axvspan(current_index,index, color=color_array[current_label])\n",
    "        current_label = label\n",
    "        current_index = index\n",
    "        \n",
    "        "
   ]
  },
  {
   "cell_type": "code",
   "execution_count": 23,
   "metadata": {},
   "outputs": [
    {
     "data": {
      "text/plain": [
       "(0.987053, 0.991438, 0.749504, 1.0)"
      ]
     },
     "execution_count": 23,
     "metadata": {},
     "output_type": "execute_result"
    }
   ],
   "source": [
    "\n",
    "magma(2222222)"
   ]
  },
  {
   "cell_type": "code",
   "execution_count": null,
   "metadata": {},
   "outputs": [],
   "source": []
  }
 ],
 "metadata": {
  "kernelspec": {
   "display_name": "Python 3",
   "language": "python",
   "name": "python3"
  },
  "language_info": {
   "codemirror_mode": {
    "name": "ipython",
    "version": 3
   },
   "file_extension": ".py",
   "mimetype": "text/x-python",
   "name": "python",
   "nbconvert_exporter": "python",
   "pygments_lexer": "ipython3",
   "version": "3.8.0"
  }
 },
 "nbformat": 4,
 "nbformat_minor": 4
}
