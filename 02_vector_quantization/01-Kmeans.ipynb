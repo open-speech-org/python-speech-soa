{
 "cells": [
  {
   "cell_type": "markdown",
   "metadata": {},
   "source": []
  },
  {
   "cell_type": "code",
   "execution_count": 1,
   "metadata": {},
   "outputs": [],
   "source": [
    "import numpy as np\n",
    "from python_speech_features import mfcc\n",
    "from scipy.io import wavfile\n",
    "from sklearn.cluster import KMeans\n",
    "import matplotlib.pyplot as plt\n",
    "from matplotlib.cm import get_cmap"
   ]
  },
  {
   "cell_type": "code",
   "execution_count": 2,
   "metadata": {},
   "outputs": [],
   "source": [
    "frequency, wave = wavfile.read(\"agua.wav\")\n",
    "transcription = \"agua\""
   ]
  },
  {
   "cell_type": "code",
   "execution_count": 3,
   "metadata": {},
   "outputs": [
    {
     "data": {
      "text/plain": [
       "(165, 13)"
      ]
     },
     "execution_count": 3,
     "metadata": {},
     "output_type": "execute_result"
    }
   ],
   "source": [
    "mfccs = mfcc(wave)\n",
    "mfccs.shape"
   ]
  },
  {
   "cell_type": "code",
   "execution_count": 4,
   "metadata": {},
   "outputs": [
    {
     "data": {
      "text/plain": [
       "4"
      ]
     },
     "execution_count": 4,
     "metadata": {},
     "output_type": "execute_result"
    }
   ],
   "source": [
    "num_clusters = len(set(transcription)) + 1\n",
    "num_clusters"
   ]
  },
  {
   "cell_type": "code",
   "execution_count": 5,
   "metadata": {},
   "outputs": [
    {
     "data": {
      "text/plain": [
       "array([[ 1.78518910e+01,  2.61193066e+01, -1.43418073e+01,\n",
       "         8.79645474e+00, -2.46207085e+01, -2.67985251e+01,\n",
       "        -1.03715220e+00, -3.02706791e+01, -5.61417821e+00,\n",
       "         7.45900349e+00, -1.21891625e+01,  2.33364443e+00,\n",
       "        -5.36705574e+00],\n",
       "       [-2.81390686e+01, -4.52141359e+00, -1.89547447e+00,\n",
       "        -1.89091633e-02, -9.43077335e-01, -8.34804776e-02,\n",
       "         1.46557634e+00, -4.19029307e-01,  4.84225580e-01,\n",
       "        -8.26154664e-01, -8.57977761e-01,  1.11091497e+00,\n",
       "        -1.37310817e+00],\n",
       "       [ 1.44319191e+01,  1.30039535e+01, -4.20196919e+01,\n",
       "         1.05114570e+01, -1.54602750e+01, -1.34656300e+01,\n",
       "         1.51486602e+01, -2.11376057e+01, -1.06121237e+00,\n",
       "         2.86142813e+00, -1.32726307e+01,  2.80031225e+00,\n",
       "        -1.15408939e+01],\n",
       "       [ 2.04890804e+01,  1.23639597e+01, -4.39597574e+01,\n",
       "        -5.33524723e+00, -2.66568341e+01,  1.39266502e+00,\n",
       "         3.64851970e+01, -2.17684277e+01, -1.09451091e+01,\n",
       "         3.33033017e+00, -1.89574680e+01, -4.12043433e+00,\n",
       "        -9.45009608e+00]])"
      ]
     },
     "execution_count": 5,
     "metadata": {},
     "output_type": "execute_result"
    }
   ],
   "source": [
    "kmeans = KMeans(n_clusters=num_clusters)\n",
    "resuls = kmeans.fit(mfccs)\n",
    "resuls.cluster_centers_"
   ]
  },
  {
   "cell_type": "code",
   "execution_count": 6,
   "metadata": {},
   "outputs": [
    {
     "data": {
      "text/plain": [
       "(4, 13)"
      ]
     },
     "execution_count": 6,
     "metadata": {},
     "output_type": "execute_result"
    }
   ],
   "source": [
    "resuls.cluster_centers_.shape"
   ]
  },
  {
   "cell_type": "code",
   "execution_count": 7,
   "metadata": {},
   "outputs": [
    {
     "data": {
      "text/plain": [
       "array([1, 1, 1, 1, 1, 1, 1, 1, 1, 1, 1, 1, 1, 1, 1, 1, 1, 1, 1, 1, 1, 1,\n",
       "       1, 1, 1, 1, 1, 1, 1, 1, 1, 1, 1, 1, 1, 1, 1, 1, 1, 1, 1, 1, 1, 1,\n",
       "       1, 1, 1, 1, 1, 1, 2, 2, 2, 2, 2, 2, 2, 2, 2, 2, 2, 2, 2, 2, 2, 2,\n",
       "       2, 2, 2, 2, 2, 2, 2, 2, 2, 2, 3, 3, 3, 3, 3, 3, 3, 3, 3, 3, 3, 3,\n",
       "       3, 3, 3, 3, 3, 2, 2, 2, 2, 2, 0, 0, 0, 0, 2, 2, 2, 2, 2, 0, 0, 0,\n",
       "       0, 0, 0, 0, 0, 0, 0, 0, 0, 0, 0, 0, 0, 0, 0, 0, 0, 0, 3, 3, 3, 3,\n",
       "       3, 3, 3, 3, 3, 3, 3, 3, 3, 3, 3, 3, 3, 3, 2, 2, 2, 2, 2, 2, 2, 2,\n",
       "       2, 2, 2, 2, 2, 2, 2, 2, 2, 2, 2], dtype=int32)"
      ]
     },
     "execution_count": 7,
     "metadata": {},
     "output_type": "execute_result"
    }
   ],
   "source": [
    "resuls.labels_"
   ]
  },
  {
   "cell_type": "code",
   "execution_count": 8,
   "metadata": {},
   "outputs": [
    {
     "data": {
      "text/plain": [
       "(165,)"
      ]
     },
     "execution_count": 8,
     "metadata": {},
     "output_type": "execute_result"
    }
   ],
   "source": [
    "resuls.labels_.shape"
   ]
  },
  {
   "cell_type": "code",
   "execution_count": 9,
   "metadata": {},
   "outputs": [
    {
     "data": {
      "image/png": "[encoded data removed]",
      "text/plain": [
       "<Figure size 432x288 with 1 Axes>"
      ]
     },
     "metadata": {
      "needs_background": "light"
     },
     "output_type": "display_data"
    }
   ],
   "source": [
    "plt.pcolormesh(mfccs.T, cmap=get_cmap(\"coolwarm\"))\n",
    "current_label = 0\n",
    "for index, label in enumerate(resuls.labels_):\n",
    "    if label!= current_label:\n",
    "        current_label = label\n",
    "        plt.axvline(index)"
   ]
  },
  {
   "cell_type": "code",
   "execution_count": 10,
   "metadata": {},
   "outputs": [
    {
     "data": {
      "text/plain": [
       "array([[0.267004, 0.004874, 0.329415, 0.5     ],\n",
       "       [0.190631, 0.407061, 0.556089, 0.5     ],\n",
       "       [0.20803 , 0.718701, 0.472873, 0.5     ],\n",
       "       [0.993248, 0.906157, 0.143936, 0.5     ]])"
      ]
     },
     "execution_count": 10,
     "metadata": {},
     "output_type": "execute_result"
    }
   ],
   "source": [
    "magma = get_cmap(\"viridis\")\n",
    "colors_array = magma(np.linspace(0,1,num_clusters))\n",
    "colors_array[:,-1] = 0.5\n",
    "colors_array"
   ]
  },
  {
   "cell_type": "code",
   "execution_count": 14,
   "metadata": {},
   "outputs": [
    {
     "data": {
      "text/plain": [
       "161.35757575757575"
      ]
     },
     "execution_count": 14,
     "metadata": {},
     "output_type": "execute_result"
    }
   ],
   "source": [
    "wave_mfcc_ratio = wave.shape[0] / resuls.labels_.shape[0]\n",
    "wave_mfcc_ratio"
   ]
  },
  {
   "cell_type": "code",
   "execution_count": 17,
   "metadata": {},
   "outputs": [
    {
     "data": {
      "image/png": "[encoded data removed]",
      "text/plain": [
       "<Figure size 432x288 with 1 Axes>"
      ]
     },
     "metadata": {
      "needs_background": "light"
     },
     "output_type": "display_data"
    }
   ],
   "source": [
    "plt.plot(wave)\n",
    "current_label = 0\n",
    "current_index = 0\n",
    "for index, label in enumerate(resuls.labels_):\n",
    "    if label!= current_label:\n",
    "        plt.axvspan(current_index,index*wave_mfcc_ratio, color=colors_array[current_label])\n",
    "        current_label = label\n",
    "        current_index = index*wave_mfcc_ratio\n",
    "plt.axvspan(current_index,index*wave_mfcc_ratio, color=colors_array[current_label])\n",
    "plt.savefig(\"vq.png\")"
   ]
  },
  {
   "cell_type": "code",
   "execution_count": null,
   "metadata": {},
   "outputs": [],
   "source": []
  }
 ],
 "metadata": {
  "kernelspec": {
   "display_name": "Python 3",
   "language": "python",
   "name": "python3"
  },
  "language_info": {
   "codemirror_mode": {
    "name": "ipython",
    "version": 3
   },
   "file_extension": ".py",
   "mimetype": "text/x-python",
   "name": "python",
   "nbconvert_exporter": "python",
   "pygments_lexer": "ipython3",
   "version": "3.8.0"
  }
 },
 "nbformat": 4,
 "nbformat_minor": 4
}
